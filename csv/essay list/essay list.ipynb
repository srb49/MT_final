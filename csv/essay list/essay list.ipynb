{
 "cells": [
  {
   "attachments": {},
   "cell_type": "markdown",
   "metadata": {},
   "source": [
    "essay list=['essay on Alternative forms of transport to alleviate traffic congestion',\n",
    "            'essay on Giving aid to poorer countries has more negative effects than positive effect',\n",
    "            'essay on effects of globalization (decrease in global tension)','essay on Study at school or get a job?',\n",
    "            'essay on High sales reflect Power of Advertising and not the Real Need','essay on Gun control','essay on International sporting occasions help to ease international tensions',\n",
    "            'essay on technology that widen the gap between rich and poor?','essay on Why should human beings travel to outer space?',\n",
    "            'essay on Benefits of students doing extra jobs','essay on Benefits of students unpaid work',\n",
    "            'essay on Paying more money is the only motivation to make employees work harder','essay on Sporting events easing international tensions',\n",
    "            'essay on Government should make more effort to promote alternative sources of energy','essay on Should governments be responsible to help the unemployed and homeless',\n",
    "            'essay on True Function of A University','essay on zoos should be built to protect rural animals','essay on distance-learning vs. attending school in person',\n",
    "            'essay on Do modern communication technologies benefit all people','essay on Should high school make music lessons compulsory',\n",
    "            'essay on pros and cons of developments in agriculture','essay on advantages and disadvantages of the prevalent of English',\n",
    "            'essay on humans should be able to use animals for their own benefit?','essay on museums and art galleries will disappear soon?',\n",
    "            'essay on should teenagers learn all school subjects/focus on one subject','essay on Influence of English - advantages outweigh the disadvantages',\n",
    "            'essay on creativity-should it be given freedom or restrictions', 'essay on competition or co-operation-which is better','essay on capital punishment..necessary or not',\n",
    "            'essay on is a break good or bad after high school for students',\"essay on computers..use\",\"essay on should universities accept equal number of males/females or not\",\"people will spend less time on cooking food\",\n",
    "            \"essay on Traditional games or modern games in developing children's skills\",\"government shouldn't put money on building theaters or sports stadiums\",\n",
    "            \"Technology keeps traditional skills and ways of life alive or not?\",\"Creative Artists\",\"should goverment control media crime\",\n",
    "            \"essay on Nowadays there are more opportunities for women than there were in the past\",\"essay on Growing traffic & pollution can be controlled by increasing petrol prices\",\n",
    "            \"essay on should all the advertisements be banned?\",\"essay on Those who use drugs should be automatically sentenced to time in prison\",\n",
    "            \"essay on Is image more powerful than the written word?\",\"essay on Several languages are in danger of extinction\",\"Do arts and music improve the quality of life?\",\n",
    "            \"essay on Government should be responsible for education and health care or not?\",\"essay on zoos should be banned\",\"essay on economic development vs environment\",\"essay on Government should spend money on ARTs\",\n",
    "            \"essay on Keeping animals in zoos\",\"essay on Artists' freedom to express ideas\",\"essay on Advertising - positive or negative part of our lives\",\n",
    "            \"essay on The nuclear power provide clean and cheap energy\",\"essay on Giving mobile phones to the unemployed\",\"essay on Use of CCTV cameras\",\n",
    "            \"essay on teaching and researching working together lead to the success\",\"essay on Can petrol price increase impact on reducing traffic and pollution?\",\n",
    "            \"essay on Prefer to live in a small town rather than a city\",\"essay on Knowledge from experience is more important than that from books\",\n",
    "            \"essay on Solve traffic and housing problems by moving companies to the rural areas?\",\"essay on International tourism is now more common than ever before (for)\"]"
   ]
  },
  {
   "attachments": {},
   "cell_type": "markdown",
   "metadata": {},
   "source": [
    "\"essay on Air pollution\",\"essay on Advertisements affects on consumer goods\",\"essay on Young people should go to university or not\",\"essay on Effects of mobile phones\",\"essay on Should students be taught to compete or to cooperate?\",\n",
    "        \"essay on More people are migrating to other countries than ever before\",\"essay on effects of globalization (decrease in global tension)\",\"essay on International tourism is now more common than ever before (against)\",\n",
    "        \"essay on Living and studying overseas\",\"essay on Why you should exercise\",\"essay on Will newspapers become a thing of the past?\",\"essay on Technology cannot solve all the world's problems\",\n",
    "        \"essay on The Truth About Cannabis\",\"essay on The Non-Issue of Same Sex Marriage\",\"essay on Everyone Should Go Camping\",\"essay on Locker checks\",\"essay on Computer replace  man power in jobs\",\n",
    "        \"essay on Lessons with teachers versus others sources\",\"essay on Email and text messaging threats written language\",\"essay on Using animals for the benefit of the human beings\",\n",
    "        \"essay on Should rich countries help poor countries?\",\"essay on Gender Equality at university admission\",\"essay on Museums as a form of entertainment or education?\",\n",
    "        \"essay on computer has negative effects to children\",\"essay on Influence Of Large Factory\",\"essay on Prepared Food\",\"essay on Financial Aid To Developing Countries\",\"essay on Society should ban all forms of the advertising\",\"essay on Do married women usually work? Why and why not?\",\"essay on Government And Education\",\n",
    "        \"essay on should teenagers learn all school subjects/focus on one subject\",\"essay on Influence of English - advantages outweigh the disadvantages\",\n",
    "        \"essay on creativity-should it be given freedom or restrictions\",\"essay on competition or co-operation-which is better\",\"essay on capital punishment..necessary or not\",\n",
    "        \"essay on is a break good or bad after high school for students\",\"essay on Use of CCTV cameras\",'Nowadays, an increasing number of people are deciding to live on their own'"
   ]
  },
  {
   "attachments": {},
   "cell_type": "markdown",
   "metadata": {},
   "source": [
    "\"essay on Living in metropolises is bad for people's health ( Agree or Disagree ) \", essay on Do you agree or disagree that following news is a waste of time?"
   ]
  }
 ],
 "metadata": {
  "language_info": {
   "name": "python"
  },
  "orig_nbformat": 4
 },
 "nbformat": 4,
 "nbformat_minor": 2
}
