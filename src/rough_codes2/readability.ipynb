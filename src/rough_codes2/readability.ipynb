{
 "cells": [
  {
   "cell_type": "code",
   "execution_count": 2,
   "metadata": {},
   "outputs": [
    {
     "name": "stderr",
     "output_type": "stream",
     "text": [
      "[nltk_data] Downloading package punkt to /root/nltk_data...\n",
      "[nltk_data]   Package punkt is already up-to-date!\n",
      "[nltk_data] Downloading package punkt to /root/nltk_data...\n",
      "[nltk_data]   Package punkt is already up-to-date!\n",
      "[nltk_data] Downloading package stopwords to /root/nltk_data...\n",
      "[nltk_data]   Package stopwords is already up-to-date!\n",
      "[nltk_data] Downloading package wordnet to /root/nltk_data...\n",
      "[nltk_data]   Package wordnet is already up-to-date!\n"
     ]
    }
   ],
   "source": [
    "import pandas as pd\n",
    "import spacy\n",
    "nlp = spacy.load(\"en_core_web_lg\")\n",
    "import statistics\n",
    "import nltk\n",
    "nltk.download('punkt')\n",
    "from nltk.tokenize import sent_tokenize\n",
    "from nltk.tokenize import word_tokenize\n",
    "import collections\n",
    "from collections import Counter\n",
    "import re\n",
    "import language_tool_python  \n",
    "from nltk.tokenize import sent_tokenize\n",
    "import textstat\n",
    "nltk.download(\"punkt\")\n",
    "nltk.download(\"stopwords\")\n",
    "nltk.download(\"wordnet\")\n",
    "from nltk.corpus import stopwords\n",
    "from nltk.tokenize import word_tokenize\n",
    "from nltk.stem import WordNetLemmatizer\n",
    "import math\n",
    "from nltk.sentiment import SentimentIntensityAnalyzer\n",
    "import language_tool_python"
   ]
  },
  {
   "cell_type": "code",
   "execution_count": 4,
   "metadata": {},
   "outputs": [],
   "source": [
    "df1 = pd.read_csv('../csv/gpt/csv_gpt3-2.csv')\n",
    "df2 = pd.read_csv('../csv/human/csv_human-2.csv')\n",
    "ess1=df1.loc[:,'essay']\n",
    "ess2=df2.loc[:,'essay']"
   ]
  },
  {
   "cell_type": "code",
   "execution_count": 3,
   "metadata": {},
   "outputs": [],
   "source": [
    "def calculate_readability(text):\n",
    "    # Calculate the Flesch-Kincaid Grade Level\n",
    "    flesch_grade_r = textstat.flesch_reading_ease(text)\n",
    "    return flesch_grade_r"
   ]
  },
  {
   "cell_type": "code",
   "execution_count": 5,
   "metadata": {},
   "outputs": [],
   "source": [
    "fgr1=[]\n",
    "fgr2=[]\n",
    "for i in range(len(ess1)):\n",
    "    #print(\"#########################   gpt\")\n",
    "    fg1=calculate_readability(ess1[i])\n",
    "    fgr1.append(fg1)\n",
    "    #print(\"########################    human\")\n",
    "    fg2=calculate_readability(ess2[i])\n",
    "    fgr2.append(fg2)"
   ]
  },
  {
   "cell_type": "code",
   "execution_count": 6,
   "metadata": {},
   "outputs": [
    {
     "data": {
      "image/png": "[encoded data removed]",
      "text/plain": [
       "<Figure size 1000x500 with 1 Axes>"
      ]
     },
     "metadata": {},
     "output_type": "display_data"
    }
   ],
   "source": [
    "import seaborn as sns\n",
    "import matplotlib.pyplot as plt\n",
    "\n",
    "\n",
    "# Combine the data into a single DataFrame (optional but can be helpful for labeling)\n",
    "import pandas as pd\n",
    "\n",
    "data1 = pd.DataFrame({'gpt': fgr1, 'human': fgr2})\n",
    "\n",
    "# Create the box plot with custom colors\n",
    "colors = [\"skyblue\", \"pink\"]\n",
    "medianprops = {'color': 'orange', 'linewidth': 1}\n",
    "flierprops = {'marker': 'o', 'markerfacecolor': 'none', 'markeredgecolor': 'black', 'markersize': 6}\n",
    "\n",
    "plt.subplots(figsize=(10,5))\n",
    "sns.set(style=\"whitegrid\")\n",
    "sns.boxplot(data=data1, palette=colors, width=0.5, medianprops=medianprops, flierprops=flierprops)\n",
    "\n",
    "plt.xlabel(\"Essay groups\")\n",
    "plt.ylabel(\"max_occurrence_ngrams\")\n",
    "plt.title(\"Box Plot comparison\")\n",
    "plt.grid(axis=\"y\", linestyle=\"--\", alpha=0.7)\n",
    "\n",
    "plt.show()"
   ]
  },
  {
   "cell_type": "markdown",
   "metadata": {},
   "source": [
    "automated readability index"
   ]
  },
  {
   "cell_type": "code",
   "execution_count": 1,
   "metadata": {},
   "outputs": [
    {
     "name": "stdout",
     "output_type": "stream",
     "text": [
      "/bin/bash: /root/MT/es_env/bin/pip: /root/es/es_env/bin/python3: bad interpreter: No such file or directory\n"
     ]
    }
   ],
   "source": [
    "!pip install py-readability-metrics"
   ]
  },
  {
   "cell_type": "code",
   "execution_count": 3,
   "metadata": {},
   "outputs": [
    {
     "name": "stdout",
     "output_type": "stream",
     "text": [
      "/opt/conda/envs/myenv/lib/python3.9/runpy.py:127: RuntimeWarning: 'nltk.downloader' found in sys.modules after import of package 'nltk', but prior to execution of 'nltk.downloader'; this may result in unpredictable behaviour\n",
      "  warn(RuntimeWarning(msg))\n",
      "[nltk_data] Downloading package punkt to /root/nltk_data...\n",
      "[nltk_data]   Package punkt is already up-to-date!\n"
     ]
    }
   ],
   "source": [
    "!python -m nltk.downloader punkt"
   ]
  },
  {
   "cell_type": "code",
   "execution_count": 7,
   "metadata": {},
   "outputs": [],
   "source": [
    "def ari(str):\n",
    "    ari = textstat.automated_readability_index(str)\n",
    "    return ari"
   ]
  },
  {
   "cell_type": "code",
   "execution_count": 8,
   "metadata": {},
   "outputs": [],
   "source": [
    "ar1=[]\n",
    "ar2=[]\n",
    "for i in range(len(ess1)):\n",
    "    #print(\"#########################   gpt\")\n",
    "    a1=ari(ess1[i])\n",
    "    ar1.append(a1)\n",
    "    #print(\"########################    human\")\n",
    "    a2=ari(ess2[i])\n",
    "    ar2.append(a2)"
   ]
  },
  {
   "cell_type": "code",
   "execution_count": 9,
   "metadata": {},
   "outputs": [
    {
     "data": {
      "text/plain": [
       "[13.9,\n",
       " 14.4,\n",
       " 16.0,\n",
       " 15.1,\n",
       " 14.3,\n",
       " 13.7,\n",
       " 19.2,\n",
       " 15.3,\n",
       " 13.2,\n",
       " 15.5,\n",
       " 15.2,\n",
       " 15.8,\n",
       " 15.8,\n",
       " 16.7,\n",
       " 15.4,\n",
       " 15.5,\n",
       " 16.6,\n",
       " 15.0,\n",
       " 15.8,\n",
       " 14.0,\n",
       " 16.0,\n",
       " 14.6,\n",
       " 12.8,\n",
       " 15.4,\n",
       " 12.7,\n",
       " 17.4,\n",
       " 14.6,\n",
       " 16.6,\n",
       " 16.9,\n",
       " 15.7,\n",
       " 14.7,\n",
       " 16.4,\n",
       " 14.0,\n",
       " 14.8,\n",
       " 15.2,\n",
       " 14.2,\n",
       " 14.8,\n",
       " 14.6,\n",
       " 15.0,\n",
       " 15.8,\n",
       " 11.9,\n",
       " 14.0,\n",
       " 13.3,\n",
       " 15.8,\n",
       " 15.0,\n",
       " 18.4,\n",
       " 14.1,\n",
       " 16.2,\n",
       " 17.5,\n",
       " 15.7,\n",
       " 11.6,\n",
       " 15.2,\n",
       " 12.5,\n",
       " 14.0,\n",
       " 15.5,\n",
       " 17.3,\n",
       " 12.9,\n",
       " 14.8,\n",
       " 13.9,\n",
       " 18.5,\n",
       " 16.3,\n",
       " 16.1,\n",
       " 13.6,\n",
       " 13.7,\n",
       " 15.8,\n",
       " 13.9,\n",
       " 14.8,\n",
       " 14.5,\n",
       " 14.2,\n",
       " 15.7,\n",
       " 14.4,\n",
       " 13.5,\n",
       " 12.6,\n",
       " 16.7,\n",
       " 16.6,\n",
       " 16.8,\n",
       " 13.2,\n",
       " 16.4,\n",
       " 13.3,\n",
       " 18.3,\n",
       " 14.6,\n",
       " 13.6,\n",
       " 15.3,\n",
       " 15.1,\n",
       " 16.4,\n",
       " 14.4,\n",
       " 14.0,\n",
       " 16.1,\n",
       " 14.6,\n",
       " 13.1,\n",
       " 16.0,\n",
       " 16.6,\n",
       " 13.9,\n",
       " 16.8,\n",
       " 19.3,\n",
       " 16.4,\n",
       " 18.3,\n",
       " 16.0,\n",
       " 18.8,\n",
       " 17.5,\n",
       " 15.4,\n",
       " 17.3,\n",
       " 17.1,\n",
       " 15.7,\n",
       " 16.7,\n",
       " 16.8,\n",
       " 15.7,\n",
       " 15.4,\n",
       " 14.5,\n",
       " 15.4,\n",
       " 16.3,\n",
       " 18.1,\n",
       " 18.8,\n",
       " 17.3,\n",
       " 16.9,\n",
       " 14.6,\n",
       " 14.8,\n",
       " 15.4,\n",
       " 15.4,\n",
       " 14.4,\n",
       " 16.4,\n",
       " 17.2,\n",
       " 16.7,\n",
       " 16.8,\n",
       " 15.6,\n",
       " 16.4,\n",
       " 16.9,\n",
       " 18.1,\n",
       " 15.2,\n",
       " 17.5,\n",
       " 17.3,\n",
       " 16.6,\n",
       " 17.2,\n",
       " 16.9,\n",
       " 16.2,\n",
       " 16.0,\n",
       " 17.1,\n",
       " 15.5,\n",
       " 17.2,\n",
       " 17.4,\n",
       " 16.1,\n",
       " 17.7,\n",
       " 17.8,\n",
       " 17.3,\n",
       " 18.3,\n",
       " 17.3,\n",
       " 14.7,\n",
       " 19.2,\n",
       " 15.2,\n",
       " 17.0]"
      ]
     },
     "execution_count": 9,
     "metadata": {},
     "output_type": "execute_result"
    }
   ],
   "source": [
    "ar1"
   ]
  }
 ],
 "metadata": {
  "kernelspec": {
   "display_name": "es_env",
   "language": "python",
   "name": "python3"
  },
  "language_info": {
   "codemirror_mode": {
    "name": "ipython",
    "version": 3
   },
   "file_extension": ".py",
   "mimetype": "text/x-python",
   "name": "python",
   "nbconvert_exporter": "python",
   "pygments_lexer": "ipython3",
   "version": "3.9.12"
  }
 },
 "nbformat": 4,
 "nbformat_minor": 2
}
