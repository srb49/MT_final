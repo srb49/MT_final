{
 "cells": [
  {
   "attachments": {},
   "cell_type": "markdown",
   "metadata": {},
   "source": [
    "Word frequency"
   ]
  },
  {
   "cell_type": "code",
   "execution_count": 2,
   "metadata": {},
   "outputs": [],
   "source": [
    "import spacy\n",
    "from collections import Counter"
   ]
  },
  {
   "cell_type": "code",
   "execution_count": 27,
   "metadata": {},
   "outputs": [],
   "source": [
    "filename = input('Enter a filename: ')\n",
    "with open('input/'+filename, 'r') as file:\n",
    " data = file.read()"
   ]
  },
  {
   "cell_type": "code",
   "execution_count": 28,
   "metadata": {},
   "outputs": [],
   "source": [
    "import spacy\n",
    "nlp = spacy.load(\"en_core_web_lg\")"
   ]
  },
  {
   "cell_type": "code",
   "execution_count": 29,
   "metadata": {},
   "outputs": [],
   "source": [
    "str1=\" \".join(data.split())"
   ]
  },
  {
   "cell_type": "code",
   "execution_count": 30,
   "metadata": {},
   "outputs": [],
   "source": [
    "str2=''\n",
    "doc = nlp(str1)\n",
    "for token in doc:\n",
    "    #print(token,\"=Lemma=>\", token.lemma_)\n",
    "    str2=str2+\" \"+token.lemma_"
   ]
  },
  {
   "cell_type": "code",
   "execution_count": 31,
   "metadata": {},
   "outputs": [
    {
     "name": "stdout",
     "output_type": "stream",
     "text": [
      " it be true that more people be migrate to other country than ever before , due to a variety of reason such as economic opportunity , political instability , and persecution . as immigrant settle in their adopt country , it be important for they to become integrate into society in order to lead successful and fulfil life . one approach to integration be for immigrant to abandon their old way and fully adapt to local custom and code of behavior . this approach hold that immigrant should fully embrace the culture of their new country and leave behind their traditional custom and practice . however , I disagree with this approach . while it be important for immigrant to be respectful of the culture and custom of their new country , it be also important for they to maintain their own cultural identity . abandon one 's old way and fully adapt to local custom can lead to feeling of alienation and loss of self . a well approach would be for immigrant to find a balance between maintain their own cultural identity and integrate into their new society . this can involve learn and understand local custom and code of behavior , while also share their own cultural practice and tradition with their new community . this can foster mutual understanding and respect , and can ultimately lead to a more harmonious and inclusive society . in conclusion , while it be important for immigrant to become integrate into their adopt country , it be not necessary for they to completely abandon their old way and fully adapt to local custom and code of behavior . find a balance between maintain one 's cultural identity and integrate into the new society be a more effective approach for foster mutual understanding and respect .\n"
     ]
    }
   ],
   "source": [
    "print(str2)"
   ]
  },
  {
   "cell_type": "code",
   "execution_count": 32,
   "metadata": {},
   "outputs": [],
   "source": [
    "str2=\" \".join(str2.split())\n",
    "doc1 = nlp(str2)\n",
    "words = [token.text for token in doc1 if token.is_stop != True and token.is_punct != True]"
   ]
  },
  {
   "cell_type": "code",
   "execution_count": null,
   "metadata": {},
   "outputs": [],
   "source": [
    "words"
   ]
  },
  {
   "cell_type": "code",
   "execution_count": 33,
   "metadata": {},
   "outputs": [
    {
     "name": "stdout",
     "output_type": "stream",
     "text": [
      "=====WORD FREQUENCY=====\n",
      "Counter({'immigrant': 6, 'custom': 6, 'country': 5, 'approach': 5, 'new': 5, 'important': 4, 'integrate': 4, 'society': 4, 'fully': 4, 'local': 4, 'cultural': 4, 'lead': 3, 'abandon': 3, 'old': 3, 'way': 3, 'adapt': 3, 'code': 3, 'behavior': 3, 'maintain': 3, 'identity': 3, 'adopt': 2, 'culture': 2, 'practice': 2, 'find': 2, 'balance': 2, 'foster': 2, 'mutual': 2, 'understanding': 2, 'respect': 2, 'true': 1, 'people': 1, 'migrate': 1, 'variety': 1, 'reason': 1, 'economic': 1, 'opportunity': 1, 'political': 1, 'instability': 1, 'persecution': 1, 'settle': 1, 'order': 1, 'successful': 1, 'fulfil': 1, 'life': 1, 'integration': 1, 'hold': 1, 'embrace': 1, 'leave': 1, 'traditional': 1, 'disagree': 1, 'respectful': 1, 'feeling': 1, 'alienation': 1, 'loss': 1, 'self': 1, 'involve': 1, 'learn': 1, 'understand': 1, 'share': 1, 'tradition': 1, 'community': 1, 'ultimately': 1, 'harmonious': 1, 'inclusive': 1, 'conclusion': 1, 'necessary': 1, 'completely': 1, 'effective': 1})\n"
     ]
    },
    {
     "data": {
      "text/plain": [
       "'\\ncommon_words = word_freq.most_common(5)\\nprint (\"\\n\\n====TOP 5 words ===\")\\nprint (common_words)\\n'"
      ]
     },
     "execution_count": 33,
     "metadata": {},
     "output_type": "execute_result"
    }
   ],
   "source": [
    "word_freq = Counter(words)\n",
    "print (\"=====WORD FREQUENCY=====\")\n",
    "print (word_freq)\n",
    "'''\n",
    "common_words = word_freq.most_common(5)\n",
    "print (\"\\n\\n====TOP 5 words ===\")\n",
    "print (common_words)\n",
    "'''"
   ]
  },
  {
   "attachments": {},
   "cell_type": "markdown",
   "metadata": {},
   "source": [
    "final word freq of AI-gen text"
   ]
  },
  {
   "cell_type": "code",
   "execution_count": null,
   "metadata": {},
   "outputs": [],
   "source": []
  }
 ],
 "metadata": {
  "kernelspec": {
   "display_name": "myenv",
   "language": "python",
   "name": "python3"
  },
  "language_info": {
   "codemirror_mode": {
    "name": "ipython",
    "version": 3
   },
   "file_extension": ".py",
   "mimetype": "text/x-python",
   "name": "python",
   "nbconvert_exporter": "python",
   "pygments_lexer": "ipython3",
   "version": "3.9.12"
  },
  "orig_nbformat": 4,
  "vscode": {
   "interpreter": {
    "hash": "266e07f64aa3f1afd9991a0b824d04fa241a0ccb3b0a1eb69e96cbe416527717"
   }
  }
 },
 "nbformat": 4,
 "nbformat_minor": 2
}
