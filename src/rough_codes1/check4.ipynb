{
 "cells": [
  {
   "attachments": {},
   "cell_type": "markdown",
   "metadata": {},
   "source": [
    "spelling check"
   ]
  },
  {
   "cell_type": "code",
   "execution_count": 2,
   "metadata": {},
   "outputs": [],
   "source": [
    "import re\n",
    "import spacy"
   ]
  },
  {
   "cell_type": "code",
   "execution_count": 1,
   "metadata": {},
   "outputs": [
    {
     "name": "stdout",
     "output_type": "stream",
     "text": [
      "computer\n",
      "water\n",
      "write\n"
     ]
    }
   ],
   "source": [
    "from spellchecker import SpellChecker\n",
    " \n",
    "spell = SpellChecker()\n",
    " \n",
    "# find those words that may be misspelled\n",
    "misspelled = spell.unknown([\"cmputr\", \"watr\", \"study\", \"wrte\"])\n",
    "i=0 \n",
    "for word in misspelled:\n",
    "    # Get the one `most likely` answer\n",
    "    print(spell.correction(word))\n",
    " \n",
    "    # Get a list of `likely` options\n",
    "    #print(spell.candidates(word))\n",
    "    if(spell.correction(word)!=word):\n",
    "        i+=1"
   ]
  },
  {
   "cell_type": "code",
   "execution_count": 3,
   "metadata": {},
   "outputs": [],
   "source": [
    "def apostrophe_filter(word):\n",
    "    return word.replace(\"'\", \"\")\n",
    "filename = input('Enter a filename: ')\n",
    "with open('human/'+filename, 'r') as file:\n",
    " data = file.read()\n",
    "\n",
    "s=\" \".join(data.split())\n",
    "s=s.replace(\"'s\",'')\n",
    "s = re.sub('[^a-zA-Z0-9\\s]', '', s)\n",
    "#s = re.sub('[A-Za-z\\']+(?:\\`[A-Za-z]+)?', ' ', data)\n",
    "\n",
    "#list = [apostrophe_filter(word) for word in s.split()]\n",
    "#list= s.split(\" \")"
   ]
  },
  {
   "cell_type": "code",
   "execution_count": 24,
   "metadata": {},
   "outputs": [
    {
     "data": {
      "text/plain": [
       "'The debate over whether students should be taught to compete or to cooperate is a complex one that has been ongoing for many years On one hand there are those who argue that competition is an important aspect of education and that it helps to prepare students for the real world On the other hand there are those who argue that cooperation is just as important if not more so and that it helps to foster a sense of community and teamwork among students One of the main arguments in favor of teaching students to compete is that it helps to prepare them for the real world In many professional fields competition is a constant and necessary aspect of success By encouraging students to compete with one another in a safe and controlled environment they can learn how to handle the stress and pressure of competition as well as develop the skills they need to succeed in their chosen profession Additionally competition can help students to push themselves to be their best and to strive for excellence However there are also many arguments in favor of teaching students to cooperate Cooperation is an essential skill in today world where teamwork and collaboration are increasingly important in the workplace By learning to work well with others students can develop the skills they need to be successful in a wide range of fields from business to science and technology Additionally cooperation can help to foster a sense of community and belonging among students which can be especially important for those who may feel isolated or out of place in a competitive environment Ultimately the decision of whether to teach students to compete or to cooperate is a complex one that will likely depend on a variety of factors including the individual student the school or program in question and the field in which the student hopes to eventually work Some students may thrive in a competitive environment while others may do better in a cooperative one In conclusion both competition and cooperation are important aspects of education and have their own advantages Instead of choosing one over the other a balance of both should be encouraged It is essential to teach students to compete in a healthy and positive way while also learning to work well with others By providing students with the opportunity to develop both competitive and cooperative skills educators can better prepare them for success in the real world'"
      ]
     },
     "execution_count": 24,
     "metadata": {},
     "output_type": "execute_result"
    }
   ],
   "source": [
    "s"
   ]
  },
  {
   "cell_type": "code",
   "execution_count": 4,
   "metadata": {},
   "outputs": [],
   "source": [
    "list= s.split(\" \")"
   ]
  },
  {
   "cell_type": "code",
   "execution_count": 10,
   "metadata": {},
   "outputs": [
    {
     "name": "stdout",
     "output_type": "stream",
     "text": [
      "['the', 'debate', 'over', 'whether', 'student', 'should', 'be', 'teach', 'to', 'compete', 'or', 'to', 'cooperate', 'be', 'a', 'complex', 'one', 'that', 'have', 'be', 'ongoing', 'for', 'many', 'year', 'on', 'one', 'hand', 'there', 'be', 'those', 'who', 'argue', 'that', 'competition', 'be', 'an', 'important', 'aspect', 'of', 'education', 'and', 'that', 'it', 'help', 'to', 'prepare', 'student', 'for', 'the', 'real', 'world', 'on', 'the', 'other', 'hand', 'there', 'be', 'those', 'who', 'argue', 'that', 'cooperation', 'be', 'just', 'as', 'important', 'if', 'not', 'more', 'so', 'and', 'that', 'it', 'help', 'to', 'foster', 'a', 'sense', 'of', 'community', 'and', 'teamwork', 'among', 'student', '\\n', 'one', 'of', 'the', 'main', 'argument', 'in', 'favor', 'of', 'teach', 'student', 'to', 'compete', 'be', 'that', 'it', 'help', 'to', 'prepare', 'they', 'for', 'the', 'real', 'world', 'in', 'many', 'professional', 'field', 'competition', 'be', 'a', 'constant', 'and', 'necessary', 'aspect', 'of', 'success', 'by', 'encourage', 'student', 'to', 'compete', 'with', 'one', 'another', 'in', 'a', 'safe', 'and', 'control', 'environment', 'they', 'can', 'learn', 'how', 'to', 'handle', 'the', 'stress', 'and', 'pressure', 'of', 'competition', 'as', 'well', 'as', 'develop', 'the', 'skill', 'they', 'need', 'to', 'succeed', 'in', 'their', 'choose', 'profession', 'additionally', 'competition', 'can', 'help', 'student', 'to', 'push', 'themselves', 'to', 'be', 'their', 'good', 'and', 'to', 'strive', 'for', 'excellence', '\\n', 'however', 'there', 'be', 'also', 'many', 'argument', 'in', 'favor', 'of', 'teach', 'student', 'to', 'cooperate', 'Cooperation', 'be', 'an', 'essential', 'skill', 'in', 'todays', 'world', 'where', 'teamwork', 'and', 'collaboration', 'be', 'increasingly', 'important', 'in', 'the', 'workplace', 'by', 'learn', 'to', 'work', 'well', 'with', 'other', 'student', 'can', 'develop', 'the', 'skill', 'they', 'need', 'to', 'be', 'successful', 'in', 'a', 'wide', 'range', 'of', 'field', 'from', 'business', 'to', 'science', 'and', 'technology', 'additionally', 'cooperation', 'can', 'help', 'to', 'foster', 'a', 'sense', 'of', 'community', 'and', 'belong', 'among', 'student', 'which', 'can', 'be', 'especially', 'important', 'for', 'those', 'who', 'may', 'feel', 'isolated', 'or', 'out', 'of', 'place', 'in', 'a', 'competitive', 'environment', '\\n', 'ultimately', 'the', 'decision', 'of', 'whether', 'to', 'teach', 'student', 'to', 'compete', 'or', 'to', 'cooperate', 'be', 'a', 'complex', 'one', 'that', 'will', 'likely', 'depend', 'on', 'a', 'variety', 'of', 'factor', 'include', 'the', 'individual', 'student', 'the', 'school', 'or', 'program', 'in', 'question', 'and', 'the', 'field', 'in', 'which', 'the', 'student', 'hope', 'to', 'eventually', 'work', 'some', 'student', 'may', 'thrive', 'in', 'a', 'competitive', 'environment', 'while', 'other', 'may', 'do', 'well', 'in', 'a', 'cooperative', 'one', '\\n', 'in', 'conclusion', 'both', 'competition', 'and', 'cooperation', 'be', 'important', 'aspect', 'of', 'education', 'and', 'have', 'their', 'own', 'advantage', 'instead', 'of', 'choose', 'one', 'over', 'the', 'other', 'a', 'balance', 'of', 'both', 'should', 'be', 'encourage', 'it', 'be', 'essential', 'to', 'teach', 'student', 'to', 'compete', 'in', 'a', 'healthy', 'and', 'positive', 'way', 'while', 'also', 'learn', 'to', 'work', 'well', 'with', 'other', 'by', 'provide', 'student', 'with', 'the', 'opportunity', 'to', 'develop', 'both', 'competitive', 'and', 'cooperative', 'skill', 'educator', 'can', 'well', 'prepare', 'they', 'for', 'success', 'in', 'the', 'real', 'world', '\\n\\n']\n"
     ]
    }
   ],
   "source": [
    "nlp=spacy.load(\"en_core_web_lg\")\n",
    "# Create a Doc object\n",
    "doc = nlp(s)\n",
    "\n",
    "# Generate the tokens\n",
    "tokens = [token.lemma_ for token in doc]\n",
    "print(tokens)"
   ]
  },
  {
   "cell_type": "code",
   "execution_count": 9,
   "metadata": {},
   "outputs": [
    {
     "name": "stdout",
     "output_type": "stream",
     "text": [
      "['the', 'debate', 'over', 'whether', 'student', 'should', 'be', 'teach', 'to', 'compete', 'or', 'to', 'cooperate', 'be', 'a', 'complex', 'one', 'that', 'have', 'be', 'ongoing', 'for', 'many', 'year', '.', 'on', 'one', 'hand', ',', 'there', 'be', 'those', 'who', 'argue', 'that', 'competition', 'be', 'an', 'important', 'aspect', 'of', 'education', 'and', 'that', 'it', 'help', 'to', 'prepare', 'student', 'for', 'the', 'real', 'world', '.', 'on', 'the', 'other', 'hand', ',', 'there', 'be', 'those', 'who', 'argue', 'that', 'cooperation', 'be', 'just', 'as', 'important', ',', 'if', 'not', 'more', 'so', ',', 'and', 'that', 'it', 'help', 'to', 'foster', 'a', 'sense', 'of', 'community', 'and', 'teamwork', 'among', 'student', '.', '\\n', 'one', 'of', 'the', 'main', 'argument', 'in', 'favor', 'of', 'teach', 'student', 'to', 'compete', 'be', 'that', 'it', 'help', 'to', 'prepare', 'they', 'for', 'the', 'real', 'world', '.', 'in', 'many', 'professional', 'field', ',', 'competition', 'be', 'a', 'constant', 'and', 'necessary', 'aspect', 'of', 'success', '.', 'by', 'encourage', 'student', 'to', 'compete', 'with', 'one', 'another', 'in', 'a', 'safe', 'and', 'control', 'environment', ',', 'they', 'can', 'learn', 'how', 'to', 'handle', 'the', 'stress', 'and', 'pressure', 'of', 'competition', ',', 'as', 'well', 'as', 'develop', 'the', 'skill', 'they', 'need', 'to', 'succeed', 'in', 'their', 'choose', 'profession', '.', 'additionally', ',', 'competition', 'can', 'help', 'student', 'to', 'push', 'themselves', 'to', 'be', 'their', 'good', 'and', 'to', 'strive', 'for', 'excellence', '.', '\\n', 'however', ',', 'there', 'be', 'also', 'many', 'argument', 'in', 'favor', 'of', 'teach', 'student', 'to', 'cooperate', '.', 'cooperation', 'be', 'an', 'essential', 'skill', 'in', 'today', \"'s\", 'world', ',', 'where', 'teamwork', 'and', 'collaboration', 'be', 'increasingly', 'important', 'in', 'the', 'workplace', '.', 'by', 'learn', 'to', 'work', 'well', 'with', 'other', ',', 'student', 'can', 'develop', 'the', 'skill', 'they', 'need', 'to', 'be', 'successful', 'in', 'a', 'wide', 'range', 'of', 'field', ',', 'from', 'business', 'to', 'science', 'and', 'technology', '.', 'additionally', ',', 'cooperation', 'can', 'help', 'to', 'foster', 'a', 'sense', 'of', 'community', 'and', 'belong', 'among', 'student', ',', 'which', 'can', 'be', 'especially', 'important', 'for', 'those', 'who', 'may', 'feel', 'isolated', 'or', 'out', 'of', 'place', 'in', 'a', 'competitive', 'environment', '.', '\\n', 'ultimately', ',', 'the', 'decision', 'of', 'whether', 'to', 'teach', 'student', 'to', 'compete', 'or', 'to', 'cooperate', 'be', 'a', 'complex', 'one', 'that', 'will', 'likely', 'depend', 'on', 'a', 'variety', 'of', 'factor', ',', 'include', 'the', 'individual', 'student', ',', 'the', 'school', 'or', 'program', 'in', 'question', ',', 'and', 'the', 'field', 'in', 'which', 'the', 'student', 'hope', 'to', 'eventually', 'work', '.', 'some', 'student', 'may', 'thrive', 'in', 'a', 'competitive', 'environment', ',', 'while', 'other', 'may', 'do', 'well', 'in', 'a', 'cooperative', 'one', '.', '\\n', 'in', 'conclusion', ',', 'both', 'competition', 'and', 'cooperation', 'be', 'important', 'aspect', 'of', 'education', 'and', 'have', 'their', 'own', 'advantage', '.', 'instead', 'of', 'choose', 'one', 'over', 'the', 'other', ',', 'a', 'balance', 'of', 'both', 'should', 'be', 'encourage', '.', 'it', 'be', 'essential', 'to', 'teach', 'student', 'to', 'compete', 'in', 'a', 'healthy', 'and', 'positive', 'way', ',', 'while', 'also', 'learn', 'to', 'work', 'well', 'with', 'other', '.', 'by', 'provide', 'student', 'with', 'the', 'opportunity', 'to', 'develop', 'both', 'competitive', 'and', 'cooperative', 'skill', ',', 'educator', 'can', 'well', 'prepare', 'they', 'for', 'success', 'in', 'the', 'real', 'world', '.', '\\n\\n']\n"
     ]
    }
   ],
   "source": [
    "nlp=spacy.load(\"en_core_web_lg\")\n",
    "# Create a Doc object\n",
    "doc = nlp(data)\n",
    "\n",
    "# Generate the tokens\n",
    "tokens = [token.lemma_ for token in doc]\n",
    "print(tokens)"
   ]
  },
  {
   "cell_type": "code",
   "execution_count": 11,
   "metadata": {},
   "outputs": [
    {
     "data": {
      "text/plain": [
       "410"
      ]
     },
     "execution_count": 11,
     "metadata": {},
     "output_type": "execute_result"
    }
   ],
   "source": [
    "len(list)"
   ]
  },
  {
   "cell_type": "code",
   "execution_count": 21,
   "metadata": {},
   "outputs": [
    {
     "data": {
      "text/plain": [
       "['The',\n",
       " 'debate',\n",
       " 'over',\n",
       " 'whether',\n",
       " 'students',\n",
       " 'should',\n",
       " 'be',\n",
       " 'taught',\n",
       " 'to',\n",
       " 'compete',\n",
       " 'or',\n",
       " 'to',\n",
       " 'cooperate',\n",
       " 'is',\n",
       " 'a',\n",
       " 'complex',\n",
       " 'one',\n",
       " 'that',\n",
       " 'has',\n",
       " 'been',\n",
       " 'ongoing',\n",
       " 'for',\n",
       " 'many',\n",
       " 'years',\n",
       " 'On',\n",
       " 'one',\n",
       " 'hand',\n",
       " 'there',\n",
       " 'are',\n",
       " 'those',\n",
       " 'who',\n",
       " 'argue',\n",
       " 'that',\n",
       " 'competition',\n",
       " 'is',\n",
       " 'an',\n",
       " 'important',\n",
       " 'aspect',\n",
       " 'of',\n",
       " 'education',\n",
       " 'and',\n",
       " 'that',\n",
       " 'it',\n",
       " 'helps',\n",
       " 'to',\n",
       " 'prepare',\n",
       " 'students',\n",
       " 'for',\n",
       " 'the',\n",
       " 'real',\n",
       " 'world',\n",
       " 'On',\n",
       " 'the',\n",
       " 'other',\n",
       " 'hand',\n",
       " 'there',\n",
       " 'are',\n",
       " 'those',\n",
       " 'who',\n",
       " 'argue',\n",
       " 'that',\n",
       " 'cooperation',\n",
       " 'is',\n",
       " 'just',\n",
       " 'as',\n",
       " 'important',\n",
       " 'if',\n",
       " 'not',\n",
       " 'more',\n",
       " 'so',\n",
       " 'and',\n",
       " 'that',\n",
       " 'it',\n",
       " 'helps',\n",
       " 'to',\n",
       " 'foster',\n",
       " 'a',\n",
       " 'sense',\n",
       " 'of',\n",
       " 'community',\n",
       " 'and',\n",
       " 'teamwork',\n",
       " 'among',\n",
       " 'students',\n",
       " 'One',\n",
       " 'of',\n",
       " 'the',\n",
       " 'main',\n",
       " 'arguments',\n",
       " 'in',\n",
       " 'favor',\n",
       " 'of',\n",
       " 'teaching',\n",
       " 'students',\n",
       " 'to',\n",
       " 'compete',\n",
       " 'is',\n",
       " 'that',\n",
       " 'it',\n",
       " 'helps',\n",
       " 'to',\n",
       " 'prepare',\n",
       " 'them',\n",
       " 'for',\n",
       " 'the',\n",
       " 'real',\n",
       " 'world',\n",
       " 'In',\n",
       " 'many',\n",
       " 'professional',\n",
       " 'fields',\n",
       " 'competition',\n",
       " 'is',\n",
       " 'a',\n",
       " 'constant',\n",
       " 'and',\n",
       " 'necessary',\n",
       " 'aspect',\n",
       " 'of',\n",
       " 'success',\n",
       " 'By',\n",
       " 'encouraging',\n",
       " 'students',\n",
       " 'to',\n",
       " 'compete',\n",
       " 'with',\n",
       " 'one',\n",
       " 'another',\n",
       " 'in',\n",
       " 'a',\n",
       " 'safe',\n",
       " 'and',\n",
       " 'controlled',\n",
       " 'environment',\n",
       " 'they',\n",
       " 'can',\n",
       " 'learn',\n",
       " 'how',\n",
       " 'to',\n",
       " 'handle',\n",
       " 'the',\n",
       " 'stress',\n",
       " 'and',\n",
       " 'pressure',\n",
       " 'of',\n",
       " 'competition',\n",
       " 'as',\n",
       " 'well',\n",
       " 'as',\n",
       " 'develop',\n",
       " 'the',\n",
       " 'skills',\n",
       " 'they',\n",
       " 'need',\n",
       " 'to',\n",
       " 'succeed',\n",
       " 'in',\n",
       " 'their',\n",
       " 'chosen',\n",
       " 'profession',\n",
       " 'Additionally',\n",
       " 'competition',\n",
       " 'can',\n",
       " 'help',\n",
       " 'students',\n",
       " 'to',\n",
       " 'push',\n",
       " 'themselves',\n",
       " 'to',\n",
       " 'be',\n",
       " 'their',\n",
       " 'best',\n",
       " 'and',\n",
       " 'to',\n",
       " 'strive',\n",
       " 'for',\n",
       " 'excellence',\n",
       " 'However',\n",
       " 'there',\n",
       " 'are',\n",
       " 'also',\n",
       " 'many',\n",
       " 'arguments',\n",
       " 'in',\n",
       " 'favor',\n",
       " 'of',\n",
       " 'teaching',\n",
       " 'students',\n",
       " 'to',\n",
       " 'cooperate',\n",
       " 'Cooperation',\n",
       " 'is',\n",
       " 'an',\n",
       " 'essential',\n",
       " 'skill',\n",
       " 'in',\n",
       " 'todays',\n",
       " 'world',\n",
       " 'where',\n",
       " 'teamwork',\n",
       " 'and',\n",
       " 'collaboration',\n",
       " 'are',\n",
       " 'increasingly',\n",
       " 'important',\n",
       " 'in',\n",
       " 'the',\n",
       " 'workplace',\n",
       " 'By',\n",
       " 'learning',\n",
       " 'to',\n",
       " 'work',\n",
       " 'well',\n",
       " 'with',\n",
       " 'others',\n",
       " 'students',\n",
       " 'can',\n",
       " 'develop',\n",
       " 'the',\n",
       " 'skills',\n",
       " 'they',\n",
       " 'need',\n",
       " 'to',\n",
       " 'be',\n",
       " 'successful',\n",
       " 'in',\n",
       " 'a',\n",
       " 'wide',\n",
       " 'range',\n",
       " 'of',\n",
       " 'fields',\n",
       " 'from',\n",
       " 'business',\n",
       " 'to',\n",
       " 'science',\n",
       " 'and',\n",
       " 'technology',\n",
       " 'Additionally',\n",
       " 'cooperation',\n",
       " 'can',\n",
       " 'help',\n",
       " 'to',\n",
       " 'foster',\n",
       " 'a',\n",
       " 'sense',\n",
       " 'of',\n",
       " 'community',\n",
       " 'and',\n",
       " 'belonging',\n",
       " 'among',\n",
       " 'students',\n",
       " 'which',\n",
       " 'can',\n",
       " 'be',\n",
       " 'especially',\n",
       " 'important',\n",
       " 'for',\n",
       " 'those',\n",
       " 'who',\n",
       " 'may',\n",
       " 'feel',\n",
       " 'isolated',\n",
       " 'or',\n",
       " 'out',\n",
       " 'of',\n",
       " 'place',\n",
       " 'in',\n",
       " 'a',\n",
       " 'competitive',\n",
       " 'environment',\n",
       " 'Ultimately',\n",
       " 'the',\n",
       " 'decision',\n",
       " 'of',\n",
       " 'whether',\n",
       " 'to',\n",
       " 'teach',\n",
       " 'students',\n",
       " 'to',\n",
       " 'compete',\n",
       " 'or',\n",
       " 'to',\n",
       " 'cooperate',\n",
       " 'is',\n",
       " 'a',\n",
       " 'complex',\n",
       " 'one',\n",
       " 'that',\n",
       " 'will',\n",
       " 'likely',\n",
       " 'depend',\n",
       " 'on',\n",
       " 'a',\n",
       " 'variety',\n",
       " 'of',\n",
       " 'factors',\n",
       " 'including',\n",
       " 'the',\n",
       " 'individual',\n",
       " 'student',\n",
       " 'the',\n",
       " 'school',\n",
       " 'or',\n",
       " 'program',\n",
       " 'in',\n",
       " 'question',\n",
       " 'and',\n",
       " 'the',\n",
       " 'field',\n",
       " 'in',\n",
       " 'which',\n",
       " 'the',\n",
       " 'student',\n",
       " 'hopes',\n",
       " 'to',\n",
       " 'eventually',\n",
       " 'work',\n",
       " 'Some',\n",
       " 'students',\n",
       " 'may',\n",
       " 'thrive',\n",
       " 'in',\n",
       " 'a',\n",
       " 'competitive',\n",
       " 'environment',\n",
       " 'while',\n",
       " 'others',\n",
       " 'may',\n",
       " 'do',\n",
       " 'better',\n",
       " 'in',\n",
       " 'a',\n",
       " 'cooperative',\n",
       " 'one',\n",
       " 'In',\n",
       " 'conclusion',\n",
       " 'both',\n",
       " 'competition',\n",
       " 'and',\n",
       " 'cooperation',\n",
       " 'are',\n",
       " 'important',\n",
       " 'aspects',\n",
       " 'of',\n",
       " 'education',\n",
       " 'and',\n",
       " 'have',\n",
       " 'their',\n",
       " 'own',\n",
       " 'advantages',\n",
       " 'Instead',\n",
       " 'of',\n",
       " 'choosing',\n",
       " 'one',\n",
       " 'over',\n",
       " 'the',\n",
       " 'other',\n",
       " 'a',\n",
       " 'balance',\n",
       " 'of',\n",
       " 'both',\n",
       " 'should',\n",
       " 'be',\n",
       " 'encouraged',\n",
       " 'It',\n",
       " 'is',\n",
       " 'essential',\n",
       " 'to',\n",
       " 'teach',\n",
       " 'students',\n",
       " 'to',\n",
       " 'compete',\n",
       " 'in',\n",
       " 'a',\n",
       " 'healthy',\n",
       " 'and',\n",
       " 'positive',\n",
       " 'way',\n",
       " 'while',\n",
       " 'also',\n",
       " 'learning',\n",
       " 'to',\n",
       " 'work',\n",
       " 'well',\n",
       " 'with',\n",
       " 'others',\n",
       " 'By',\n",
       " 'providing',\n",
       " 'students',\n",
       " 'with',\n",
       " 'the',\n",
       " 'opportunity',\n",
       " 'to',\n",
       " 'develop',\n",
       " 'both',\n",
       " 'competitive',\n",
       " 'and',\n",
       " 'cooperative',\n",
       " 'skills',\n",
       " 'educators',\n",
       " 'can',\n",
       " 'better',\n",
       " 'prepare',\n",
       " 'them',\n",
       " 'for',\n",
       " 'success',\n",
       " 'in',\n",
       " 'the',\n",
       " 'real',\n",
       " 'world']"
      ]
     },
     "execution_count": 21,
     "metadata": {},
     "output_type": "execute_result"
    }
   ],
   "source": [
    "list"
   ]
  },
  {
   "cell_type": "code",
   "execution_count": 37,
   "metadata": {},
   "outputs": [
    {
     "name": "stdout",
     "output_type": "stream",
     "text": [
      "wellknown   None\n",
      "tetrahydrocannabinol   None\n",
      "THC   the\n",
      "cannabidiol   None\n",
      "CBD   cod\n",
      "wellknown   None\n",
      "wellknown   None\n",
      "THC   the\n",
      "CBD   cod\n",
      "9\n"
     ]
    }
   ],
   "source": [
    "from spellchecker import SpellChecker\n",
    "\n",
    "filename = input('Enter a filename: ')\n",
    "with open('input/'+filename, 'r') as file:\n",
    " data = file.read()\n",
    "\n",
    "list= s.split(\" \")\n",
    "s=\" \".join(data.split())\n",
    "s=s.replace(\"'s\",'')\n",
    "s = re.sub('[^a-zA-Z0-9\\s]', '', s)\n",
    "spell = SpellChecker(language='en')\n",
    "i=0\n",
    "for word in list:\n",
    "    \n",
    "    if(spell.correction(word)!=word):\n",
    "        print(word,\" \",spell.correction(word))\n",
    "        i+=1\n",
    "print(i)"
   ]
  },
  {
   "cell_type": "code",
   "execution_count": 13,
   "metadata": {},
   "outputs": [
    {
     "name": "stdout",
     "output_type": "stream",
     "text": [
      "Reading package lists... Done\n",
      "Building dependency tree       \n",
      "Reading state information... Done\n",
      "Suggested packages:\n",
      "  swig3.0-examples swig3.0-doc\n",
      "The following NEW packages will be installed:\n",
      "  swig3.0\n",
      "0 upgraded, 1 newly installed, 0 to remove and 146 not upgraded.\n",
      "Need to get 1,109 kB of archives.\n",
      "After this operation, 5,555 kB of additional disk space will be used.\n",
      "Get:1 http://archive.ubuntu.com/ubuntu focal/universe amd64 swig3.0 amd64 3.0.12-2.2ubuntu1 [1,109 kB]\n",
      "Fetched 1,109 kB in 1s (1,273 kB/s)\n",
      "debconf: delaying package configuration, since apt-utils is not installed\n",
      "Selecting previously unselected package swig3.0.\n",
      "(Reading database ... 46660 files and directories currently installed.)\n",
      "Preparing to unpack .../swig3.0_3.0.12-2.2ubuntu1_amd64.deb ...\n",
      "Unpacking swig3.0 (3.0.12-2.2ubuntu1) ...\n",
      "Setting up swig3.0 (3.0.12-2.2ubuntu1) ...\n"
     ]
    }
   ],
   "source": [
    "!apt-get install swig3.0 "
   ]
  },
  {
   "cell_type": "code",
   "execution_count": 14,
   "metadata": {},
   "outputs": [
    {
     "name": "stdout",
     "output_type": "stream",
     "text": [
      "Collecting jamspell\n",
      "  Downloading jamspell-0.0.12.tar.gz (174 kB)\n",
      "\u001b[2K     \u001b[90m━━━━━━━━━━━━━━━━━━━━━━━━━━━━━━━━━━━━━━━\u001b[0m \u001b[32m174.3/174.3 KB\u001b[0m \u001b[31m5.8 MB/s\u001b[0m eta \u001b[36m0:00:00\u001b[0m\n",
      "\u001b[?25h  Preparing metadata (setup.py) ... \u001b[?25ldone\n",
      "\u001b[?25hUsing legacy 'setup.py install' for jamspell, since package 'wheel' is not installed.\n",
      "Installing collected packages: jamspell\n",
      "  Running setup.py install for jamspell ... \u001b[?25ldone\n",
      "\u001b[?25hSuccessfully installed jamspell-0.0.12\n",
      "\u001b[33mWARNING: You are using pip version 22.0.4; however, version 23.0.1 is available.\n",
      "You should consider upgrading via the '/root/es/es_env/bin/python3 -m pip install --upgrade pip' command.\u001b[0m\u001b[33m\n",
      "\u001b[0m"
     ]
    }
   ],
   "source": [
    "!pip3 install jamspell"
   ]
  },
  {
   "cell_type": "code",
   "execution_count": 17,
   "metadata": {},
   "outputs": [
    {
     "data": {
      "text/plain": [
       "False"
      ]
     },
     "execution_count": 17,
     "metadata": {},
     "output_type": "execute_result"
    }
   ],
   "source": [
    "import jamspell\n",
    "corrector = jamspell.TSpellCorrector()\n",
    "corrector.LoadLangModel('Downloads/en_model.bin')"
   ]
  },
  {
   "cell_type": "code",
   "execution_count": 20,
   "metadata": {},
   "outputs": [
    {
     "name": "stdout",
     "output_type": "stream",
     "text": [
      "Requirement already satisfied: textblob in ./es_env/lib/python3.9/site-packages (0.17.1)\n",
      "Requirement already satisfied: nltk>=3.1 in ./es_env/lib/python3.9/site-packages (from textblob) (3.8.1)\n",
      "Requirement already satisfied: joblib in ./es_env/lib/python3.9/site-packages (from nltk>=3.1->textblob) (1.2.0)\n",
      "Requirement already satisfied: regex>=2021.8.3 in ./es_env/lib/python3.9/site-packages (from nltk>=3.1->textblob) (2022.10.31)\n",
      "Requirement already satisfied: tqdm in ./es_env/lib/python3.9/site-packages (from nltk>=3.1->textblob) (4.64.1)\n",
      "Requirement already satisfied: click in ./es_env/lib/python3.9/site-packages (from nltk>=3.1->textblob) (8.1.3)\n",
      "\u001b[33mWARNING: You are using pip version 22.0.4; however, version 23.0.1 is available.\n",
      "You should consider upgrading via the '/root/es/es_env/bin/python -m pip install --upgrade pip' command.\u001b[0m\u001b[33m\n",
      "\u001b[0m"
     ]
    }
   ],
   "source": [
    "!python -m pip install textblob"
   ]
  },
  {
   "cell_type": "code",
   "execution_count": 9,
   "metadata": {},
   "outputs": [
    {
     "name": "stdout",
     "output_type": "stream",
     "text": [
      "ongoing  corrected text: going\n",
      "On  corrected text: In\n",
      "On  corrected text: In\n",
      "teamwork  corrected text: tearworn\n",
      "skills  corrected text: skill\n",
      "teamwork  corrected text: tearworn\n",
      "skills  corrected text: skill\n",
      "skills  corrected text: skill\n",
      "8\n"
     ]
    }
   ],
   "source": [
    "from textblob import TextBlob\n",
    "i=0\n",
    "for word in list:\n",
    "    b = TextBlob(word)\n",
    "    #print(word,\" corrected text: \"+str(b.correct()))\n",
    "    if(str(b.correct())!=word):\n",
    "        print(word,\" corrected text: \"+str(b.correct()))\n",
    "        i+=1\n",
    "print(i) \n",
    "# prints the corrected spelling\n",
    "#print(\"corrected text: \"+str(b.correct()))"
   ]
  },
  {
   "cell_type": "code",
   "execution_count": 5,
   "metadata": {},
   "outputs": [
    {
     "name": "stdout",
     "output_type": "stream",
     "text": [
      "Misspelled word 'nontangible' corrected to 'intangible'\n",
      "Misspelled word 'heritages' corrected to 'heritage'\n",
      "Misspelled word 'angkowat' corrected to 'None'\n",
      "Misspelled word 'trong' corrected to 'wrong'\n",
      "Misspelled word 'cambodia' corrected to 'cambodian'\n"
     ]
    }
   ],
   "source": [
    "from spellchecker import SpellChecker\n",
    "\n",
    "\n",
    "spell = SpellChecker()\n",
    "\n",
    "# Set the language to English (default is English)\n",
    "spell = SpellChecker(language='en')\n",
    "\n",
    "# Example text with some misspelled words\n",
    "#text = \"I havv a good spell chicker for Pyhon. It worcs really good!\"\n",
    "\n",
    "# Split the text into individual words\n",
    "#words = text.split()\n",
    "\n",
    "# Find the misspelled words\n",
    "misspelled = spell.unknown(list)\n",
    "\n",
    "# Correct the misspelled words\n",
    "for word in misspelled:\n",
    "    corrected_word = spell.correction(word)\n",
    "    print(f\"Misspelled word '{word}' corrected to '{corrected_word}'\")\n"
   ]
  },
  {
   "cell_type": "code",
   "execution_count": 11,
   "metadata": {},
   "outputs": [
    {
     "ename": "DefaultCredentialsError",
     "evalue": "Your default credentials were not found. To set up Application Default Credentials, see https://cloud.google.com/docs/authentication/external/set-up-adc for more information.",
     "output_type": "error",
     "traceback": [
      "\u001b[0;31m---------------------------------------------------------------------------\u001b[0m",
      "\u001b[0;31mDefaultCredentialsError\u001b[0m                   Traceback (most recent call last)",
      "Cell \u001b[0;32mIn[11], line 5\u001b[0m\n\u001b[1;32m      2\u001b[0m \u001b[39mimport\u001b[39;00m \u001b[39mrequests\u001b[39;00m\n\u001b[1;32m      4\u001b[0m \u001b[39m# Set up the Google Cloud Text-to-Speech client\u001b[39;00m\n\u001b[0;32m----> 5\u001b[0m client \u001b[39m=\u001b[39m texttospeech\u001b[39m.\u001b[39;49mTextToSpeechClient()\n\u001b[1;32m      7\u001b[0m \u001b[39m# Set the text to be corrected\u001b[39;00m\n\u001b[1;32m      8\u001b[0m text \u001b[39m=\u001b[39m \u001b[39m\"\u001b[39m\u001b[39mThis is a example sentence with some spelling and grammar errors.\u001b[39m\u001b[39m\"\u001b[39m\n",
      "File \u001b[0;32m~/es/es_env/lib/python3.9/site-packages/google/cloud/texttospeech_v1/services/text_to_speech/client.py:431\u001b[0m, in \u001b[0;36mTextToSpeechClient.__init__\u001b[0;34m(self, credentials, transport, client_options, client_info)\u001b[0m\n\u001b[1;32m    426\u001b[0m     credentials \u001b[39m=\u001b[39m google\u001b[39m.\u001b[39mauth\u001b[39m.\u001b[39m_default\u001b[39m.\u001b[39mget_api_key_credentials(\n\u001b[1;32m    427\u001b[0m         api_key_value\n\u001b[1;32m    428\u001b[0m     )\n\u001b[1;32m    430\u001b[0m Transport \u001b[39m=\u001b[39m \u001b[39mtype\u001b[39m(\u001b[39mself\u001b[39m)\u001b[39m.\u001b[39mget_transport_class(transport)\n\u001b[0;32m--> 431\u001b[0m \u001b[39mself\u001b[39m\u001b[39m.\u001b[39m_transport \u001b[39m=\u001b[39m Transport(\n\u001b[1;32m    432\u001b[0m     credentials\u001b[39m=\u001b[39;49mcredentials,\n\u001b[1;32m    433\u001b[0m     credentials_file\u001b[39m=\u001b[39;49mclient_options\u001b[39m.\u001b[39;49mcredentials_file,\n\u001b[1;32m    434\u001b[0m     host\u001b[39m=\u001b[39;49mapi_endpoint,\n\u001b[1;32m    435\u001b[0m     scopes\u001b[39m=\u001b[39;49mclient_options\u001b[39m.\u001b[39;49mscopes,\n\u001b[1;32m    436\u001b[0m     client_cert_source_for_mtls\u001b[39m=\u001b[39;49mclient_cert_source_func,\n\u001b[1;32m    437\u001b[0m     quota_project_id\u001b[39m=\u001b[39;49mclient_options\u001b[39m.\u001b[39;49mquota_project_id,\n\u001b[1;32m    438\u001b[0m     client_info\u001b[39m=\u001b[39;49mclient_info,\n\u001b[1;32m    439\u001b[0m     always_use_jwt_access\u001b[39m=\u001b[39;49m\u001b[39mTrue\u001b[39;49;00m,\n\u001b[1;32m    440\u001b[0m     api_audience\u001b[39m=\u001b[39;49mclient_options\u001b[39m.\u001b[39;49mapi_audience,\n\u001b[1;32m    441\u001b[0m )\n",
      "File \u001b[0;32m~/es/es_env/lib/python3.9/site-packages/google/cloud/texttospeech_v1/services/text_to_speech/transports/grpc.py:149\u001b[0m, in \u001b[0;36mTextToSpeechGrpcTransport.__init__\u001b[0;34m(self, host, credentials, credentials_file, scopes, channel, api_mtls_endpoint, client_cert_source, ssl_channel_credentials, client_cert_source_for_mtls, quota_project_id, client_info, always_use_jwt_access, api_audience)\u001b[0m\n\u001b[1;32m    144\u001b[0m             \u001b[39mself\u001b[39m\u001b[39m.\u001b[39m_ssl_channel_credentials \u001b[39m=\u001b[39m grpc\u001b[39m.\u001b[39mssl_channel_credentials(\n\u001b[1;32m    145\u001b[0m                 certificate_chain\u001b[39m=\u001b[39mcert, private_key\u001b[39m=\u001b[39mkey\n\u001b[1;32m    146\u001b[0m             )\n\u001b[1;32m    148\u001b[0m \u001b[39m# The base transport sets the host, credentials and scopes\u001b[39;00m\n\u001b[0;32m--> 149\u001b[0m \u001b[39msuper\u001b[39;49m()\u001b[39m.\u001b[39;49m\u001b[39m__init__\u001b[39;49m(\n\u001b[1;32m    150\u001b[0m     host\u001b[39m=\u001b[39;49mhost,\n\u001b[1;32m    151\u001b[0m     credentials\u001b[39m=\u001b[39;49mcredentials,\n\u001b[1;32m    152\u001b[0m     credentials_file\u001b[39m=\u001b[39;49mcredentials_file,\n\u001b[1;32m    153\u001b[0m     scopes\u001b[39m=\u001b[39;49mscopes,\n\u001b[1;32m    154\u001b[0m     quota_project_id\u001b[39m=\u001b[39;49mquota_project_id,\n\u001b[1;32m    155\u001b[0m     client_info\u001b[39m=\u001b[39;49mclient_info,\n\u001b[1;32m    156\u001b[0m     always_use_jwt_access\u001b[39m=\u001b[39;49malways_use_jwt_access,\n\u001b[1;32m    157\u001b[0m     api_audience\u001b[39m=\u001b[39;49mapi_audience,\n\u001b[1;32m    158\u001b[0m )\n\u001b[1;32m    160\u001b[0m \u001b[39mif\u001b[39;00m \u001b[39mnot\u001b[39;00m \u001b[39mself\u001b[39m\u001b[39m.\u001b[39m_grpc_channel:\n\u001b[1;32m    161\u001b[0m     \u001b[39mself\u001b[39m\u001b[39m.\u001b[39m_grpc_channel \u001b[39m=\u001b[39m \u001b[39mtype\u001b[39m(\u001b[39mself\u001b[39m)\u001b[39m.\u001b[39mcreate_channel(\n\u001b[1;32m    162\u001b[0m         \u001b[39mself\u001b[39m\u001b[39m.\u001b[39m_host,\n\u001b[1;32m    163\u001b[0m         \u001b[39m# use the credentials which are saved\u001b[39;00m\n\u001b[0;32m   (...)\u001b[0m\n\u001b[1;32m    174\u001b[0m         ],\n\u001b[1;32m    175\u001b[0m     )\n",
      "File \u001b[0;32m~/es/es_env/lib/python3.9/site-packages/google/cloud/texttospeech_v1/services/text_to_speech/transports/base.py:98\u001b[0m, in \u001b[0;36mTextToSpeechTransport.__init__\u001b[0;34m(self, host, credentials, credentials_file, scopes, quota_project_id, client_info, always_use_jwt_access, api_audience, **kwargs)\u001b[0m\n\u001b[1;32m     94\u001b[0m     credentials, _ \u001b[39m=\u001b[39m google\u001b[39m.\u001b[39mauth\u001b[39m.\u001b[39mload_credentials_from_file(\n\u001b[1;32m     95\u001b[0m         credentials_file, \u001b[39m*\u001b[39m\u001b[39m*\u001b[39mscopes_kwargs, quota_project_id\u001b[39m=\u001b[39mquota_project_id\n\u001b[1;32m     96\u001b[0m     )\n\u001b[1;32m     97\u001b[0m \u001b[39melif\u001b[39;00m credentials \u001b[39mis\u001b[39;00m \u001b[39mNone\u001b[39;00m:\n\u001b[0;32m---> 98\u001b[0m     credentials, _ \u001b[39m=\u001b[39m google\u001b[39m.\u001b[39;49mauth\u001b[39m.\u001b[39;49mdefault(\n\u001b[1;32m     99\u001b[0m         \u001b[39m*\u001b[39;49m\u001b[39m*\u001b[39;49mscopes_kwargs, quota_project_id\u001b[39m=\u001b[39;49mquota_project_id\n\u001b[1;32m    100\u001b[0m     )\n\u001b[1;32m    101\u001b[0m     \u001b[39m# Don't apply audience if the credentials file passed from user.\u001b[39;00m\n\u001b[1;32m    102\u001b[0m     \u001b[39mif\u001b[39;00m \u001b[39mhasattr\u001b[39m(credentials, \u001b[39m\"\u001b[39m\u001b[39mwith_gdch_audience\u001b[39m\u001b[39m\"\u001b[39m):\n",
      "File \u001b[0;32m~/es/es_env/lib/python3.9/site-packages/google/auth/_default.py:648\u001b[0m, in \u001b[0;36mdefault\u001b[0;34m(scopes, request, quota_project_id, default_scopes)\u001b[0m\n\u001b[1;32m    640\u001b[0m             _LOGGER\u001b[39m.\u001b[39mwarning(\n\u001b[1;32m    641\u001b[0m                 \u001b[39m\"\u001b[39m\u001b[39mNo project ID could be determined. Consider running \u001b[39m\u001b[39m\"\u001b[39m\n\u001b[1;32m    642\u001b[0m                 \u001b[39m\"\u001b[39m\u001b[39m`gcloud config set project` or setting the \u001b[39m\u001b[39m%s\u001b[39;00m\u001b[39m \u001b[39m\u001b[39m\"\u001b[39m\n\u001b[1;32m    643\u001b[0m                 \u001b[39m\"\u001b[39m\u001b[39menvironment variable\u001b[39m\u001b[39m\"\u001b[39m,\n\u001b[1;32m    644\u001b[0m                 environment_vars\u001b[39m.\u001b[39mPROJECT,\n\u001b[1;32m    645\u001b[0m             )\n\u001b[1;32m    646\u001b[0m         \u001b[39mreturn\u001b[39;00m credentials, effective_project_id\n\u001b[0;32m--> 648\u001b[0m \u001b[39mraise\u001b[39;00m exceptions\u001b[39m.\u001b[39mDefaultCredentialsError(_CLOUD_SDK_MISSING_CREDENTIALS)\n",
      "\u001b[0;31mDefaultCredentialsError\u001b[0m: Your default credentials were not found. To set up Application Default Credentials, see https://cloud.google.com/docs/authentication/external/set-up-adc for more information."
     ]
    }
   ],
   "source": [
    "from google.cloud import texttospeech\n",
    "import requests\n",
    "\n",
    "# Set up the Google Cloud Text-to-Speech client\n",
    "client = texttospeech.TextToSpeechClient()\n",
    "\n",
    "# Set the text to be corrected\n",
    "text = \"This is a example sentence with some spelling and grammar errors.\"\n",
    "\n",
    "# Use the Google Cloud Text-to-Speech API to correct the spelling\n",
    "synthesis_input = texttospeech.types.SynthesisInput(text=text)\n",
    "voice = texttospeech.types.VoiceSelectionParams(\n",
    "    language_code='en-US', \n",
    "    ssml_gender=texttospeech.enums.SsmlVoiceGender.NEUTRAL)\n",
    "audio_config = texttospeech.types.AudioConfig(\n",
    "    audio_encoding=texttospeech.enums.AudioEncoding.MP3)\n",
    "\n",
    "response = client.synthesize_speech(synthesis_input, voice, audio_config)\n",
    "\n",
    "# Convert the response to text and print it\n",
    "corrected_text = response.audio_content.decode('utf-8')\n",
    "print(corrected_text)"
   ]
  },
  {
   "cell_type": "code",
   "execution_count": 10,
   "metadata": {},
   "outputs": [
    {
     "name": "stdout",
     "output_type": "stream",
     "text": [
      "Collecting google-cloud-texttospeech\n",
      "  Downloading google_cloud_texttospeech-2.14.1-py2.py3-none-any.whl (118 kB)\n",
      "\u001b[2K     \u001b[90m━━━━━━━━━━━━━━━━━━━━━━━━━━━━━━━━━━━━━━━\u001b[0m \u001b[32m119.0/119.0 kB\u001b[0m \u001b[31m4.4 MB/s\u001b[0m eta \u001b[36m0:00:00\u001b[0m\n",
      "\u001b[?25hRequirement already satisfied: protobuf!=3.20.0,!=3.20.1,!=4.21.0,!=4.21.1,!=4.21.2,!=4.21.3,!=4.21.4,!=4.21.5,<5.0.0dev,>=3.19.5 in ./es_env/lib/python3.9/site-packages (from google-cloud-texttospeech) (4.22.1)\n",
      "Requirement already satisfied: google-api-core[grpc]!=2.0.*,!=2.1.*,!=2.10.*,!=2.2.*,!=2.3.*,!=2.4.*,!=2.5.*,!=2.6.*,!=2.7.*,!=2.8.*,!=2.9.*,<3.0.0dev,>=1.34.0 in ./es_env/lib/python3.9/site-packages (from google-cloud-texttospeech) (2.11.0)\n",
      "Collecting proto-plus<2.0.0dev,>=1.22.0\n",
      "  Downloading proto_plus-1.22.2-py3-none-any.whl (47 kB)\n",
      "\u001b[2K     \u001b[90m━━━━━━━━━━━━━━━━━━━━━━━━━━━━━━━━━━━━━━━━\u001b[0m \u001b[32m47.9/47.9 kB\u001b[0m \u001b[31m19.3 MB/s\u001b[0m eta \u001b[36m0:00:00\u001b[0m\n",
      "\u001b[?25hRequirement already satisfied: requests<3.0.0dev,>=2.18.0 in ./es_env/lib/python3.9/site-packages (from google-api-core[grpc]!=2.0.*,!=2.1.*,!=2.10.*,!=2.2.*,!=2.3.*,!=2.4.*,!=2.5.*,!=2.6.*,!=2.7.*,!=2.8.*,!=2.9.*,<3.0.0dev,>=1.34.0->google-cloud-texttospeech) (2.28.2)\n",
      "Requirement already satisfied: googleapis-common-protos<2.0dev,>=1.56.2 in ./es_env/lib/python3.9/site-packages (from google-api-core[grpc]!=2.0.*,!=2.1.*,!=2.10.*,!=2.2.*,!=2.3.*,!=2.4.*,!=2.5.*,!=2.6.*,!=2.7.*,!=2.8.*,!=2.9.*,<3.0.0dev,>=1.34.0->google-cloud-texttospeech) (1.59.0)\n",
      "Requirement already satisfied: google-auth<3.0dev,>=2.14.1 in ./es_env/lib/python3.9/site-packages (from google-api-core[grpc]!=2.0.*,!=2.1.*,!=2.10.*,!=2.2.*,!=2.3.*,!=2.4.*,!=2.5.*,!=2.6.*,!=2.7.*,!=2.8.*,!=2.9.*,<3.0.0dev,>=1.34.0->google-cloud-texttospeech) (2.16.3)\n",
      "Collecting grpcio<2.0dev,>=1.33.2\n",
      "  Downloading grpcio-1.51.3-cp39-cp39-manylinux_2_17_x86_64.manylinux2014_x86_64.whl (4.8 MB)\n",
      "\u001b[2K     \u001b[90m━━━━━━━━━━━━━━━━━━━━━━━━━━━━━━━━━━━━━━━━\u001b[0m \u001b[32m4.8/4.8 MB\u001b[0m \u001b[31m54.7 MB/s\u001b[0m eta \u001b[36m0:00:00\u001b[0m00:01\u001b[0m00:01\u001b[0m\n",
      "\u001b[?25hCollecting grpcio-status<2.0dev,>=1.33.2\n",
      "  Downloading grpcio_status-1.51.3-py3-none-any.whl (5.1 kB)\n",
      "Requirement already satisfied: pyasn1-modules>=0.2.1 in ./es_env/lib/python3.9/site-packages (from google-auth<3.0dev,>=2.14.1->google-api-core[grpc]!=2.0.*,!=2.1.*,!=2.10.*,!=2.2.*,!=2.3.*,!=2.4.*,!=2.5.*,!=2.6.*,!=2.7.*,!=2.8.*,!=2.9.*,<3.0.0dev,>=1.34.0->google-cloud-texttospeech) (0.2.8)\n",
      "Requirement already satisfied: cachetools<6.0,>=2.0.0 in ./es_env/lib/python3.9/site-packages (from google-auth<3.0dev,>=2.14.1->google-api-core[grpc]!=2.0.*,!=2.1.*,!=2.10.*,!=2.2.*,!=2.3.*,!=2.4.*,!=2.5.*,!=2.6.*,!=2.7.*,!=2.8.*,!=2.9.*,<3.0.0dev,>=1.34.0->google-cloud-texttospeech) (5.3.0)\n",
      "Requirement already satisfied: six>=1.9.0 in ./es_env/lib/python3.9/site-packages (from google-auth<3.0dev,>=2.14.1->google-api-core[grpc]!=2.0.*,!=2.1.*,!=2.10.*,!=2.2.*,!=2.3.*,!=2.4.*,!=2.5.*,!=2.6.*,!=2.7.*,!=2.8.*,!=2.9.*,<3.0.0dev,>=1.34.0->google-cloud-texttospeech) (1.16.0)\n",
      "Requirement already satisfied: rsa<5,>=3.1.4 in ./es_env/lib/python3.9/site-packages (from google-auth<3.0dev,>=2.14.1->google-api-core[grpc]!=2.0.*,!=2.1.*,!=2.10.*,!=2.2.*,!=2.3.*,!=2.4.*,!=2.5.*,!=2.6.*,!=2.7.*,!=2.8.*,!=2.9.*,<3.0.0dev,>=1.34.0->google-cloud-texttospeech) (4.9)\n",
      "Requirement already satisfied: urllib3<1.27,>=1.21.1 in ./es_env/lib/python3.9/site-packages (from requests<3.0.0dev,>=2.18.0->google-api-core[grpc]!=2.0.*,!=2.1.*,!=2.10.*,!=2.2.*,!=2.3.*,!=2.4.*,!=2.5.*,!=2.6.*,!=2.7.*,!=2.8.*,!=2.9.*,<3.0.0dev,>=1.34.0->google-cloud-texttospeech) (1.26.14)\n",
      "Requirement already satisfied: certifi>=2017.4.17 in ./es_env/lib/python3.9/site-packages (from requests<3.0.0dev,>=2.18.0->google-api-core[grpc]!=2.0.*,!=2.1.*,!=2.10.*,!=2.2.*,!=2.3.*,!=2.4.*,!=2.5.*,!=2.6.*,!=2.7.*,!=2.8.*,!=2.9.*,<3.0.0dev,>=1.34.0->google-cloud-texttospeech) (2022.12.7)\n",
      "Requirement already satisfied: idna<4,>=2.5 in ./es_env/lib/python3.9/site-packages (from requests<3.0.0dev,>=2.18.0->google-api-core[grpc]!=2.0.*,!=2.1.*,!=2.10.*,!=2.2.*,!=2.3.*,!=2.4.*,!=2.5.*,!=2.6.*,!=2.7.*,!=2.8.*,!=2.9.*,<3.0.0dev,>=1.34.0->google-cloud-texttospeech) (3.4)\n",
      "Requirement already satisfied: charset-normalizer<4,>=2 in ./es_env/lib/python3.9/site-packages (from requests<3.0.0dev,>=2.18.0->google-api-core[grpc]!=2.0.*,!=2.1.*,!=2.10.*,!=2.2.*,!=2.3.*,!=2.4.*,!=2.5.*,!=2.6.*,!=2.7.*,!=2.8.*,!=2.9.*,<3.0.0dev,>=1.34.0->google-cloud-texttospeech) (3.0.1)\n",
      "Requirement already satisfied: pyasn1<0.5.0,>=0.4.6 in ./es_env/lib/python3.9/site-packages (from pyasn1-modules>=0.2.1->google-auth<3.0dev,>=2.14.1->google-api-core[grpc]!=2.0.*,!=2.1.*,!=2.10.*,!=2.2.*,!=2.3.*,!=2.4.*,!=2.5.*,!=2.6.*,!=2.7.*,!=2.8.*,!=2.9.*,<3.0.0dev,>=1.34.0->google-cloud-texttospeech) (0.4.8)\n",
      "Installing collected packages: proto-plus, grpcio, grpcio-status, google-cloud-texttospeech\n",
      "Successfully installed google-cloud-texttospeech-2.14.1 grpcio-1.51.3 grpcio-status-1.51.3 proto-plus-1.22.2\n"
     ]
    }
   ],
   "source": [
    "!pip3 install google-cloud-texttospeech"
   ]
  },
  {
   "cell_type": "code",
   "execution_count": 6,
   "metadata": {},
   "outputs": [
    {
     "data": {
      "text/plain": [
       "\"The last decade has seen an increasing number of tourists travelling to visit natural wonder sights, ancient heritages and different cultures around the world. While some people might think that this international tourism has negative effects on the destination countries, I would contend that it has contributed to the economic development as well as preserved the culture and environment of the tourist destinations.\\n\\nFirstly, international tourism promotes many aspects of the destination country's economy in order to serve various demands of tourists. Take Cambodia for example, a large number of visitors coming to visit the Angkowat ancient temple need services like restaurants, hotels, souvenir shops and other stores. These demands trigger related business in the surrounding settings which in turn create many jobs for local people improve infrastructure and living standard. Therefore tourism has clearly improved lives in the tourist country.\\n\\nSecondly, through tourism industry, many cultural values have been preserved and natural environments have been protected. For instance, in Vietnam, many cultural costumes and natural scenes, namely 'Trong Dong' drum performance and 'Ha Long' bay, are being encouraged to preserve and funded by the tourism ministry. Without this support and profit from tourism, many traditional cultures would disappear due to its low income works. Thus, tourism has survived many non-tangible cultural values and beauty scenes.\\n\\nTo conclude, as far as I am concerned, international tourism has both triggered economic development and maintained cultural and environment values of the tourist countries. In addition, the authorities should adequately support these sustainable developments.\""
      ]
     },
     "execution_count": 6,
     "metadata": {},
     "output_type": "execute_result"
    }
   ],
   "source": [
    "data"
   ]
  },
  {
   "cell_type": "code",
   "execution_count": 13,
   "metadata": {},
   "outputs": [
    {
     "name": "stdout",
     "output_type": "stream",
     "text": [
      "Collecting autocorrect\n",
      "  Downloading autocorrect-2.6.1.tar.gz (622 kB)\n",
      "\u001b[2K     \u001b[90m━━━━━━━━━━━━━━━━━━━━━━━━━━━━━━━━━━━━━━\u001b[0m \u001b[32m622.8/622.8 KB\u001b[0m \u001b[31m12.5 MB/s\u001b[0m eta \u001b[36m0:00:00\u001b[0ma \u001b[36m0:00:01\u001b[0m\n",
      "\u001b[?25h  Preparing metadata (setup.py) ... \u001b[?25ldone\n",
      "\u001b[?25hUsing legacy 'setup.py install' for autocorrect, since package 'wheel' is not installed.\n",
      "Installing collected packages: autocorrect\n",
      "  Running setup.py install for autocorrect ... \u001b[?25ldone\n",
      "\u001b[?25hSuccessfully installed autocorrect-2.6.1\n",
      "\u001b[33mWARNING: You are using pip version 22.0.4; however, version 23.0.1 is available.\n",
      "You should consider upgrading via the '/root/es/es_env/bin/python3 -m pip install --upgrade pip' command.\u001b[0m\u001b[33m\n",
      "\u001b[0m"
     ]
    }
   ],
   "source": [
    "!pip3 install autocorrect"
   ]
  },
  {
   "cell_type": "code",
   "execution_count": 21,
   "metadata": {},
   "outputs": [
    {
     "name": "stdout",
     "output_type": "stream",
     "text": [
      "Misspelled word 'educations' corrected to 'education'\n",
      "Misspelled word 'Australians' corrected to 'Australian'\n",
      "Misspelled word 'feedbacks' corrected to 'feedback'\n",
      "Misspelled word 'socialize' corrected to 'socialite'\n"
     ]
    }
   ],
   "source": [
    "from autocorrect import Speller\n",
    "\n",
    "'''def apostrophe_filter(word):\n",
    "    return word.replace(\"'\", \"\")'''\n",
    "filename = input('Enter a filename: ')\n",
    "with open('human/'+filename, 'r') as file:\n",
    " data = file.read()\n",
    "s = re.sub(r'[^a-zA-Z0-9\\s]', ' ', data)\n",
    "#list = [apostrophe_filter(word) for word in s.split()]\n",
    "list= s.split()\n",
    "\n",
    "# Create a spell checker object\n",
    "spell = Speller(lang='en')\n",
    "\n",
    "# Example text with a misspelled word\n",
    "#text = \"I havv a good spell chicker for Pyhon. It worcs really good!\"\n",
    "\n",
    "# Split the text into individual words\n",
    "#words = text.split()\n",
    "\n",
    "# Correct the misspelled words\n",
    "for word in list:\n",
    "    corrected_word = spell(word)\n",
    "    if corrected_word != word:\n",
    "        print(f\"Misspelled word '{word}' corrected to '{corrected_word}'\")"
   ]
  },
  {
   "cell_type": "code",
   "execution_count": null,
   "metadata": {},
   "outputs": [],
   "source": [
    "list"
   ]
  },
  {
   "cell_type": "code",
   "execution_count": 23,
   "metadata": {},
   "outputs": [
    {
     "data": {
      "text/plain": [
       "\"The last 50 years have seen an increasing number of immigrants to other countries. People moved due to a number of reasons, namely better educations or higher salary jobs. Some people thought that they should follow the local customs in order to integrate into their adopted countries' cultures. However I strongly believe that they are able to sustain their cultural identities and doing so help they keep their origin values.\\n\\nFirstly, maintaining one's cultural identity is a key important rule to help individuals emerge in the new multicultural environments. Take Australia for example, immigrants from varieties of nations have a day called multicultural day where people from each country prepare their food and traditional activities for displaying in the public venues. Many Australians come this day to enjoy the shows, learn about the cultures and admire the diverse values. These feedbacks, in turn, help raise one's pride of their cultures and help people understand each other more. Thus this makes it clear that sustaining the cultural values of immigrants is paramount essential.\\n\\nSecondly, it is crucial to keep one's identity for they need a connection back to their country as well as teach their children their value of origin. For instance, children immigrated to a new country will face social troubles in school with new friends. In this new environment, parent should find friends coming from their same country so that they can socialize in a very familiar manner as feeling being home. Fail to create this familiarity makes them felt isolated, in the extreme can lead to social disorder like autism. Hence, it is clear that keeping the cultural traditions in the destination countries is tremendous important.\\n\\nTo conclude, although there are opposing ideas of neglecting one's cultural values to adapt in the new cultures. As far as I am concerned, sustaining the traditions will make the immigrated people keep their cultural identity and give them confident among the many culture society.\""
      ]
     },
     "execution_count": 23,
     "metadata": {},
     "output_type": "execute_result"
    }
   ],
   "source": [
    "data"
   ]
  },
  {
   "cell_type": "code",
   "execution_count": 10,
   "metadata": {},
   "outputs": [
    {
     "ename": "AttributeError",
     "evalue": "'WordList' object has no attribute 'spellcheck'",
     "output_type": "error",
     "traceback": [
      "\u001b[0;31m---------------------------------------------------------------------------\u001b[0m",
      "\u001b[0;31mAttributeError\u001b[0m                            Traceback (most recent call last)",
      "Cell \u001b[0;32mIn[10], line 10\u001b[0m\n\u001b[1;32m      7\u001b[0m blob \u001b[39m=\u001b[39m TextBlob(data)\n\u001b[1;32m      9\u001b[0m \u001b[39m# find the misspelled words\u001b[39;00m\n\u001b[0;32m---> 10\u001b[0m misspelled \u001b[39m=\u001b[39m blob\u001b[39m.\u001b[39;49mwords\u001b[39m.\u001b[39;49mspellcheck()\n\u001b[1;32m     12\u001b[0m \u001b[39m# correct the misspelled words\u001b[39;00m\n\u001b[1;32m     13\u001b[0m \u001b[39mfor\u001b[39;00m word, confidence \u001b[39min\u001b[39;00m misspelled:\n",
      "\u001b[0;31mAttributeError\u001b[0m: 'WordList' object has no attribute 'spellcheck'"
     ]
    }
   ],
   "source": [
    "from textblob import TextBlob\n",
    "\n",
    "# example text with a misspelled word\n",
    "text = \"I have a good spell checker for Python. It works really good!\"\n",
    "\n",
    "# create a TextBlob object\n",
    "blob = TextBlob(data)\n",
    "\n",
    "# find the misspelled words\n",
    "misspelled = blob.words.spellcheck()\n",
    "\n",
    "# correct the misspelled words\n",
    "for word, confidence in misspelled:\n",
    "    if confidence < 1.0:\n",
    "        corrected_word = TextBlob(word).correct()\n",
    "        print(f\"Misspelled word '{word}' corrected to '{corrected_word}'\")"
   ]
  },
  {
   "cell_type": "code",
   "execution_count": 16,
   "metadata": {},
   "outputs": [
    {
     "name": "stdout",
     "output_type": "stream",
     "text": [
      "Collecting hunspell\n",
      "  Using cached hunspell-0.5.5.tar.gz (34 kB)\n",
      "  Preparing metadata (setup.py) ... \u001b[?25ldone\n",
      "\u001b[?25hInstalling collected packages: hunspell\n",
      "\u001b[33m  DEPRECATION: hunspell is being installed using the legacy 'setup.py install' method, because it does not have a 'pyproject.toml' and the 'wheel' package is not installed. pip 23.1 will enforce this behaviour change. A possible replacement is to enable the '--use-pep517' option. Discussion can be found at https://github.com/pypa/pip/issues/8559\u001b[0m\u001b[33m\n",
      "\u001b[0m  Running setup.py install for hunspell ... \u001b[?25lerror\n",
      "  \u001b[1;31merror\u001b[0m: \u001b[1msubprocess-exited-with-error\u001b[0m\n",
      "  \n",
      "  \u001b[31m×\u001b[0m \u001b[32mRunning setup.py install for hunspell\u001b[0m did not run successfully.\n",
      "  \u001b[31m│\u001b[0m exit code: \u001b[1;36m1\u001b[0m\n",
      "  \u001b[31m╰─>\u001b[0m \u001b[31m[12 lines of output]\u001b[0m\n",
      "  \u001b[31m   \u001b[0m running install\n",
      "  \u001b[31m   \u001b[0m running build\n",
      "  \u001b[31m   \u001b[0m running build_ext\n",
      "  \u001b[31m   \u001b[0m building 'hunspell' extension\n",
      "  \u001b[31m   \u001b[0m creating build\n",
      "  \u001b[31m   \u001b[0m creating build/temp.linux-x86_64-3.9\n",
      "  \u001b[31m   \u001b[0m gcc -pthread -B /opt/conda/envs/myenv/compiler_compat -Wno-unused-result -Wsign-compare -DNDEBUG -O2 -Wall -fPIC -O2 -isystem /opt/conda/envs/myenv/include -I/opt/conda/envs/myenv/include -fPIC -O2 -isystem /opt/conda/envs/myenv/include -fPIC -D_LINUX -I/usr/include/hunspell -I/root/es/es_env/include -I/opt/conda/envs/myenv/include/python3.9 -c hunspell.cpp -o build/temp.linux-x86_64-3.9/hunspell.o -Wall\n",
      "  \u001b[31m   \u001b[0m hunspell.cpp:20:10: fatal error: hunspell.hxx: No such file or directory\n",
      "  \u001b[31m   \u001b[0m    20 | #include <hunspell.hxx>\n",
      "  \u001b[31m   \u001b[0m       |          ^~~~~~~~~~~~~~\n",
      "  \u001b[31m   \u001b[0m compilation terminated.\n",
      "  \u001b[31m   \u001b[0m error: command '/usr/bin/gcc' failed with exit code 1\n",
      "  \u001b[31m   \u001b[0m \u001b[31m[end of output]\u001b[0m\n",
      "  \n",
      "  \u001b[1;35mnote\u001b[0m: This error originates from a subprocess, and is likely not a problem with pip.\n",
      "\u001b[?25h\u001b[1;31merror\u001b[0m: \u001b[1mlegacy-install-failure\u001b[0m\n",
      "\n",
      "\u001b[31m×\u001b[0m Encountered error while trying to install package.\n",
      "\u001b[31m╰─>\u001b[0m hunspell\n",
      "\n",
      "\u001b[1;35mnote\u001b[0m: This is an issue with the package mentioned above, not pip.\n",
      "\u001b[1;36mhint\u001b[0m: See above for output from the failure.\n"
     ]
    }
   ],
   "source": [
    "!pip install hunspell"
   ]
  },
  {
   "cell_type": "code",
   "execution_count": 13,
   "metadata": {},
   "outputs": [
    {
     "name": "stdout",
     "output_type": "stream",
     "text": [
      "Requirement already satisfied: enchant in ./es_env/lib/python3.9/site-packages (0.0.1)\n"
     ]
    }
   ],
   "source": [
    "!pip3 install enchant"
   ]
  },
  {
   "cell_type": "code",
   "execution_count": 14,
   "metadata": {},
   "outputs": [
    {
     "ename": "ImportError",
     "evalue": "The 'enchant' C library was not found and maybe needs to be installed.\nSee  https://pyenchant.github.io/pyenchant/install.html\nfor details\n",
     "output_type": "error",
     "traceback": [
      "\u001b[0;31m---------------------------------------------------------------------------\u001b[0m",
      "\u001b[0;31mImportError\u001b[0m                               Traceback (most recent call last)",
      "Cell \u001b[0;32mIn[14], line 1\u001b[0m\n\u001b[0;32m----> 1\u001b[0m \u001b[39mimport\u001b[39;00m \u001b[39menchant\u001b[39;00m\n\u001b[1;32m      3\u001b[0m \u001b[39m# Create an enchant dictionary for British English\u001b[39;00m\n\u001b[1;32m      4\u001b[0m d \u001b[39m=\u001b[39m enchant\u001b[39m.\u001b[39mDict(\u001b[39m\"\u001b[39m\u001b[39men_US\u001b[39m\u001b[39m\"\u001b[39m)\n",
      "File \u001b[0;32m~/es/es_env/lib/python3.9/site-packages/enchant/__init__.py:81\u001b[0m\n\u001b[1;32m     78\u001b[0m \u001b[39mimport\u001b[39;00m \u001b[39mwarnings\u001b[39;00m\n\u001b[1;32m     80\u001b[0m \u001b[39mtry\u001b[39;00m:\n\u001b[0;32m---> 81\u001b[0m     \u001b[39mfrom\u001b[39;00m \u001b[39menchant\u001b[39;00m \u001b[39mimport\u001b[39;00m _enchant \u001b[39mas\u001b[39;00m _e\n\u001b[1;32m     82\u001b[0m \u001b[39mexcept\u001b[39;00m \u001b[39mImportError\u001b[39;00m:\n\u001b[1;32m     83\u001b[0m     \u001b[39mif\u001b[39;00m \u001b[39mnot\u001b[39;00m os\u001b[39m.\u001b[39menviron\u001b[39m.\u001b[39mget(\u001b[39m\"\u001b[39m\u001b[39mPYENCHANT_IGNORE_MISSING_LIB\u001b[39m\u001b[39m\"\u001b[39m, \u001b[39mFalse\u001b[39;00m):\n",
      "File \u001b[0;32m~/es/es_env/lib/python3.9/site-packages/enchant/_enchant.py:157\u001b[0m\n\u001b[1;32m    149\u001b[0m \u001b[39mif\u001b[39;00m enchant_lib_path \u001b[39mis\u001b[39;00m \u001b[39mNone\u001b[39;00m:\n\u001b[1;32m    150\u001b[0m     msg \u001b[39m=\u001b[39m textwrap\u001b[39m.\u001b[39mdedent(\n\u001b[1;32m    151\u001b[0m \u001b[39m        \u001b[39m\u001b[39m\"\"\"\\\u001b[39;00m\n\u001b[1;32m    152\u001b[0m \u001b[39m        The 'enchant' C library was not found and maybe needs to be installed.\u001b[39;00m\n\u001b[0;32m   (...)\u001b[0m\n\u001b[1;32m    155\u001b[0m \u001b[39m        \"\"\"\u001b[39;00m\n\u001b[1;32m    156\u001b[0m     )\n\u001b[0;32m--> 157\u001b[0m     \u001b[39mraise\u001b[39;00m \u001b[39mImportError\u001b[39;00m(msg)\n\u001b[1;32m    160\u001b[0m find_message(\u001b[39m\"\u001b[39m\u001b[39mloading library \u001b[39m\u001b[39m\"\u001b[39m, enchant_lib_path)\n\u001b[1;32m    161\u001b[0m e \u001b[39m=\u001b[39m ctypes\u001b[39m.\u001b[39mcdll\u001b[39m.\u001b[39mLoadLibrary(enchant_lib_path)\n",
      "\u001b[0;31mImportError\u001b[0m: The 'enchant' C library was not found and maybe needs to be installed.\nSee  https://pyenchant.github.io/pyenchant/install.html\nfor details\n"
     ]
    }
   ],
   "source": [
    "import enchant\n",
    "\n",
    "# Create an enchant dictionary for British English\n",
    "d = enchant.Dict(\"en_US\")\n",
    "\n",
    "# Example text with a misspelled word\n",
    "#text = \"I have a good spell checker for Python. It works really good!\"\n",
    "\n",
    "# Split the text into individual words\n",
    "#words = text.split()\n",
    "\n",
    "# Find the misspelled words\n",
    "misspelled = [word for word in list if not d.check(word)]\n",
    "\n",
    "# Correct the misspelled words\n",
    "for word in misspelled:\n",
    "    suggestions = d.suggest(word)\n",
    "    if suggestions:\n",
    "        print(f\"Misspelled word '{word}' corrected to '{suggestions[0]}'\")"
   ]
  },
  {
   "cell_type": "code",
   "execution_count": 38,
   "metadata": {},
   "outputs": [
    {
     "name": "stdout",
     "output_type": "stream",
     "text": [
      "Help on package enchant:\n",
      "\n",
      "NAME\n",
      "    enchant\n",
      "\n",
      "DESCRIPTION\n",
      "    # pyenchant\n",
      "    #\n",
      "    # Copyright (C) 2004-2011, Ryan Kelly\n",
      "    #\n",
      "    # This library is free software; you can redistribute it and/or\n",
      "    # modify it under the terms of the GNU Lesser General Public\n",
      "    # License as published by the Free Software Foundation; either\n",
      "    # version 2.1 of the License, or (at your option) any later version.\n",
      "    #\n",
      "    # This library is distributed in the hope that it will be useful,\n",
      "    # but WITHOUT ANY WARRANTY; without even the implied warranty of\n",
      "    # MERCHANTABILITY or FITNESS FOR A PARTICULAR PURPOSE.  See the GNU\n",
      "    # Lesser General Public License for more details.\n",
      "    #\n",
      "    # You should have received a copy of the GNU Lesser General Public\n",
      "    # License along with this library; if not, write to the\n",
      "    # Free Software Foundation, Inc., 59 Temple Place - Suite 330,\n",
      "    # Boston, MA 02111-1307, USA.\n",
      "    #\n",
      "    # In addition, as a special exception, you are\n",
      "    # given permission to link the code of this program with\n",
      "    # non-LGPL Spelling Provider libraries (eg: a MSFT Office\n",
      "    # spell checker backend) and distribute linked combinations including\n",
      "    # the two.  You must obey the GNU Lesser General Public License in all\n",
      "    # respects for all of the code used other than said providers.  If you modify\n",
      "    # this file, you may extend this exception to your version of the\n",
      "    # file, but you are not obligated to do so.  If you do not wish to\n",
      "    # do so, delete this exception statement from your version.\n",
      "    #\n",
      "\n",
      "PACKAGE CONTENTS\n",
      "    _enchant\n",
      "    checker (package)\n",
      "    errors\n",
      "    messenger\n",
      "    pypwl\n",
      "    tokenize (package)\n",
      "    utils\n",
      "\n",
      "FILE\n",
      "    /root/es/es_env/lib/python3.9/site-packages/enchant/__init__.py\n",
      "\n",
      "\n"
     ]
    }
   ],
   "source": [
    "# import the enchant module\n",
    "import enchant\n",
    "  \n",
    "# printing the version\n",
    "help(enchant)"
   ]
  },
  {
   "cell_type": "code",
   "execution_count": 12,
   "metadata": {},
   "outputs": [
    {
     "name": "stdout",
     "output_type": "stream",
     "text": [
      "Requirement already satisfied: pyenchant in ./es_env/lib/python3.9/site-packages (3.2.2)\n"
     ]
    }
   ],
   "source": [
    "!pip3 install pyenchant"
   ]
  },
  {
   "cell_type": "code",
   "execution_count": 15,
   "metadata": {},
   "outputs": [
    {
     "ename": "ImportError",
     "evalue": "The 'enchant' C library was not found and maybe needs to be installed.\nSee  https://pyenchant.github.io/pyenchant/install.html\nfor details\n",
     "output_type": "error",
     "traceback": [
      "\u001b[0;31m---------------------------------------------------------------------------\u001b[0m",
      "\u001b[0;31mImportError\u001b[0m                               Traceback (most recent call last)",
      "Cell \u001b[0;32mIn[15], line 1\u001b[0m\n\u001b[0;32m----> 1\u001b[0m \u001b[39mimport\u001b[39;00m \u001b[39menchant\u001b[39;00m\n\u001b[1;32m      3\u001b[0m \u001b[39m# Create an enchant broker\u001b[39;00m\n\u001b[1;32m      4\u001b[0m broker \u001b[39m=\u001b[39m enchant\u001b[39m.\u001b[39mBroker()\n",
      "File \u001b[0;32m~/es/es_env/lib/python3.9/site-packages/enchant/__init__.py:81\u001b[0m\n\u001b[1;32m     78\u001b[0m \u001b[39mimport\u001b[39;00m \u001b[39mwarnings\u001b[39;00m\n\u001b[1;32m     80\u001b[0m \u001b[39mtry\u001b[39;00m:\n\u001b[0;32m---> 81\u001b[0m     \u001b[39mfrom\u001b[39;00m \u001b[39menchant\u001b[39;00m \u001b[39mimport\u001b[39;00m _enchant \u001b[39mas\u001b[39;00m _e\n\u001b[1;32m     82\u001b[0m \u001b[39mexcept\u001b[39;00m \u001b[39mImportError\u001b[39;00m:\n\u001b[1;32m     83\u001b[0m     \u001b[39mif\u001b[39;00m \u001b[39mnot\u001b[39;00m os\u001b[39m.\u001b[39menviron\u001b[39m.\u001b[39mget(\u001b[39m\"\u001b[39m\u001b[39mPYENCHANT_IGNORE_MISSING_LIB\u001b[39m\u001b[39m\"\u001b[39m, \u001b[39mFalse\u001b[39;00m):\n",
      "File \u001b[0;32m~/es/es_env/lib/python3.9/site-packages/enchant/_enchant.py:157\u001b[0m\n\u001b[1;32m    149\u001b[0m \u001b[39mif\u001b[39;00m enchant_lib_path \u001b[39mis\u001b[39;00m \u001b[39mNone\u001b[39;00m:\n\u001b[1;32m    150\u001b[0m     msg \u001b[39m=\u001b[39m textwrap\u001b[39m.\u001b[39mdedent(\n\u001b[1;32m    151\u001b[0m \u001b[39m        \u001b[39m\u001b[39m\"\"\"\\\u001b[39;00m\n\u001b[1;32m    152\u001b[0m \u001b[39m        The 'enchant' C library was not found and maybe needs to be installed.\u001b[39;00m\n\u001b[0;32m   (...)\u001b[0m\n\u001b[1;32m    155\u001b[0m \u001b[39m        \"\"\"\u001b[39;00m\n\u001b[1;32m    156\u001b[0m     )\n\u001b[0;32m--> 157\u001b[0m     \u001b[39mraise\u001b[39;00m \u001b[39mImportError\u001b[39;00m(msg)\n\u001b[1;32m    160\u001b[0m find_message(\u001b[39m\"\u001b[39m\u001b[39mloading library \u001b[39m\u001b[39m\"\u001b[39m, enchant_lib_path)\n\u001b[1;32m    161\u001b[0m e \u001b[39m=\u001b[39m ctypes\u001b[39m.\u001b[39mcdll\u001b[39m.\u001b[39mLoadLibrary(enchant_lib_path)\n",
      "\u001b[0;31mImportError\u001b[0m: The 'enchant' C library was not found and maybe needs to be installed.\nSee  https://pyenchant.github.io/pyenchant/install.html\nfor details\n"
     ]
    }
   ],
   "source": [
    "import enchant\n",
    "\n",
    "# Create an enchant broker\n",
    "broker = enchant.Broker()\n",
    "\n",
    "# Load the British English dictionary\n",
    "broker.set_ordering('en_GB', 0)\n",
    "d = broker.request_dict('en_GB')\n"
   ]
  },
  {
   "cell_type": "code",
   "execution_count": 40,
   "metadata": {},
   "outputs": [
    {
     "name": "stdout",
     "output_type": "stream",
     "text": [
      "^C\n"
     ]
    }
   ],
   "source": [
    "!sudo apt-get install aspell-en\n",
    "y"
   ]
  },
  {
   "cell_type": "code",
   "execution_count": 41,
   "metadata": {},
   "outputs": [
    {
     "ename": "AttributeError",
     "evalue": "module 'enchant' has no attribute 'list_languages'",
     "output_type": "error",
     "traceback": [
      "\u001b[0;31m---------------------------------------------------------------------------\u001b[0m",
      "\u001b[0;31mAttributeError\u001b[0m                            Traceback (most recent call last)",
      "Cell \u001b[0;32mIn[41], line 3\u001b[0m\n\u001b[1;32m      1\u001b[0m \u001b[39mimport\u001b[39;00m \u001b[39menchant\u001b[39;00m\n\u001b[0;32m----> 3\u001b[0m \u001b[39mprint\u001b[39m(\u001b[39m\"\u001b[39m\u001b[39mThe dict is\u001b[39m\u001b[39m\"\u001b[39m, enchant\u001b[39m.\u001b[39;49mlist_languages())\n\u001b[1;32m      5\u001b[0m slownik \u001b[39m=\u001b[39m enchant\u001b[39m.\u001b[39mDict(\u001b[39m\"\u001b[39m\u001b[39men_US\u001b[39m\u001b[39m\"\u001b[39m)\n",
      "\u001b[0;31mAttributeError\u001b[0m: module 'enchant' has no attribute 'list_languages'"
     ]
    }
   ],
   "source": [
    "import enchant\n",
    "\n",
    "print(\"The dict is\", enchant.list_languages())\n",
    "\n",
    "slownik = enchant.Dict(\"en_US\")"
   ]
  },
  {
   "cell_type": "code",
   "execution_count": 17,
   "metadata": {},
   "outputs": [
    {
     "name": "stdout",
     "output_type": "stream",
     "text": [
      "Collecting symspellpy\n",
      "  Downloading symspellpy-6.7.7-py3-none-any.whl (2.6 MB)\n",
      "\u001b[2K     \u001b[90m━━━━━━━━━━━━━━━━━━━━━━━━━━━━━━━━━━━━━━━━\u001b[0m \u001b[32m2.6/2.6 MB\u001b[0m \u001b[31m30.0 MB/s\u001b[0m eta \u001b[36m0:00:00\u001b[0m00:01\u001b[0m00:01\u001b[0m\n",
      "\u001b[?25hCollecting editdistpy>=0.1.3\n",
      "  Downloading editdistpy-0.1.3.tar.gz (57 kB)\n",
      "\u001b[2K     \u001b[90m━━━━━━━━━━━━━━━━━━━━━━━━━━━━━━━━━━━━━━━━\u001b[0m \u001b[32m57.2/57.2 kB\u001b[0m \u001b[31m13.3 MB/s\u001b[0m eta \u001b[36m0:00:00\u001b[0m\n",
      "\u001b[?25h  Installing build dependencies ... \u001b[?25ldone\n",
      "\u001b[?25h  Getting requirements to build wheel ... \u001b[?25ldone\n",
      "\u001b[?25h  Preparing metadata (pyproject.toml) ... \u001b[?25ldone\n",
      "\u001b[?25hBuilding wheels for collected packages: editdistpy\n",
      "  Building wheel for editdistpy (pyproject.toml) ... \u001b[?25ldone\n",
      "\u001b[?25h  Created wheel for editdistpy: filename=editdistpy-0.1.3-cp39-cp39-linux_x86_64.whl size=32704 sha256=9710c90f6ce3d779f538b2c7454b59ca0ab5fcac6710b49fc23eef04e1e52229\n",
      "  Stored in directory: /root/.cache/pip/wheels/72/16/b1/ea6472dedd6ac13ad789dd294871a76fd6906fca3c010347d1\n",
      "Successfully built editdistpy\n",
      "Installing collected packages: editdistpy, symspellpy\n",
      "Successfully installed editdistpy-0.1.3 symspellpy-6.7.7\n"
     ]
    }
   ],
   "source": [
    "!pip3 install symspellpy"
   ]
  },
  {
   "cell_type": "code",
   "execution_count": 18,
   "metadata": {},
   "outputs": [
    {
     "name": "stderr",
     "output_type": "stream",
     "text": [
      "2023-03-22 10:00:17,154: E symspellpy.symspellpy] Dictionary file not found at path/to/dictionary.txt.\n"
     ]
    }
   ],
   "source": [
    "from symspellpy import SymSpell, Verbosity\n",
    "\n",
    "# create a SymSpell object\n",
    "sym_spell = SymSpell(max_dictionary_edit_distance=2, prefix_length=7)\n",
    "\n",
    "# load a dictionary\n",
    "dictionary_path = \"path/to/dictionary.txt\"\n",
    "sym_spell.load_dictionary(dictionary_path, term_index=0, count_index=1)\n",
    "\n",
    "# example text with a misspelled word\n",
    "text = \"I have a good spell checker for Python. It works really good!\"\n",
    "\n",
    "# split the text into individual words\n",
    "words = text.split()\n",
    "\n",
    "# find the misspelled words\n",
    "misspelled = []\n",
    "for word in words:\n",
    "    suggestions = sym_spell.lookup(word, Verbosity.CLOSEST, max_edit_distance=2)\n",
    "    if not suggestions:\n",
    "        misspelled.append(word)\n",
    "\n",
    "# correct the misspelled words\n",
    "for word in misspelled:\n",
    "    suggestions = sym_spell.lookup(word, Verbosity.TOP, max_edit_distance=2)\n",
    "    if suggestions:\n",
    "        corrected_word = suggestions[0].term\n",
    "        print(f\"Misspelled word '{word}' corrected to '{corrected_word}'\")"
   ]
  },
  {
   "cell_type": "code",
   "execution_count": 19,
   "metadata": {},
   "outputs": [
    {
     "ename": "ModuleNotFoundError",
     "evalue": "No module named 'deepspell'",
     "output_type": "error",
     "traceback": [
      "\u001b[0;31m---------------------------------------------------------------------------\u001b[0m",
      "\u001b[0;31mModuleNotFoundError\u001b[0m                       Traceback (most recent call last)",
      "Cell \u001b[0;32mIn[19], line 1\u001b[0m\n\u001b[0;32m----> 1\u001b[0m \u001b[39mfrom\u001b[39;00m \u001b[39mdeepspell\u001b[39;00m \u001b[39mimport\u001b[39;00m DeepSpell\n\u001b[1;32m      3\u001b[0m \u001b[39m# create a DeepSpell object\u001b[39;00m\n\u001b[1;32m      4\u001b[0m deepspell \u001b[39m=\u001b[39m DeepSpell()\n",
      "\u001b[0;31mModuleNotFoundError\u001b[0m: No module named 'deepspell'"
     ]
    }
   ],
   "source": [
    "from deepspell import DeepSpell\n",
    "\n",
    "# create a DeepSpell object\n",
    "deepspell = DeepSpell()\n",
    "\n",
    "# example text with a misspelled word\n",
    "text = \"I have a good spell checker for Python. It works really good!\"\n",
    "\n",
    "# correct the text\n",
    "corrected_text = deepspell.correct(text)\n",
    "\n",
    "# print the corrected text\n",
    "print(corrected_text)"
   ]
  },
  {
   "cell_type": "code",
   "execution_count": 20,
   "metadata": {},
   "outputs": [
    {
     "name": "stdout",
     "output_type": "stream",
     "text": [
      "\u001b[31mERROR: Could not find a version that satisfies the requirement deepspell (from versions: none)\u001b[0m\u001b[31m\n",
      "\u001b[0m\u001b[31mERROR: No matching distribution found for deepspell\u001b[0m\u001b[31m\n",
      "\u001b[0m"
     ]
    }
   ],
   "source": [
    "!pip3 install deepspell"
   ]
  }
 ],
 "metadata": {
  "kernelspec": {
   "display_name": "es_env",
   "language": "python",
   "name": "python3"
  },
  "language_info": {
   "codemirror_mode": {
    "name": "ipython",
    "version": 3
   },
   "file_extension": ".py",
   "mimetype": "text/x-python",
   "name": "python",
   "nbconvert_exporter": "python",
   "pygments_lexer": "ipython3",
   "version": "3.9.12"
  },
  "orig_nbformat": 4
 },
 "nbformat": 4,
 "nbformat_minor": 2
}
