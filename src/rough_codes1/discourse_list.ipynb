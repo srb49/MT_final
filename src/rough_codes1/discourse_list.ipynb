{
 "cells": [
  {
   "cell_type": "code",
   "execution_count": null,
   "metadata": {},
   "outputs": [],
   "source": [
    "def remove_after_comma(text):\n",
    "    lines = text.split('\\n')\n",
    "    cleaned_lines = []\n",
    "    \n",
    "    for line in lines:\n",
    "        index = line.find(',')\n",
    "        if index != -1:\n",
    "            cleaned_lines.append(line[:index])\n",
    "        else:\n",
    "            cleaned_lines.append(line)\n",
    "    \n",
    "    cleaned_text = '\\n'.join(cleaned_lines)\n",
    "    return cleaned_text\n",
    "\n",
    "with open('../other/discourse.txt',\"r\") as file:\n",
    "    text=file.read()\n",
    "cleaned_text = remove_after_comma(text)\n",
    "print(cleaned_text)"
   ]
  },
  {
   "cell_type": "code",
   "execution_count": 3,
   "metadata": {},
   "outputs": [
    {
     "data": {
      "text/plain": [
       "str"
      ]
     },
     "execution_count": 3,
     "metadata": {},
     "output_type": "execute_result"
    }
   ],
   "source": [
    "type(cleaned_text)"
   ]
  },
  {
   "cell_type": "code",
   "execution_count": null,
   "metadata": {},
   "outputs": [],
   "source": [
    "def remove_first_opening_bracket(txt):\n",
    "    return txt.replace('(', '')\n",
    "\n",
    "cleaned_text1 = remove_first_opening_bracket(cleaned_text)\n",
    "print(cleaned_text1)"
   ]
  },
  {
   "cell_type": "code",
   "execution_count": 7,
   "metadata": {},
   "outputs": [
    {
     "name": "stdout",
     "output_type": "stream",
     "text": [
      "about\n",
      "\n",
      "accordingly\n",
      "\n",
      "additionaly\n",
      "\n",
      "after\n",
      "\n",
      "afterward\n",
      "\n",
      "afterwards\n",
      "\n",
      "albeit\n",
      "\n",
      "also\n",
      "\n",
      "alternatively\n",
      "\n",
      "although\n",
      "\n",
      "and\n",
      "\n",
      "or\n",
      "\n",
      "as\n",
      "\n",
      "because\n",
      "\n",
      "before\n",
      "\n",
      "besides\n",
      "\n",
      "beyond\n",
      "\n",
      "both\n",
      "\n",
      "but\n",
      "\n",
      "by\n",
      "\n",
      "consequently\n",
      "\n",
      "conversely\n",
      "\n",
      "despite\n",
      "\n",
      "earlier\n",
      "\n",
      "else\n",
      "\n",
      "except\n",
      "\n",
      "finally\n",
      "\n",
      "for\n",
      "\n",
      "from\n",
      "\n",
      "further\n",
      "\n",
      "furthermore\n",
      "\n",
      "given\n",
      "\n",
      "hence\n",
      "\n",
      "however\n",
      "\n",
      "if\n",
      "\n",
      "in\n",
      "\n",
      "indeed\n",
      "\n",
      "instead\n",
      "\n",
      "later\n",
      "\n",
      "lest\n",
      "\n",
      "like\n",
      "\n",
      "likewise\n",
      "\n",
      "meantime\n",
      "\n",
      "meanwhile\n",
      "\n",
      "moreover\n",
      "\n",
      "nevertheless\n",
      "\n",
      "next\n",
      "\n",
      "nonetheless\n",
      "\n",
      "nor\n",
      "\n",
      "on\n",
      "\n",
      "once\n",
      "\n",
      "only\n",
      "\n",
      "plus\n",
      "\n",
      "previously\n",
      "\n",
      "rather\n",
      "\n",
      "regardless\n",
      "\n",
      "separately\n",
      "\n",
      "similarly\n",
      "\n",
      "simultaneously\n",
      "\n",
      "since\n",
      "\n",
      "so\n",
      "\n",
      "specifically\n",
      "\n",
      "still\n",
      "\n",
      "subsequently\n",
      "\n",
      "then\n",
      "\n",
      "thereafter\n",
      "\n",
      "thereby\n",
      "\n",
      "though\n",
      "\n",
      "thus\n",
      "\n",
      "till\n",
      "\n",
      "ultimately\n",
      "\n",
      "unless\n",
      "\n",
      "until\n",
      "\n",
      "upon\n",
      "\n",
      "whatever\n",
      "\n",
      "when\n",
      "\n",
      "whenever\n",
      "\n",
      "where\n",
      "\n",
      "whereas\n",
      "\n",
      "whether\n",
      "\n",
      "while\n",
      "\n",
      "with\n",
      "\n",
      "without\n",
      "\n",
      "yet\n",
      "\n",
      "\n"
     ]
    }
   ],
   "source": [
    "def remove_quote(txt):\n",
    "    return txt.replace(\"'\", '')\n",
    "\n",
    "cleaned_text2 = remove_quote(cleaned_text1)\n",
    "print(cleaned_text2)"
   ]
  },
  {
   "cell_type": "code",
   "execution_count": 8,
   "metadata": {},
   "outputs": [
    {
     "name": "stdout",
     "output_type": "stream",
     "text": [
      "['about', 'accordingly', 'additionaly', 'after', 'afterward', 'afterwards', 'albeit', 'also', 'alternatively', 'although', 'and', 'or', 'as', 'because', 'before', 'besides', 'beyond', 'both', 'but', 'by', 'consequently', 'conversely', 'despite', 'earlier', 'else', 'except', 'finally', 'for', 'from', 'further', 'furthermore', 'given', 'hence', 'however', 'if', 'in', 'indeed', 'instead', 'later', 'lest', 'like', 'likewise', 'meantime', 'meanwhile', 'moreover', 'nevertheless', 'next', 'nonetheless', 'nor', 'on', 'once', 'only', 'plus', 'previously', 'rather', 'regardless', 'separately', 'similarly', 'simultaneously', 'since', 'so', 'specifically', 'still', 'subsequently', 'then', 'thereafter', 'thereby', 'though', 'thus', 'till', 'ultimately', 'unless', 'until', 'upon', 'whatever', 'when', 'whenever', 'where', 'whereas', 'whether', 'while', 'with', 'without', 'yet', '']\n"
     ]
    }
   ],
   "source": [
    "def string_to_list(text):\n",
    "    lines = text.split(\"\\n\\n\")\n",
    "    return lines\n",
    "\n",
    "lines_list = string_to_list(cleaned_text2)\n",
    "print(lines_list)"
   ]
  },
  {
   "cell_type": "code",
   "execution_count": 11,
   "metadata": {},
   "outputs": [],
   "source": [
    "str1=\",\".join(lines_list)"
   ]
  },
  {
   "cell_type": "code",
   "execution_count": 12,
   "metadata": {},
   "outputs": [
    {
     "data": {
      "text/plain": [
       "'about,accordingly,additionaly,after,afterward,afterwards,albeit,also,alternatively,although,and,or,as,because,before,besides,beyond,both,but,by,consequently,conversely,despite,earlier,else,except,finally,for,from,further,furthermore,given,hence,however,if,in,indeed,instead,later,lest,like,likewise,meantime,meanwhile,moreover,nevertheless,next,nonetheless,nor,on,once,only,plus,previously,rather,regardless,separately,similarly,simultaneously,since,so,specifically,still,subsequently,then,thereafter,thereby,though,thus,till,ultimately,unless,until,upon,whatever,when,whenever,where,whereas,whether,while,with,without,yet,'"
      ]
     },
     "execution_count": 12,
     "metadata": {},
     "output_type": "execute_result"
    }
   ],
   "source": [
    "str1"
   ]
  },
  {
   "cell_type": "code",
   "execution_count": 13,
   "metadata": {},
   "outputs": [],
   "source": [
    "with open('../other/da.txt', \"w\") as file:\n",
    "    file.write(str1)"
   ]
  }
 ],
 "metadata": {
  "kernelspec": {
   "display_name": "es_env",
   "language": "python",
   "name": "python3"
  },
  "language_info": {
   "codemirror_mode": {
    "name": "ipython",
    "version": 3
   },
   "file_extension": ".py",
   "mimetype": "text/x-python",
   "name": "python",
   "nbconvert_exporter": "python",
   "pygments_lexer": "ipython3",
   "version": "3.9.12"
  },
  "orig_nbformat": 4
 },
 "nbformat": 4,
 "nbformat_minor": 2
}
