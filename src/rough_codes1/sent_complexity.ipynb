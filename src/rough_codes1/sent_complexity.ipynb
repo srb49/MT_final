{
 "cells": [
  {
   "cell_type": "code",
   "execution_count": 3,
   "metadata": {},
   "outputs": [],
   "source": [
    "import statistics\n",
    "import spacy\n",
    "from spacy import displacy"
   ]
  },
  {
   "cell_type": "code",
   "execution_count": null,
   "metadata": {},
   "outputs": [],
   "source": [
    "def walk_tree(node, depth):\n",
    "    if node.n_lefts + node.n_rights > 0:\n",
    "        return max(walk_tree(child, depth + 1) for child in node.children)\n",
    "    else:\n",
    "        return depth\n",
    "    \n",
    "filename = input('Enter a filename: ')\n",
    "with open('../human/input/'+filename, 'r') as file:\n",
    " data1 = file.read()\n",
    "min=100\n",
    "max=0\n",
    "list_dep=[]\n",
    "nlp = spacy.load(\"en_core_web_lg\")\n",
    "text1 = nlp(data1)\n",
    "dep=0\n",
    "options = {\n",
    "    \"compact\": True,\n",
    "    \"color\": \"blue\",\n",
    "    \"distance\": 150,\n",
    "    \"font\": \"Source Sans Pro\",\n",
    "}\n",
    "sent_tokenize1 = (list(text1.sents))\n",
    "for sent1 in sent_tokenize1:\n",
    "    #doc=nlp(sent)\n",
    "    #doc1=nlp(sent1)\n",
    "    displacy.render(sent1, style=\"dep\")\n",
    "    displacy.render(sent1, style=\"dep\", options=options, page=False)\n",
    "    #with open(\"dependency_parse_tree.png\", \"wb\") as f:\n",
    "    #    f.write(sent1._.to_svg())\n",
    "    # svg = displacy.render(sent1, style=\"dep\", options=options, page=False)\n",
    "    # with open(f\"dependency_parse_tree.html\", \"w\", encoding=\"utf-8\") as f:\n",
    "    #     f.write(svg)\n",
    "    #dep=walk_tree(sent1.root, 0)\n",
    "    #print(dep,sent1)\n",
    "    #print(walk_tree(sent1.root, 0))\n",
    "    '''if(dep<min):\n",
    "        min=dep\n",
    "    if dep>max:\n",
    "        max=dep\n",
    "    list_dep.append(dep)'''\n",
    "    ch=input(\"press enter to continue\")\n",
    "    if ch=='e' or ch=='E':\n",
    "        break"
   ]
  },
  {
   "cell_type": "code",
   "execution_count": 5,
   "metadata": {},
   "outputs": [
    {
     "name": "stdout",
     "output_type": "stream",
     "text": [
      "max is  8  min is  2  mean is  4.944  median is  5.0  mode is  5\n",
      "max is  12  min is  3  mean is  6.556  median is  6.0  mode is  5\n",
      "max is  9  min is  2  mean is  4.455  median is  4  mode is  3\n",
      "max is  8  min is  3  mean is  5.333  median is  5.0  mode is  4\n",
      "max is  8  min is  3  mean is  5.071  median is  5.0  mode is  5\n",
      "max is  9  min is  3  mean is  5.857  median is  5.0  mode is  5\n",
      "max is  10  min is  4  mean is  5.6  median is  5.5  mode is  6\n",
      "max is  10  min is  2  mean is  4.857  median is  5  mode is  5\n",
      "max is  10  min is  3  mean is  6.2  median is  7  mode is  8\n",
      "max is  7  min is  2  mean is  4.889  median is  5.0  mode is  5\n",
      "max is  9  min is  3  mean is  5.722  median is  5.0  mode is  5\n",
      "max is  9  min is  2  mean is  4.619  median is  4.0  mode is  4\n",
      "max is  9  min is  1  mean is  6  median is  6.0  mode is  6\n",
      "max is  8  min is  2  mean is  4.944  median is  5.0  mode is  5\n",
      "max is  11  min is  3  mean is  5.438  median is  4.5  mode is  4\n",
      "max is  11  min is  2  mean is  5.625  median is  6.0  mode is  6\n",
      "max is  12  min is  5  mean is  8  median is  8  mode is  6\n",
      "max is  13  min is  4  mean is  6.923  median is  7  mode is  5\n",
      "max is  11  min is  3  mean is  7  median is  7.0  mode is  8\n",
      "max is  9  min is  4  mean is  6.25  median is  6.0  mode is  6\n",
      "max is  11  min is  3  mean is  6.154  median is  6  mode is  5\n",
      "max is  10  min is  1  mean is  4.308  median is  5.0  mode is  6\n",
      "max is  9  min is  2  mean is  5.083  median is  5.0  mode is  6\n",
      "max is  10  min is  2  mean is  4.969  median is  5  mode is  4\n",
      "max is  8  min is  3  mean is  5.667  median is  5.5  mode is  5\n",
      "max is  9  min is  2  mean is  5.083  median is  5.0  mode is  6\n",
      "max is  9  min is  3  mean is  4.652  median is  4  mode is  4\n",
      "max is  10  min is  2  mean is  5.389  median is  5.5  mode is  7\n",
      "max is  9  min is  1  mean is  5.286  median is  5.0  mode is  5\n"
     ]
    }
   ],
   "source": [
    "import glob\n",
    "def walk_tree1(node, depth):\n",
    "    if node.n_lefts + node.n_rights > 0:\n",
    "        #print(\"hi\")\n",
    "        dep=[]\n",
    "        d=0\n",
    "        for child in node.children:\n",
    "            #print(child)\n",
    "            d=walk_tree1(child, depth + 1)\n",
    "            #print(d)\n",
    "            dep.append(d)\n",
    "            #print(dep)\n",
    "        #print(\"max is \",max(dep))\n",
    "        return max(dep)\n",
    "    \n",
    "    else:\n",
    "        return depth\n",
    "final_list=[]\n",
    "nlp = spacy.load(\"en_core_web_lg\")\n",
    "for path in glob.glob('./human/*.txt'): \n",
    "    temp_list=[]\n",
    "    with open(path) as txt_file:\n",
    "        #print(\"new\")\n",
    "        txt = txt_file.read()\n",
    "        txt=\" \".join(txt.split())\n",
    "        #print(txt)\n",
    "        #print(type(txt))\n",
    "    text = nlp(txt)\n",
    "    sent_tokenize1 = (list(text.sents))\n",
    "    for sent in text.sents:\n",
    "        #print(sent)\n",
    "        d=walk_tree1(sent.root, 0)\n",
    "        temp_list.append(d)\n",
    "        #print(d)\n",
    "    #print(sent)\n",
    "    '''filename = input('Enter a filename: ')\n",
    "    with open('input/'+filename, 'r') as file:\n",
    "        data1 = file.read()'''\n",
    "    final_list.append(temp_list)\n",
    "    print(\"max is \",max(temp_list),\" min is \",min(temp_list),\" mean is \", round(statistics.mean(temp_list),3),\n",
    "          \" median is \",statistics.median(temp_list),\" mode is \",statistics.mode(temp_list))\n",
    "    ch=input(\"enter \")\n",
    "    if ch=='e':\n",
    "        break\n",
    "    "
   ]
  },
  {
   "cell_type": "code",
   "execution_count": 6,
   "metadata": {},
   "outputs": [
    {
     "name": "stdout",
     "output_type": "stream",
     "text": [
      "max is  8  min is  3  mean is  4.957  median is  5  mode is  5\n",
      "max is  11  min is  3  mean is  6.333  median is  6  mode is  7\n",
      "max is  11  min is  3  mean is  6.636  median is  6.0  mode is  5\n",
      "max is  13  min is  3  mean is  7.118  median is  7  mode is  9\n",
      "max is  12  min is  3  mean is  5.815  median is  6  mode is  6\n",
      "max is  8  min is  3  mean is  5.444  median is  5.5  mode is  6\n",
      "max is  12  min is  5  mean is  7.308  median is  7  mode is  6\n",
      "max is  8  min is  2  mean is  5.333  median is  5  mode is  5\n",
      "max is  9  min is  3  mean is  6.211  median is  6  mode is  6\n",
      "max is  12  min is  2  mean is  5.955  median is  6.0  mode is  4\n",
      "max is  10  min is  2  mean is  6.4  median is  7  mode is  7\n",
      "max is  13  min is  4  mean is  6.636  median is  6.0  mode is  6\n",
      "max is  10  min is  4  mean is  6.19  median is  6  mode is  5\n",
      "max is  9  min is  4  mean is  6.35  median is  6.0  mode is  7\n",
      "max is  9  min is  4  mean is  5.789  median is  6  mode is  4\n",
      "max is  9  min is  4  mean is  6.778  median is  7.0  mode is  8\n",
      "max is  11  min is  4  mean is  5.941  median is  5  mode is  4\n",
      "max is  13  min is  4  mean is  7.2  median is  7.0  mode is  6\n",
      "max is  8  min is  3  mean is  5.65  median is  6.0  mode is  6\n",
      "max is  9  min is  3  mean is  6.077  median is  6.0  mode is  6\n",
      "max is  8  min is  3  mean is  5.654  median is  5.0  mode is  5\n",
      "max is  11  min is  3  mean is  6.944  median is  6.5  mode is  6\n",
      "max is  8  min is  3  mean is  4.812  median is  4.5  mode is  4\n",
      "max is  11  min is  2  mean is  6.741  median is  7  mode is  8\n",
      "max is  10  min is  3  mean is  6  median is  6  mode is  6\n",
      "max is  10  min is  3  mean is  5.944  median is  6.0  mode is  5\n",
      "max is  10  min is  5  mean is  7  median is  7  mode is  5\n",
      "max is  11  min is  3  mean is  6.312  median is  6.0  mode is  5\n",
      "max is  12  min is  4  mean is  6.391  median is  6  mode is  4\n",
      "max is  9  min is  3  mean is  5.905  median is  6  mode is  5\n",
      "max is  9  min is  4  mean is  5.722  median is  5.5  mode is  5\n",
      "max is  7  min is  3  mean is  5.095  median is  5  mode is  5\n",
      "max is  9  min is  3  mean is  6.333  median is  6.0  mode is  6\n",
      "max is  10  min is  3  mean is  5.826  median is  6  mode is  5\n",
      "max is  11  min is  4  mean is  6.476  median is  6  mode is  4\n",
      "max is  10  min is  2  mean is  5.571  median is  5  mode is  4\n",
      "max is  12  min is  3  mean is  6.667  median is  6.0  mode is  6\n",
      "max is  7  min is  3  mean is  5.143  median is  5  mode is  4\n",
      "max is  10  min is  4  mean is  6.222  median is  6.0  mode is  5\n",
      "max is  9  min is  3  mean is  6.435  median is  6  mode is  5\n"
     ]
    }
   ],
   "source": [
    "import glob\n",
    "def walk_tree1(node, depth):\n",
    "    if node.n_lefts + node.n_rights > 0:\n",
    "        dep=[]\n",
    "        d=0\n",
    "        for child in node.children:\n",
    "            d=walk_tree1(child, depth + 1)\n",
    "            dep.append(d)\n",
    "        return max(dep)\n",
    "    \n",
    "    else:\n",
    "        return depth\n",
    "final_list=[]\n",
    "nlp = spacy.load(\"en_core_web_lg\")\n",
    "for path in glob.glob('./input/*.txt'): \n",
    "    temp_list=[]\n",
    "    with open(path) as txt_file:\n",
    "        txt = txt_file.read()\n",
    "        txt=\" \".join(txt.split())\n",
    "    text = nlp(txt)\n",
    "    sent_tokenize1 = (list(text.sents))\n",
    "    for sent in text.sents:\n",
    "        d=walk_tree1(sent.root, 0)\n",
    "        temp_list.append(d)\n",
    "    final_list.append(temp_list)\n",
    "    print(\"max is \",max(temp_list),\" min is \",min(temp_list),\" mean is \", round(statistics.mean(temp_list),3),\n",
    "          \" median is \",statistics.median(temp_list),\" mode is \",statistics.mode(temp_list))\n",
    "    ch=input(\"enter \")\n",
    "    if ch=='e':\n",
    "        break\n",
    "    "
   ]
  },
  {
   "cell_type": "code",
   "execution_count": 9,
   "metadata": {},
   "outputs": [
    {
     "data": {
      "text/plain": [
       "[4, 5, 2, 4, 6, 2, 4, 7, 5, 8, 5, 5, 5, 10, 4, 5, 5, 3, 4, 4, 5]"
      ]
     },
     "execution_count": 9,
     "metadata": {},
     "output_type": "execute_result"
    }
   ],
   "source": [
    "final_list[7]"
   ]
  },
  {
   "cell_type": "code",
   "execution_count": 7,
   "metadata": {},
   "outputs": [
    {
     "data": {
      "text/plain": [
       "str"
      ]
     },
     "execution_count": 7,
     "metadata": {},
     "output_type": "execute_result"
    }
   ],
   "source": [
    "type(txt)"
   ]
  },
  {
   "cell_type": "code",
   "execution_count": 3,
   "metadata": {},
   "outputs": [
    {
     "name": "stdout",
     "output_type": "stream",
     "text": [
      "is\n"
     ]
    }
   ],
   "source": [
    "print(sent1.root)"
   ]
  },
  {
   "cell_type": "code",
   "execution_count": 7,
   "metadata": {},
   "outputs": [
    {
     "data": {
      "text/plain": [
       "1"
      ]
     },
     "execution_count": 7,
     "metadata": {},
     "output_type": "execute_result"
    }
   ],
   "source": [
    "sent1.root.n_lefts"
   ]
  },
  {
   "cell_type": "code",
   "execution_count": null,
   "metadata": {},
   "outputs": [],
   "source": [
    "sent1.root.n_rights"
   ]
  },
  {
   "cell_type": "code",
   "execution_count": 16,
   "metadata": {},
   "outputs": [
    {
     "name": "stdout",
     "output_type": "stream",
     "text": [
      "<generator object at 0x7fe073fac2c0>\n",
      "<generator object at 0x7fe073fac2c0>\n",
      "<generator object at 0x7fe073fac2c0>\n"
     ]
    }
   ],
   "source": [
    "for child in sent1.root.children:\n",
    "    print(child.children)"
   ]
  }
 ],
 "metadata": {
  "kernelspec": {
   "display_name": "es_env",
   "language": "python",
   "name": "python3"
  },
  "language_info": {
   "codemirror_mode": {
    "name": "ipython",
    "version": 3
   },
   "file_extension": ".py",
   "mimetype": "text/x-python",
   "name": "python",
   "nbconvert_exporter": "python",
   "pygments_lexer": "ipython3",
   "version": "3.9.12"
  },
  "orig_nbformat": 4
 },
 "nbformat": 4,
 "nbformat_minor": 2
}
