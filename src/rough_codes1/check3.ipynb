{
 "cells": [
  {
   "attachments": {},
   "cell_type": "markdown",
   "metadata": {},
   "source": [
    "ngram"
   ]
  },
  {
   "cell_type": "code",
   "execution_count": 9,
   "metadata": {},
   "outputs": [],
   "source": [
    "import nltk\n",
    "from nltk.collocations import *\n",
    "from nltk.util import ngrams\n",
    "from collections import Counter\n",
    "import spacy"
   ]
  },
  {
   "cell_type": "code",
   "execution_count": 2,
   "metadata": {},
   "outputs": [],
   "source": [
    "import re\n",
    "\n",
    "def generate_ngrams(s, n):\n",
    "    # Convert to lowercases\n",
    "    s = s.lower()\n",
    "    \n",
    "    # Replace all none alphanumeric characters with spaces\n",
    "    s = re.sub(r'[^a-zA-Z0-9\\s]', ' ', s)\n",
    "    \n",
    "    # Break sentence in the token, remove empty tokens\n",
    "    tokens = [token for token in s.split(\" \") if token != \"\"]\n",
    "    \n",
    "    # Use the zip function to help us generate n-grams\n",
    "    # Concatentate the tokens into ngrams and return\n",
    "    ngrams = zip(*[tokens[i:] for i in range(n)])\n",
    "    list=[\" \".join(ngram) for ngram in ngrams]\n",
    "    #return [\" \".join(ngram) for ngram in ngrams]\n",
    "    return list"
   ]
  },
  {
   "cell_type": "code",
   "execution_count": 10,
   "metadata": {},
   "outputs": [],
   "source": [
    "filename = input('Enter a filename: ')\n",
    "with open('input/'+filename, 'r') as file:\n",
    " data = file.read()"
   ]
  },
  {
   "cell_type": "code",
   "execution_count": 25,
   "metadata": {},
   "outputs": [
    {
     "name": "stdout",
     "output_type": "stream",
     "text": [
      "13\n"
     ]
    }
   ],
   "source": [
    "nlp = spacy.load(\"en_core_web_lg\")\n",
    "str1=\" \".join(data.split())\n",
    "text = nlp(str1)\n",
    "words = [token.text for token in text if token.is_stop!= True and token.is_punct!= True]\n",
    "w_c=Counter(words)\n",
    "print(w_c.most_common(1)[0][1])"
   ]
  },
  {
   "cell_type": "code",
   "execution_count": 26,
   "metadata": {},
   "outputs": [
    {
     "data": {
      "text/plain": [
       "'students'"
      ]
     },
     "execution_count": 26,
     "metadata": {},
     "output_type": "execute_result"
    }
   ],
   "source": [
    "w_c.most_common(1)[0][0]"
   ]
  },
  {
   "cell_type": "code",
   "execution_count": 28,
   "metadata": {},
   "outputs": [
    {
     "name": "stdout",
     "output_type": "stream",
     "text": [
      "Counter({'students': 13, 'compete': 5, 'competition': 5, 'important': 5, 'world': 4, 'cooperate': 3, 'helps': 3, 'prepare': 3, 'real': 3, 'cooperation': 3, 'environment': 3, 'develop': 3, 'skills': 3, 'work': 3, 'competitive': 3, 'complex': 2, 'hand': 2, 'argue': 2, 'aspect': 2, 'education': 2, 'foster': 2, 'sense': 2, 'community': 2, 'teamwork': 2, 'arguments': 2, 'favor': 2, 'teaching': 2, 'fields': 2, 'success': 2, 'need': 2, 'Additionally': 2, 'help': 2, 'essential': 2, 'learning': 2, 'teach': 2, 'student': 2, 'better': 2, 'cooperative': 2, 'debate': 1, 'taught': 1, 'ongoing': 1, 'years': 1, 'main': 1, 'professional': 1, 'constant': 1, 'necessary': 1, 'encouraging': 1, 'safe': 1, 'controlled': 1, 'learn': 1, 'handle': 1, 'stress': 1, 'pressure': 1, 'succeed': 1, 'chosen': 1, 'profession': 1, 'push': 1, 'best': 1, 'strive': 1, 'excellence': 1, 'Cooperation': 1, 'skill': 1, 'today': 1, 'collaboration': 1, 'increasingly': 1, 'workplace': 1, 'successful': 1, 'wide': 1, 'range': 1, 'business': 1, 'science': 1, 'technology': 1, 'belonging': 1, 'especially': 1, 'feel': 1, 'isolated': 1, 'place': 1, 'Ultimately': 1, 'decision': 1, 'likely': 1, 'depend': 1, 'variety': 1, 'factors': 1, 'including': 1, 'individual': 1, 'school': 1, 'program': 1, 'question': 1, 'field': 1, 'hopes': 1, 'eventually': 1, 'thrive': 1, 'conclusion': 1, 'aspects': 1, 'advantages': 1, 'Instead': 1, 'choosing': 1, 'balance': 1, 'encouraged': 1, 'healthy': 1, 'positive': 1, 'way': 1, 'providing': 1, 'opportunity': 1, 'educators': 1})\n"
     ]
    }
   ],
   "source": [
    "print(w_c)"
   ]
  },
  {
   "cell_type": "code",
   "execution_count": 18,
   "metadata": {},
   "outputs": [
    {
     "data": {
      "text/plain": [
       "\"The debate over whether students should be taught to compete or to cooperate is a complex one that has been ongoing for many years. On one hand, there are those who argue that competition is an important aspect of education and that it helps to prepare students for the real world. On the other hand, there are those who argue that cooperation is just as important, if not more so, and that it helps to foster a sense of community and teamwork among students. One of the main arguments in favor of teaching students to compete is that it helps to prepare them for the real world. In many professional fields, competition is a constant and necessary aspect of success. By encouraging students to compete with one another in a safe and controlled environment, they can learn how to handle the stress and pressure of competition, as well as develop the skills they need to succeed in their chosen profession. Additionally, competition can help students to push themselves to be their best and to strive for excellence. However, there are also many arguments in favor of teaching students to cooperate. Cooperation is an essential skill in today's world, where teamwork and collaboration are increasingly important in the workplace. By learning to work well with others, students can develop the skills they need to be successful in a wide range of fields, from business to science and technology. Additionally, cooperation can help to foster a sense of community and belonging among students, which can be especially important for those who may feel isolated or out of place in a competitive environment. Ultimately, the decision of whether to teach students to compete or to cooperate is a complex one that will likely depend on a variety of factors, including the individual student, the school or program in question, and the field in which the student hopes to eventually work. Some students may thrive in a competitive environment, while others may do better in a cooperative one. In conclusion, both competition and cooperation are important aspects of education and have their own advantages. Instead of choosing one over the other, a balance of both should be encouraged. It is essential to teach students to compete in a healthy and positive way, while also learning to work well with others. By providing students with the opportunity to develop both competitive and cooperative skills, educators can better prepare them for success in the real world.\""
      ]
     },
     "execution_count": 18,
     "metadata": {},
     "output_type": "execute_result"
    }
   ],
   "source": [
    "str1"
   ]
  },
  {
   "cell_type": "code",
   "execution_count": 4,
   "metadata": {},
   "outputs": [],
   "source": [
    "list=generate_ngrams(data, 5)"
   ]
  },
  {
   "cell_type": "code",
   "execution_count": 19,
   "metadata": {},
   "outputs": [
    {
     "data": {
      "text/plain": [
       "['the debate over whether students',\n",
       " 'debate over whether students should',\n",
       " 'over whether students should be',\n",
       " 'whether students should be taught',\n",
       " 'students should be taught to',\n",
       " 'should be taught to compete',\n",
       " 'be taught to compete or',\n",
       " 'taught to compete or to',\n",
       " 'to compete or to cooperate',\n",
       " 'compete or to cooperate is',\n",
       " 'or to cooperate is a',\n",
       " 'to cooperate is a complex',\n",
       " 'cooperate is a complex one',\n",
       " 'is a complex one that',\n",
       " 'a complex one that has',\n",
       " 'complex one that has been',\n",
       " 'one that has been ongoing',\n",
       " 'that has been ongoing for',\n",
       " 'has been ongoing for many',\n",
       " 'been ongoing for many years',\n",
       " 'ongoing for many years on',\n",
       " 'for many years on one',\n",
       " 'many years on one hand',\n",
       " 'years on one hand there',\n",
       " 'on one hand there are',\n",
       " 'one hand there are those',\n",
       " 'hand there are those who',\n",
       " 'there are those who argue',\n",
       " 'are those who argue that',\n",
       " 'those who argue that competition',\n",
       " 'who argue that competition is',\n",
       " 'argue that competition is an',\n",
       " 'that competition is an important',\n",
       " 'competition is an important aspect',\n",
       " 'is an important aspect of',\n",
       " 'an important aspect of education',\n",
       " 'important aspect of education and',\n",
       " 'aspect of education and that',\n",
       " 'of education and that it',\n",
       " 'education and that it helps',\n",
       " 'and that it helps to',\n",
       " 'that it helps to prepare',\n",
       " 'it helps to prepare students',\n",
       " 'helps to prepare students for',\n",
       " 'to prepare students for the',\n",
       " 'prepare students for the real',\n",
       " 'students for the real world',\n",
       " 'for the real world on',\n",
       " 'the real world on the',\n",
       " 'real world on the other',\n",
       " 'world on the other hand',\n",
       " 'on the other hand there',\n",
       " 'the other hand there are',\n",
       " 'other hand there are those',\n",
       " 'hand there are those who',\n",
       " 'there are those who argue',\n",
       " 'are those who argue that',\n",
       " 'those who argue that cooperation',\n",
       " 'who argue that cooperation is',\n",
       " 'argue that cooperation is just',\n",
       " 'that cooperation is just as',\n",
       " 'cooperation is just as important',\n",
       " 'is just as important if',\n",
       " 'just as important if not',\n",
       " 'as important if not more',\n",
       " 'important if not more so',\n",
       " 'if not more so and',\n",
       " 'not more so and that',\n",
       " 'more so and that it',\n",
       " 'so and that it helps',\n",
       " 'and that it helps to',\n",
       " 'that it helps to foster',\n",
       " 'it helps to foster a',\n",
       " 'helps to foster a sense',\n",
       " 'to foster a sense of',\n",
       " 'foster a sense of community',\n",
       " 'a sense of community and',\n",
       " 'sense of community and teamwork',\n",
       " 'of community and teamwork among',\n",
       " 'community and teamwork among students',\n",
       " 'and teamwork among students \\none',\n",
       " 'teamwork among students \\none of',\n",
       " 'among students \\none of the',\n",
       " 'students \\none of the main',\n",
       " '\\none of the main arguments',\n",
       " 'of the main arguments in',\n",
       " 'the main arguments in favor',\n",
       " 'main arguments in favor of',\n",
       " 'arguments in favor of teaching',\n",
       " 'in favor of teaching students',\n",
       " 'favor of teaching students to',\n",
       " 'of teaching students to compete',\n",
       " 'teaching students to compete is',\n",
       " 'students to compete is that',\n",
       " 'to compete is that it',\n",
       " 'compete is that it helps',\n",
       " 'is that it helps to',\n",
       " 'that it helps to prepare',\n",
       " 'it helps to prepare them',\n",
       " 'helps to prepare them for',\n",
       " 'to prepare them for the',\n",
       " 'prepare them for the real',\n",
       " 'them for the real world',\n",
       " 'for the real world in',\n",
       " 'the real world in many',\n",
       " 'real world in many professional',\n",
       " 'world in many professional fields',\n",
       " 'in many professional fields competition',\n",
       " 'many professional fields competition is',\n",
       " 'professional fields competition is a',\n",
       " 'fields competition is a constant',\n",
       " 'competition is a constant and',\n",
       " 'is a constant and necessary',\n",
       " 'a constant and necessary aspect',\n",
       " 'constant and necessary aspect of',\n",
       " 'and necessary aspect of success',\n",
       " 'necessary aspect of success by',\n",
       " 'aspect of success by encouraging',\n",
       " 'of success by encouraging students',\n",
       " 'success by encouraging students to',\n",
       " 'by encouraging students to compete',\n",
       " 'encouraging students to compete with',\n",
       " 'students to compete with one',\n",
       " 'to compete with one another',\n",
       " 'compete with one another in',\n",
       " 'with one another in a',\n",
       " 'one another in a safe',\n",
       " 'another in a safe and',\n",
       " 'in a safe and controlled',\n",
       " 'a safe and controlled environment',\n",
       " 'safe and controlled environment they',\n",
       " 'and controlled environment they can',\n",
       " 'controlled environment they can learn',\n",
       " 'environment they can learn how',\n",
       " 'they can learn how to',\n",
       " 'can learn how to handle',\n",
       " 'learn how to handle the',\n",
       " 'how to handle the stress',\n",
       " 'to handle the stress and',\n",
       " 'handle the stress and pressure',\n",
       " 'the stress and pressure of',\n",
       " 'stress and pressure of competition',\n",
       " 'and pressure of competition as',\n",
       " 'pressure of competition as well',\n",
       " 'of competition as well as',\n",
       " 'competition as well as develop',\n",
       " 'as well as develop the',\n",
       " 'well as develop the skills',\n",
       " 'as develop the skills they',\n",
       " 'develop the skills they need',\n",
       " 'the skills they need to',\n",
       " 'skills they need to succeed',\n",
       " 'they need to succeed in',\n",
       " 'need to succeed in their',\n",
       " 'to succeed in their chosen',\n",
       " 'succeed in their chosen profession',\n",
       " 'in their chosen profession additionally',\n",
       " 'their chosen profession additionally competition',\n",
       " 'chosen profession additionally competition can',\n",
       " 'profession additionally competition can help',\n",
       " 'additionally competition can help students',\n",
       " 'competition can help students to',\n",
       " 'can help students to push',\n",
       " 'help students to push themselves',\n",
       " 'students to push themselves to',\n",
       " 'to push themselves to be',\n",
       " 'push themselves to be their',\n",
       " 'themselves to be their best',\n",
       " 'to be their best and',\n",
       " 'be their best and to',\n",
       " 'their best and to strive',\n",
       " 'best and to strive for',\n",
       " 'and to strive for excellence',\n",
       " 'to strive for excellence \\nhowever',\n",
       " 'strive for excellence \\nhowever there',\n",
       " 'for excellence \\nhowever there are',\n",
       " 'excellence \\nhowever there are also',\n",
       " '\\nhowever there are also many',\n",
       " 'there are also many arguments',\n",
       " 'are also many arguments in',\n",
       " 'also many arguments in favor',\n",
       " 'many arguments in favor of',\n",
       " 'arguments in favor of teaching',\n",
       " 'in favor of teaching students',\n",
       " 'favor of teaching students to',\n",
       " 'of teaching students to cooperate',\n",
       " 'teaching students to cooperate cooperation',\n",
       " 'students to cooperate cooperation is',\n",
       " 'to cooperate cooperation is an',\n",
       " 'cooperate cooperation is an essential',\n",
       " 'cooperation is an essential skill',\n",
       " 'is an essential skill in',\n",
       " 'an essential skill in today',\n",
       " 'essential skill in today s',\n",
       " 'skill in today s world',\n",
       " 'in today s world where',\n",
       " 'today s world where teamwork',\n",
       " 's world where teamwork and',\n",
       " 'world where teamwork and collaboration',\n",
       " 'where teamwork and collaboration are',\n",
       " 'teamwork and collaboration are increasingly',\n",
       " 'and collaboration are increasingly important',\n",
       " 'collaboration are increasingly important in',\n",
       " 'are increasingly important in the',\n",
       " 'increasingly important in the workplace',\n",
       " 'important in the workplace by',\n",
       " 'in the workplace by learning',\n",
       " 'the workplace by learning to',\n",
       " 'workplace by learning to work',\n",
       " 'by learning to work well',\n",
       " 'learning to work well with',\n",
       " 'to work well with others',\n",
       " 'work well with others students',\n",
       " 'well with others students can',\n",
       " 'with others students can develop',\n",
       " 'others students can develop the',\n",
       " 'students can develop the skills',\n",
       " 'can develop the skills they',\n",
       " 'develop the skills they need',\n",
       " 'the skills they need to',\n",
       " 'skills they need to be',\n",
       " 'they need to be successful',\n",
       " 'need to be successful in',\n",
       " 'to be successful in a',\n",
       " 'be successful in a wide',\n",
       " 'successful in a wide range',\n",
       " 'in a wide range of',\n",
       " 'a wide range of fields',\n",
       " 'wide range of fields from',\n",
       " 'range of fields from business',\n",
       " 'of fields from business to',\n",
       " 'fields from business to science',\n",
       " 'from business to science and',\n",
       " 'business to science and technology',\n",
       " 'to science and technology additionally',\n",
       " 'science and technology additionally cooperation',\n",
       " 'and technology additionally cooperation can',\n",
       " 'technology additionally cooperation can help',\n",
       " 'additionally cooperation can help to',\n",
       " 'cooperation can help to foster',\n",
       " 'can help to foster a',\n",
       " 'help to foster a sense',\n",
       " 'to foster a sense of',\n",
       " 'foster a sense of community',\n",
       " 'a sense of community and',\n",
       " 'sense of community and belonging',\n",
       " 'of community and belonging among',\n",
       " 'community and belonging among students',\n",
       " 'and belonging among students which',\n",
       " 'belonging among students which can',\n",
       " 'among students which can be',\n",
       " 'students which can be especially',\n",
       " 'which can be especially important',\n",
       " 'can be especially important for',\n",
       " 'be especially important for those',\n",
       " 'especially important for those who',\n",
       " 'important for those who may',\n",
       " 'for those who may feel',\n",
       " 'those who may feel isolated',\n",
       " 'who may feel isolated or',\n",
       " 'may feel isolated or out',\n",
       " 'feel isolated or out of',\n",
       " 'isolated or out of place',\n",
       " 'or out of place in',\n",
       " 'out of place in a',\n",
       " 'of place in a competitive',\n",
       " 'place in a competitive environment',\n",
       " 'in a competitive environment \\nultimately',\n",
       " 'a competitive environment \\nultimately the',\n",
       " 'competitive environment \\nultimately the decision',\n",
       " 'environment \\nultimately the decision of',\n",
       " '\\nultimately the decision of whether',\n",
       " 'the decision of whether to',\n",
       " 'decision of whether to teach',\n",
       " 'of whether to teach students',\n",
       " 'whether to teach students to',\n",
       " 'to teach students to compete',\n",
       " 'teach students to compete or',\n",
       " 'students to compete or to',\n",
       " 'to compete or to cooperate',\n",
       " 'compete or to cooperate is',\n",
       " 'or to cooperate is a',\n",
       " 'to cooperate is a complex',\n",
       " 'cooperate is a complex one',\n",
       " 'is a complex one that',\n",
       " 'a complex one that will',\n",
       " 'complex one that will likely',\n",
       " 'one that will likely depend',\n",
       " 'that will likely depend on',\n",
       " 'will likely depend on a',\n",
       " 'likely depend on a variety',\n",
       " 'depend on a variety of',\n",
       " 'on a variety of factors',\n",
       " 'a variety of factors including',\n",
       " 'variety of factors including the',\n",
       " 'of factors including the individual',\n",
       " 'factors including the individual student',\n",
       " 'including the individual student the',\n",
       " 'the individual student the school',\n",
       " 'individual student the school or',\n",
       " 'student the school or program',\n",
       " 'the school or program in',\n",
       " 'school or program in question',\n",
       " 'or program in question and',\n",
       " 'program in question and the',\n",
       " 'in question and the field',\n",
       " 'question and the field in',\n",
       " 'and the field in which',\n",
       " 'the field in which the',\n",
       " 'field in which the student',\n",
       " 'in which the student hopes',\n",
       " 'which the student hopes to',\n",
       " 'the student hopes to eventually',\n",
       " 'student hopes to eventually work',\n",
       " 'hopes to eventually work some',\n",
       " 'to eventually work some students',\n",
       " 'eventually work some students may',\n",
       " 'work some students may thrive',\n",
       " 'some students may thrive in',\n",
       " 'students may thrive in a',\n",
       " 'may thrive in a competitive',\n",
       " 'thrive in a competitive environment',\n",
       " 'in a competitive environment while',\n",
       " 'a competitive environment while others',\n",
       " 'competitive environment while others may',\n",
       " 'environment while others may do',\n",
       " 'while others may do better',\n",
       " 'others may do better in',\n",
       " 'may do better in a',\n",
       " 'do better in a cooperative',\n",
       " 'better in a cooperative one',\n",
       " 'in a cooperative one \\nin',\n",
       " 'a cooperative one \\nin conclusion',\n",
       " 'cooperative one \\nin conclusion both',\n",
       " 'one \\nin conclusion both competition',\n",
       " '\\nin conclusion both competition and',\n",
       " 'conclusion both competition and cooperation',\n",
       " 'both competition and cooperation are',\n",
       " 'competition and cooperation are important',\n",
       " 'and cooperation are important aspects',\n",
       " 'cooperation are important aspects of',\n",
       " 'are important aspects of education',\n",
       " 'important aspects of education and',\n",
       " 'aspects of education and have',\n",
       " 'of education and have their',\n",
       " 'education and have their own',\n",
       " 'and have their own advantages',\n",
       " 'have their own advantages instead',\n",
       " 'their own advantages instead of',\n",
       " 'own advantages instead of choosing',\n",
       " 'advantages instead of choosing one',\n",
       " 'instead of choosing one over',\n",
       " 'of choosing one over the',\n",
       " 'choosing one over the other',\n",
       " 'one over the other a',\n",
       " 'over the other a balance',\n",
       " 'the other a balance of',\n",
       " 'other a balance of both',\n",
       " 'a balance of both should',\n",
       " 'balance of both should be',\n",
       " 'of both should be encouraged',\n",
       " 'both should be encouraged it',\n",
       " 'should be encouraged it is',\n",
       " 'be encouraged it is essential',\n",
       " 'encouraged it is essential to',\n",
       " 'it is essential to teach',\n",
       " 'is essential to teach students',\n",
       " 'essential to teach students to',\n",
       " 'to teach students to compete',\n",
       " 'teach students to compete in',\n",
       " 'students to compete in a',\n",
       " 'to compete in a healthy',\n",
       " 'compete in a healthy and',\n",
       " 'in a healthy and positive',\n",
       " 'a healthy and positive way',\n",
       " 'healthy and positive way while',\n",
       " 'and positive way while also',\n",
       " 'positive way while also learning',\n",
       " 'way while also learning to',\n",
       " 'while also learning to work',\n",
       " 'also learning to work well',\n",
       " 'learning to work well with',\n",
       " 'to work well with others',\n",
       " 'work well with others by',\n",
       " 'well with others by providing',\n",
       " 'with others by providing students',\n",
       " 'others by providing students with',\n",
       " 'by providing students with the',\n",
       " 'providing students with the opportunity',\n",
       " 'students with the opportunity to',\n",
       " 'with the opportunity to develop',\n",
       " 'the opportunity to develop both',\n",
       " 'opportunity to develop both competitive',\n",
       " 'to develop both competitive and',\n",
       " 'develop both competitive and cooperative',\n",
       " 'both competitive and cooperative skills',\n",
       " 'competitive and cooperative skills educators',\n",
       " 'and cooperative skills educators can',\n",
       " 'cooperative skills educators can better',\n",
       " 'skills educators can better prepare',\n",
       " 'educators can better prepare them',\n",
       " 'can better prepare them for',\n",
       " 'better prepare them for success',\n",
       " 'prepare them for success in',\n",
       " 'them for success in the',\n",
       " 'for success in the real',\n",
       " 'success in the real world',\n",
       " 'in the real world \\n\\n']"
      ]
     },
     "execution_count": 19,
     "metadata": {},
     "output_type": "execute_result"
    }
   ],
   "source": [
    "list"
   ]
  },
  {
   "cell_type": "code",
   "execution_count": 5,
   "metadata": {},
   "outputs": [
    {
     "data": {
      "text/plain": [
       "280"
      ]
     },
     "execution_count": 5,
     "metadata": {},
     "output_type": "execute_result"
    }
   ],
   "source": [
    "len(list)"
   ]
  },
  {
   "cell_type": "code",
   "execution_count": 26,
   "metadata": {},
   "outputs": [
    {
     "data": {
      "text/plain": [
       "int"
      ]
     },
     "execution_count": 26,
     "metadata": {},
     "output_type": "execute_result"
    }
   ],
   "source": [
    "type(len(list))"
   ]
  },
  {
   "cell_type": "code",
   "execution_count": 6,
   "metadata": {},
   "outputs": [
    {
     "name": "stdout",
     "output_type": "stream",
     "text": [
      "263\n"
     ]
    }
   ],
   "source": [
    "myset = set(list)\n",
    "# find the length of the Python set variable myset\n",
    "print(len(myset))"
   ]
  },
  {
   "cell_type": "code",
   "execution_count": 23,
   "metadata": {},
   "outputs": [
    {
     "name": "stdout",
     "output_type": "stream",
     "text": [
      "List of duplicates ['hand there are those who', 'there are those who argue', 'are those who argue that', 'and that it helps to', 'that it helps to prepare', 'arguments in favor of teaching', 'in favor of teaching students', 'favor of teaching students to', 'develop the skills they need', 'the skills they need to', 'to foster a sense of', 'foster a sense of community', 'a sense of community and', 'to compete or to cooperate', 'compete or to cooperate is', 'or to cooperate is a', 'to cooperate is a complex', 'cooperate is a complex one', 'is a complex one that', 'to teach students to compete', 'learning to work well with', 'to work well with others']\n"
     ]
    }
   ],
   "source": [
    "newlist = [] \n",
    "duplist = []\n",
    "for i in list:\n",
    "    if i not in newlist:\n",
    "        newlist.append(i)\n",
    "    else:\n",
    "        duplist.append(i) \n",
    "print(\"List of duplicates\", duplist)\n",
    "#print(\"Unique Item List\", newlist)"
   ]
  },
  {
   "cell_type": "code",
   "execution_count": 24,
   "metadata": {},
   "outputs": [
    {
     "data": {
      "text/plain": [
       "['hand there are those who',\n",
       " 'there are those who argue',\n",
       " 'are those who argue that',\n",
       " 'and that it helps to',\n",
       " 'that it helps to prepare',\n",
       " 'arguments in favor of teaching',\n",
       " 'in favor of teaching students',\n",
       " 'favor of teaching students to',\n",
       " 'develop the skills they need',\n",
       " 'the skills they need to',\n",
       " 'to foster a sense of',\n",
       " 'foster a sense of community',\n",
       " 'a sense of community and',\n",
       " 'to compete or to cooperate',\n",
       " 'compete or to cooperate is',\n",
       " 'or to cooperate is a',\n",
       " 'to cooperate is a complex',\n",
       " 'cooperate is a complex one',\n",
       " 'is a complex one that',\n",
       " 'to teach students to compete',\n",
       " 'learning to work well with',\n",
       " 'to work well with others']"
      ]
     },
     "execution_count": 24,
     "metadata": {},
     "output_type": "execute_result"
    }
   ],
   "source": [
    "duplist"
   ]
  },
  {
   "cell_type": "code",
   "execution_count": 7,
   "metadata": {},
   "outputs": [
    {
     "name": "stdout",
     "output_type": "stream",
     "text": [
      "Counter({'local customs and codes of': 3, 'customs and codes of behavior': 3, 'their adopted countries it is': 2, 'abandon their old ways and': 2, 'their old ways and fully': 2, 'old ways and fully adapt': 2, 'ways and fully adapt to': 2, 'and fully adapt to local': 2, 'fully adapt to local customs': 2, 'adapt to local customs and': 2, 'to local customs and codes': 2, 'while it is important for': 2, 'it is important for immigrants': 2, 'is important for immigrants to': 2, 'cultural identity and integrating into': 2, 'it is true that more': 1, 'is true that more people': 1, 'true that more people are': 1, 'that more people are migrating': 1, 'more people are migrating to': 1, 'people are migrating to other': 1, 'are migrating to other countries': 1, 'migrating to other countries than': 1, 'to other countries than ever': 1, 'other countries than ever before': 1, 'countries than ever before due': 1, 'than ever before due to': 1, 'ever before due to a': 1, 'before due to a variety': 1, 'due to a variety of': 1, 'to a variety of reasons': 1, 'a variety of reasons such': 1, 'variety of reasons such as': 1, 'of reasons such as economic': 1, 'reasons such as economic opportunities': 1, 'such as economic opportunities political': 1, 'as economic opportunities political instability': 1, 'economic opportunities political instability and': 1, 'opportunities political instability and persecution': 1, 'political instability and persecution as': 1, 'instability and persecution as immigrants': 1, 'and persecution as immigrants settle': 1, 'persecution as immigrants settle in': 1, 'as immigrants settle in their': 1, 'immigrants settle in their adopted': 1, 'settle in their adopted countries': 1, 'in their adopted countries it': 1, 'adopted countries it is important': 1, 'countries it is important for': 1, 'it is important for them': 1, 'is important for them to': 1, 'important for them to become': 1, 'for them to become integrated': 1, 'them to become integrated into': 1, 'to become integrated into society': 1, 'become integrated into society in': 1, 'integrated into society in order': 1, 'into society in order to': 1, 'society in order to lead': 1, 'in order to lead successful': 1, 'order to lead successful and': 1, 'to lead successful and fulfilling': 1, 'lead successful and fulfilling lives': 1, 'successful and fulfilling lives \\none': 1, 'and fulfilling lives \\none approach': 1, 'fulfilling lives \\none approach to': 1, 'lives \\none approach to integration': 1, '\\none approach to integration is': 1, 'approach to integration is for': 1, 'to integration is for immigrants': 1, 'integration is for immigrants to': 1, 'is for immigrants to abandon': 1, 'for immigrants to abandon their': 1, 'immigrants to abandon their old': 1, 'to abandon their old ways': 1, 'and codes of behavior this': 1, 'codes of behavior this approach': 1, 'of behavior this approach holds': 1, 'behavior this approach holds that': 1, 'this approach holds that immigrants': 1, 'approach holds that immigrants should': 1, 'holds that immigrants should fully': 1, 'that immigrants should fully embrace': 1, 'immigrants should fully embrace the': 1, 'should fully embrace the culture': 1, 'fully embrace the culture of': 1, 'embrace the culture of their': 1, 'the culture of their new': 1, 'culture of their new country': 1, 'of their new country and': 1, 'their new country and leave': 1, 'new country and leave behind': 1, 'country and leave behind their': 1, 'and leave behind their traditional': 1, 'leave behind their traditional customs': 1, 'behind their traditional customs and': 1, 'their traditional customs and practices': 1, 'traditional customs and practices \\nhowever': 1, 'customs and practices \\nhowever i': 1, 'and practices \\nhowever i disagree': 1, 'practices \\nhowever i disagree with': 1, '\\nhowever i disagree with this': 1, 'i disagree with this approach': 1, 'disagree with this approach while': 1, 'with this approach while it': 1, 'this approach while it is': 1, 'approach while it is important': 1, 'important for immigrants to be': 1, 'for immigrants to be respectful': 1, 'immigrants to be respectful of': 1, 'to be respectful of the': 1, 'be respectful of the culture': 1, 'respectful of the culture and': 1, 'of the culture and customs': 1, 'the culture and customs of': 1, 'culture and customs of their': 1, 'and customs of their new': 1, 'customs of their new country': 1, 'of their new country it': 1, 'their new country it is': 1, 'new country it is also': 1, 'country it is also important': 1, 'it is also important for': 1, 'is also important for them': 1, 'also important for them to': 1, 'important for them to maintain': 1, 'for them to maintain their': 1, 'them to maintain their own': 1, 'to maintain their own cultural': 1, 'maintain their own cultural identity': 1, 'their own cultural identity abandoning': 1, 'own cultural identity abandoning one': 1, 'cultural identity abandoning one s': 1, 'identity abandoning one s old': 1, 'abandoning one s old ways': 1, 'one s old ways and': 1, 's old ways and fully': 1, 'old ways and fully adapting': 1, 'ways and fully adapting to': 1, 'and fully adapting to local': 1, 'fully adapting to local customs': 1, 'adapting to local customs can': 1, 'to local customs can lead': 1, 'local customs can lead to': 1, 'customs can lead to feelings': 1, 'can lead to feelings of': 1, 'lead to feelings of alienation': 1, 'to feelings of alienation and': 1, 'feelings of alienation and loss': 1, 'of alienation and loss of': 1, 'alienation and loss of self': 1, 'and loss of self \\na': 1, 'loss of self \\na better': 1, 'of self \\na better approach': 1, 'self \\na better approach would': 1, '\\na better approach would be': 1, 'better approach would be for': 1, 'approach would be for immigrants': 1, 'would be for immigrants to': 1, 'be for immigrants to find': 1, 'for immigrants to find a': 1, 'immigrants to find a balance': 1, 'to find a balance between': 1, 'find a balance between maintaining': 1, 'a balance between maintaining their': 1, 'balance between maintaining their own': 1, 'between maintaining their own cultural': 1, 'maintaining their own cultural identity': 1, 'their own cultural identity and': 1, 'own cultural identity and integrating': 1, 'identity and integrating into their': 1, 'and integrating into their new': 1, 'integrating into their new society': 1, 'into their new society this': 1, 'their new society this can': 1, 'new society this can involve': 1, 'society this can involve learning': 1, 'this can involve learning and': 1, 'can involve learning and understanding': 1, 'involve learning and understanding local': 1, 'learning and understanding local customs': 1, 'and understanding local customs and': 1, 'understanding local customs and codes': 1, 'and codes of behavior while': 1, 'codes of behavior while also': 1, 'of behavior while also sharing': 1, 'behavior while also sharing their': 1, 'while also sharing their own': 1, 'also sharing their own cultural': 1, 'sharing their own cultural practices': 1, 'their own cultural practices and': 1, 'own cultural practices and traditions': 1, 'cultural practices and traditions with': 1, 'practices and traditions with their': 1, 'and traditions with their new': 1, 'traditions with their new community': 1, 'with their new community this': 1, 'their new community this can': 1, 'new community this can foster': 1, 'community this can foster mutual': 1, 'this can foster mutual understanding': 1, 'can foster mutual understanding and': 1, 'foster mutual understanding and respect': 1, 'mutual understanding and respect and': 1, 'understanding and respect and can': 1, 'and respect and can ultimately': 1, 'respect and can ultimately lead': 1, 'and can ultimately lead to': 1, 'can ultimately lead to a': 1, 'ultimately lead to a more': 1, 'lead to a more harmonious': 1, 'to a more harmonious and': 1, 'a more harmonious and inclusive': 1, 'more harmonious and inclusive society': 1, 'harmonious and inclusive society \\nin': 1, 'and inclusive society \\nin conclusion': 1, 'inclusive society \\nin conclusion while': 1, 'society \\nin conclusion while it': 1, '\\nin conclusion while it is': 1, 'conclusion while it is important': 1, 'important for immigrants to become': 1, 'for immigrants to become integrated': 1, 'immigrants to become integrated into': 1, 'to become integrated into their': 1, 'become integrated into their adopted': 1, 'integrated into their adopted countries': 1, 'into their adopted countries it': 1, 'adopted countries it is not': 1, 'countries it is not necessary': 1, 'it is not necessary for': 1, 'is not necessary for them': 1, 'not necessary for them to': 1, 'necessary for them to completely': 1, 'for them to completely abandon': 1, 'them to completely abandon their': 1, 'to completely abandon their old': 1, 'completely abandon their old ways': 1, 'and codes of behavior finding': 1, 'codes of behavior finding a': 1, 'of behavior finding a balance': 1, 'behavior finding a balance between': 1, 'finding a balance between maintaining': 1, 'a balance between maintaining one': 1, 'balance between maintaining one s': 1, 'between maintaining one s cultural': 1, 'maintaining one s cultural identity': 1, 'one s cultural identity and': 1, 's cultural identity and integrating': 1, 'identity and integrating into the': 1, 'and integrating into the new': 1, 'integrating into the new society': 1, 'into the new society is': 1, 'the new society is a': 1, 'new society is a more': 1, 'society is a more effective': 1, 'is a more effective approach': 1, 'a more effective approach for': 1, 'more effective approach for fostering': 1, 'effective approach for fostering mutual': 1, 'approach for fostering mutual understanding': 1, 'for fostering mutual understanding and': 1, 'fostering mutual understanding and respect': 1, 'mutual understanding and respect \\n\\n\\n': 1})\n"
     ]
    }
   ],
   "source": [
    "import collections\n",
    "c = collections.Counter(list)\n",
    "print(c)"
   ]
  },
  {
   "cell_type": "code",
   "execution_count": 27,
   "metadata": {},
   "outputs": [
    {
     "name": "stdout",
     "output_type": "stream",
     "text": [
      "Counter({'to compete or to cooperate': 2, 'compete or to cooperate is': 2, 'or to cooperate is a': 2, 'to cooperate is a complex': 2, 'cooperate is a complex one': 2, 'is a complex one that': 2, 'hand there are those who': 2, 'there are those who argue': 2, 'are those who argue that': 2, 'and that it helps to': 2, 'that it helps to prepare': 2, 'to foster a sense of': 2, 'foster a sense of community': 2, 'a sense of community and': 2, 'arguments in favor of teaching': 2, 'in favor of teaching students': 2, 'favor of teaching students to': 2, 'develop the skills they need': 2, 'the skills they need to': 2, 'learning to work well with': 2, 'to work well with others': 2, 'to teach students to compete': 2, 'the debate over whether students': 1, 'debate over whether students should': 1, 'over whether students should be': 1, 'whether students should be taught': 1, 'students should be taught to': 1, 'should be taught to compete': 1, 'be taught to compete or': 1, 'taught to compete or to': 1, 'a complex one that has': 1, 'complex one that has been': 1, 'one that has been ongoing': 1, 'that has been ongoing for': 1, 'has been ongoing for many': 1, 'been ongoing for many years': 1, 'ongoing for many years on': 1, 'for many years on one': 1, 'many years on one hand': 1, 'years on one hand there': 1, 'on one hand there are': 1, 'one hand there are those': 1, 'those who argue that competition': 1, 'who argue that competition is': 1, 'argue that competition is an': 1, 'that competition is an important': 1, 'competition is an important aspect': 1, 'is an important aspect of': 1, 'an important aspect of education': 1, 'important aspect of education and': 1, 'aspect of education and that': 1, 'of education and that it': 1, 'education and that it helps': 1, 'it helps to prepare students': 1, 'helps to prepare students for': 1, 'to prepare students for the': 1, 'prepare students for the real': 1, 'students for the real world': 1, 'for the real world on': 1, 'the real world on the': 1, 'real world on the other': 1, 'world on the other hand': 1, 'on the other hand there': 1, 'the other hand there are': 1, 'other hand there are those': 1, 'those who argue that cooperation': 1, 'who argue that cooperation is': 1, 'argue that cooperation is just': 1, 'that cooperation is just as': 1, 'cooperation is just as important': 1, 'is just as important if': 1, 'just as important if not': 1, 'as important if not more': 1, 'important if not more so': 1, 'if not more so and': 1, 'not more so and that': 1, 'more so and that it': 1, 'so and that it helps': 1, 'that it helps to foster': 1, 'it helps to foster a': 1, 'helps to foster a sense': 1, 'sense of community and teamwork': 1, 'of community and teamwork among': 1, 'community and teamwork among students': 1, 'and teamwork among students \\none': 1, 'teamwork among students \\none of': 1, 'among students \\none of the': 1, 'students \\none of the main': 1, '\\none of the main arguments': 1, 'of the main arguments in': 1, 'the main arguments in favor': 1, 'main arguments in favor of': 1, 'of teaching students to compete': 1, 'teaching students to compete is': 1, 'students to compete is that': 1, 'to compete is that it': 1, 'compete is that it helps': 1, 'is that it helps to': 1, 'it helps to prepare them': 1, 'helps to prepare them for': 1, 'to prepare them for the': 1, 'prepare them for the real': 1, 'them for the real world': 1, 'for the real world in': 1, 'the real world in many': 1, 'real world in many professional': 1, 'world in many professional fields': 1, 'in many professional fields competition': 1, 'many professional fields competition is': 1, 'professional fields competition is a': 1, 'fields competition is a constant': 1, 'competition is a constant and': 1, 'is a constant and necessary': 1, 'a constant and necessary aspect': 1, 'constant and necessary aspect of': 1, 'and necessary aspect of success': 1, 'necessary aspect of success by': 1, 'aspect of success by encouraging': 1, 'of success by encouraging students': 1, 'success by encouraging students to': 1, 'by encouraging students to compete': 1, 'encouraging students to compete with': 1, 'students to compete with one': 1, 'to compete with one another': 1, 'compete with one another in': 1, 'with one another in a': 1, 'one another in a safe': 1, 'another in a safe and': 1, 'in a safe and controlled': 1, 'a safe and controlled environment': 1, 'safe and controlled environment they': 1, 'and controlled environment they can': 1, 'controlled environment they can learn': 1, 'environment they can learn how': 1, 'they can learn how to': 1, 'can learn how to handle': 1, 'learn how to handle the': 1, 'how to handle the stress': 1, 'to handle the stress and': 1, 'handle the stress and pressure': 1, 'the stress and pressure of': 1, 'stress and pressure of competition': 1, 'and pressure of competition as': 1, 'pressure of competition as well': 1, 'of competition as well as': 1, 'competition as well as develop': 1, 'as well as develop the': 1, 'well as develop the skills': 1, 'as develop the skills they': 1, 'skills they need to succeed': 1, 'they need to succeed in': 1, 'need to succeed in their': 1, 'to succeed in their chosen': 1, 'succeed in their chosen profession': 1, 'in their chosen profession additionally': 1, 'their chosen profession additionally competition': 1, 'chosen profession additionally competition can': 1, 'profession additionally competition can help': 1, 'additionally competition can help students': 1, 'competition can help students to': 1, 'can help students to push': 1, 'help students to push themselves': 1, 'students to push themselves to': 1, 'to push themselves to be': 1, 'push themselves to be their': 1, 'themselves to be their best': 1, 'to be their best and': 1, 'be their best and to': 1, 'their best and to strive': 1, 'best and to strive for': 1, 'and to strive for excellence': 1, 'to strive for excellence \\nhowever': 1, 'strive for excellence \\nhowever there': 1, 'for excellence \\nhowever there are': 1, 'excellence \\nhowever there are also': 1, '\\nhowever there are also many': 1, 'there are also many arguments': 1, 'are also many arguments in': 1, 'also many arguments in favor': 1, 'many arguments in favor of': 1, 'of teaching students to cooperate': 1, 'teaching students to cooperate cooperation': 1, 'students to cooperate cooperation is': 1, 'to cooperate cooperation is an': 1, 'cooperate cooperation is an essential': 1, 'cooperation is an essential skill': 1, 'is an essential skill in': 1, 'an essential skill in today': 1, 'essential skill in today s': 1, 'skill in today s world': 1, 'in today s world where': 1, 'today s world where teamwork': 1, 's world where teamwork and': 1, 'world where teamwork and collaboration': 1, 'where teamwork and collaboration are': 1, 'teamwork and collaboration are increasingly': 1, 'and collaboration are increasingly important': 1, 'collaboration are increasingly important in': 1, 'are increasingly important in the': 1, 'increasingly important in the workplace': 1, 'important in the workplace by': 1, 'in the workplace by learning': 1, 'the workplace by learning to': 1, 'workplace by learning to work': 1, 'by learning to work well': 1, 'work well with others students': 1, 'well with others students can': 1, 'with others students can develop': 1, 'others students can develop the': 1, 'students can develop the skills': 1, 'can develop the skills they': 1, 'skills they need to be': 1, 'they need to be successful': 1, 'need to be successful in': 1, 'to be successful in a': 1, 'be successful in a wide': 1, 'successful in a wide range': 1, 'in a wide range of': 1, 'a wide range of fields': 1, 'wide range of fields from': 1, 'range of fields from business': 1, 'of fields from business to': 1, 'fields from business to science': 1, 'from business to science and': 1, 'business to science and technology': 1, 'to science and technology additionally': 1, 'science and technology additionally cooperation': 1, 'and technology additionally cooperation can': 1, 'technology additionally cooperation can help': 1, 'additionally cooperation can help to': 1, 'cooperation can help to foster': 1, 'can help to foster a': 1, 'help to foster a sense': 1, 'sense of community and belonging': 1, 'of community and belonging among': 1, 'community and belonging among students': 1, 'and belonging among students which': 1, 'belonging among students which can': 1, 'among students which can be': 1, 'students which can be especially': 1, 'which can be especially important': 1, 'can be especially important for': 1, 'be especially important for those': 1, 'especially important for those who': 1, 'important for those who may': 1, 'for those who may feel': 1, 'those who may feel isolated': 1, 'who may feel isolated or': 1, 'may feel isolated or out': 1, 'feel isolated or out of': 1, 'isolated or out of place': 1, 'or out of place in': 1, 'out of place in a': 1, 'of place in a competitive': 1, 'place in a competitive environment': 1, 'in a competitive environment \\nultimately': 1, 'a competitive environment \\nultimately the': 1, 'competitive environment \\nultimately the decision': 1, 'environment \\nultimately the decision of': 1, '\\nultimately the decision of whether': 1, 'the decision of whether to': 1, 'decision of whether to teach': 1, 'of whether to teach students': 1, 'whether to teach students to': 1, 'teach students to compete or': 1, 'students to compete or to': 1, 'a complex one that will': 1, 'complex one that will likely': 1, 'one that will likely depend': 1, 'that will likely depend on': 1, 'will likely depend on a': 1, 'likely depend on a variety': 1, 'depend on a variety of': 1, 'on a variety of factors': 1, 'a variety of factors including': 1, 'variety of factors including the': 1, 'of factors including the individual': 1, 'factors including the individual student': 1, 'including the individual student the': 1, 'the individual student the school': 1, 'individual student the school or': 1, 'student the school or program': 1, 'the school or program in': 1, 'school or program in question': 1, 'or program in question and': 1, 'program in question and the': 1, 'in question and the field': 1, 'question and the field in': 1, 'and the field in which': 1, 'the field in which the': 1, 'field in which the student': 1, 'in which the student hopes': 1, 'which the student hopes to': 1, 'the student hopes to eventually': 1, 'student hopes to eventually work': 1, 'hopes to eventually work some': 1, 'to eventually work some students': 1, 'eventually work some students may': 1, 'work some students may thrive': 1, 'some students may thrive in': 1, 'students may thrive in a': 1, 'may thrive in a competitive': 1, 'thrive in a competitive environment': 1, 'in a competitive environment while': 1, 'a competitive environment while others': 1, 'competitive environment while others may': 1, 'environment while others may do': 1, 'while others may do better': 1, 'others may do better in': 1, 'may do better in a': 1, 'do better in a cooperative': 1, 'better in a cooperative one': 1, 'in a cooperative one \\nin': 1, 'a cooperative one \\nin conclusion': 1, 'cooperative one \\nin conclusion both': 1, 'one \\nin conclusion both competition': 1, '\\nin conclusion both competition and': 1, 'conclusion both competition and cooperation': 1, 'both competition and cooperation are': 1, 'competition and cooperation are important': 1, 'and cooperation are important aspects': 1, 'cooperation are important aspects of': 1, 'are important aspects of education': 1, 'important aspects of education and': 1, 'aspects of education and have': 1, 'of education and have their': 1, 'education and have their own': 1, 'and have their own advantages': 1, 'have their own advantages instead': 1, 'their own advantages instead of': 1, 'own advantages instead of choosing': 1, 'advantages instead of choosing one': 1, 'instead of choosing one over': 1, 'of choosing one over the': 1, 'choosing one over the other': 1, 'one over the other a': 1, 'over the other a balance': 1, 'the other a balance of': 1, 'other a balance of both': 1, 'a balance of both should': 1, 'balance of both should be': 1, 'of both should be encouraged': 1, 'both should be encouraged it': 1, 'should be encouraged it is': 1, 'be encouraged it is essential': 1, 'encouraged it is essential to': 1, 'it is essential to teach': 1, 'is essential to teach students': 1, 'essential to teach students to': 1, 'teach students to compete in': 1, 'students to compete in a': 1, 'to compete in a healthy': 1, 'compete in a healthy and': 1, 'in a healthy and positive': 1, 'a healthy and positive way': 1, 'healthy and positive way while': 1, 'and positive way while also': 1, 'positive way while also learning': 1, 'way while also learning to': 1, 'while also learning to work': 1, 'also learning to work well': 1, 'work well with others by': 1, 'well with others by providing': 1, 'with others by providing students': 1, 'others by providing students with': 1, 'by providing students with the': 1, 'providing students with the opportunity': 1, 'students with the opportunity to': 1, 'with the opportunity to develop': 1, 'the opportunity to develop both': 1, 'opportunity to develop both competitive': 1, 'to develop both competitive and': 1, 'develop both competitive and cooperative': 1, 'both competitive and cooperative skills': 1, 'competitive and cooperative skills educators': 1, 'and cooperative skills educators can': 1, 'cooperative skills educators can better': 1, 'skills educators can better prepare': 1, 'educators can better prepare them': 1, 'can better prepare them for': 1, 'better prepare them for success': 1, 'prepare them for success in': 1, 'them for success in the': 1, 'for success in the real': 1, 'success in the real world': 1, 'in the real world \\n\\n': 1})\n"
     ]
    }
   ],
   "source": [
    "print(c)"
   ]
  },
  {
   "cell_type": "code",
   "execution_count": 25,
   "metadata": {},
   "outputs": [
    {
     "data": {
      "text/plain": [
       "3"
      ]
     },
     "execution_count": 25,
     "metadata": {},
     "output_type": "execute_result"
    }
   ],
   "source": [
    "c.most_common(1)[0][1]"
   ]
  },
  {
   "cell_type": "code",
   "execution_count": 8,
   "metadata": {},
   "outputs": [],
   "source": [
    "filename = input('Enter a filename: ')\n",
    "with open('human/'+filename, 'r') as file:\n",
    " human = file.read()\n",
    "list2=generate_ngrams(human, 5)"
   ]
  },
  {
   "cell_type": "code",
   "execution_count": 9,
   "metadata": {},
   "outputs": [
    {
     "data": {
      "text/plain": [
       "323"
      ]
     },
     "execution_count": 9,
     "metadata": {},
     "output_type": "execute_result"
    }
   ],
   "source": [
    "len(list2)"
   ]
  },
  {
   "cell_type": "code",
   "execution_count": 10,
   "metadata": {},
   "outputs": [
    {
     "name": "stdout",
     "output_type": "stream",
     "text": [
      "323\n"
     ]
    }
   ],
   "source": [
    "myset = set(list2)\n",
    "# find the length of the Python set variable myset\n",
    "print(len(myset))"
   ]
  },
  {
   "cell_type": "code",
   "execution_count": 11,
   "metadata": {},
   "outputs": [
    {
     "name": "stdout",
     "output_type": "stream",
     "text": [
      "Counter({'the last 50 years have': 1, 'last 50 years have seen': 1, '50 years have seen an': 1, 'years have seen an increasing': 1, 'have seen an increasing number': 1, 'seen an increasing number of': 1, 'an increasing number of immigrants': 1, 'increasing number of immigrants to': 1, 'number of immigrants to other': 1, 'of immigrants to other countries': 1, 'immigrants to other countries people': 1, 'to other countries people moved': 1, 'other countries people moved due': 1, 'countries people moved due to': 1, 'people moved due to a': 1, 'moved due to a number': 1, 'due to a number of': 1, 'to a number of reasons': 1, 'a number of reasons namely': 1, 'number of reasons namely better': 1, 'of reasons namely better educations': 1, 'reasons namely better educations or': 1, 'namely better educations or higher': 1, 'better educations or higher salary': 1, 'educations or higher salary jobs': 1, 'or higher salary jobs some': 1, 'higher salary jobs some people': 1, 'salary jobs some people thought': 1, 'jobs some people thought that': 1, 'some people thought that they': 1, 'people thought that they should': 1, 'thought that they should follow': 1, 'that they should follow the': 1, 'they should follow the local': 1, 'should follow the local customs': 1, 'follow the local customs in': 1, 'the local customs in order': 1, 'local customs in order to': 1, 'customs in order to integrate': 1, 'in order to integrate into': 1, 'order to integrate into their': 1, 'to integrate into their adopted': 1, 'integrate into their adopted countries': 1, 'into their adopted countries cultures': 1, 'their adopted countries cultures however': 1, 'adopted countries cultures however i': 1, 'countries cultures however i strongly': 1, 'cultures however i strongly believe': 1, 'however i strongly believe that': 1, 'i strongly believe that they': 1, 'strongly believe that they are': 1, 'believe that they are able': 1, 'that they are able to': 1, 'they are able to sustain': 1, 'are able to sustain their': 1, 'able to sustain their cultural': 1, 'to sustain their cultural identities': 1, 'sustain their cultural identities and': 1, 'their cultural identities and doing': 1, 'cultural identities and doing so': 1, 'identities and doing so help': 1, 'and doing so help they': 1, 'doing so help they keep': 1, 'so help they keep their': 1, 'help they keep their origin': 1, 'they keep their origin values': 1, 'keep their origin values \\n\\nfirstly': 1, 'their origin values \\n\\nfirstly maintaining': 1, 'origin values \\n\\nfirstly maintaining one': 1, 'values \\n\\nfirstly maintaining one s': 1, '\\n\\nfirstly maintaining one s cultural': 1, 'maintaining one s cultural identity': 1, 'one s cultural identity is': 1, 's cultural identity is a': 1, 'cultural identity is a key': 1, 'identity is a key important': 1, 'is a key important rule': 1, 'a key important rule to': 1, 'key important rule to help': 1, 'important rule to help individuals': 1, 'rule to help individuals emerge': 1, 'to help individuals emerge in': 1, 'help individuals emerge in the': 1, 'individuals emerge in the new': 1, 'emerge in the new multicultural': 1, 'in the new multicultural environments': 1, 'the new multicultural environments take': 1, 'new multicultural environments take australia': 1, 'multicultural environments take australia for': 1, 'environments take australia for example': 1, 'take australia for example immigrants': 1, 'australia for example immigrants from': 1, 'for example immigrants from varieties': 1, 'example immigrants from varieties of': 1, 'immigrants from varieties of nations': 1, 'from varieties of nations have': 1, 'varieties of nations have a': 1, 'of nations have a day': 1, 'nations have a day called': 1, 'have a day called multicultural': 1, 'a day called multicultural day': 1, 'day called multicultural day where': 1, 'called multicultural day where people': 1, 'multicultural day where people from': 1, 'day where people from each': 1, 'where people from each country': 1, 'people from each country prepare': 1, 'from each country prepare their': 1, 'each country prepare their food': 1, 'country prepare their food and': 1, 'prepare their food and traditional': 1, 'their food and traditional activities': 1, 'food and traditional activities for': 1, 'and traditional activities for displaying': 1, 'traditional activities for displaying in': 1, 'activities for displaying in the': 1, 'for displaying in the public': 1, 'displaying in the public venues': 1, 'in the public venues many': 1, 'the public venues many australians': 1, 'public venues many australians come': 1, 'venues many australians come this': 1, 'many australians come this day': 1, 'australians come this day to': 1, 'come this day to enjoy': 1, 'this day to enjoy the': 1, 'day to enjoy the shows': 1, 'to enjoy the shows learn': 1, 'enjoy the shows learn about': 1, 'the shows learn about the': 1, 'shows learn about the cultures': 1, 'learn about the cultures and': 1, 'about the cultures and admire': 1, 'the cultures and admire the': 1, 'cultures and admire the diverse': 1, 'and admire the diverse values': 1, 'admire the diverse values these': 1, 'the diverse values these feedbacks': 1, 'diverse values these feedbacks in': 1, 'values these feedbacks in turn': 1, 'these feedbacks in turn help': 1, 'feedbacks in turn help raise': 1, 'in turn help raise one': 1, 'turn help raise one s': 1, 'help raise one s pride': 1, 'raise one s pride of': 1, 'one s pride of their': 1, 's pride of their cultures': 1, 'pride of their cultures and': 1, 'of their cultures and help': 1, 'their cultures and help people': 1, 'cultures and help people understand': 1, 'and help people understand each': 1, 'help people understand each other': 1, 'people understand each other more': 1, 'understand each other more thus': 1, 'each other more thus this': 1, 'other more thus this makes': 1, 'more thus this makes it': 1, 'thus this makes it clear': 1, 'this makes it clear that': 1, 'makes it clear that sustaining': 1, 'it clear that sustaining the': 1, 'clear that sustaining the cultural': 1, 'that sustaining the cultural values': 1, 'sustaining the cultural values of': 1, 'the cultural values of immigrants': 1, 'cultural values of immigrants is': 1, 'values of immigrants is paramount': 1, 'of immigrants is paramount essential': 1, 'immigrants is paramount essential \\n\\nsecondly': 1, 'is paramount essential \\n\\nsecondly it': 1, 'paramount essential \\n\\nsecondly it is': 1, 'essential \\n\\nsecondly it is crucial': 1, '\\n\\nsecondly it is crucial to': 1, 'it is crucial to keep': 1, 'is crucial to keep one': 1, 'crucial to keep one s': 1, 'to keep one s identity': 1, 'keep one s identity for': 1, 'one s identity for they': 1, 's identity for they need': 1, 'identity for they need a': 1, 'for they need a connection': 1, 'they need a connection back': 1, 'need a connection back to': 1, 'a connection back to their': 1, 'connection back to their country': 1, 'back to their country as': 1, 'to their country as well': 1, 'their country as well as': 1, 'country as well as teach': 1, 'as well as teach their': 1, 'well as teach their children': 1, 'as teach their children their': 1, 'teach their children their value': 1, 'their children their value of': 1, 'children their value of origin': 1, 'their value of origin for': 1, 'value of origin for instance': 1, 'of origin for instance children': 1, 'origin for instance children immigrated': 1, 'for instance children immigrated to': 1, 'instance children immigrated to a': 1, 'children immigrated to a new': 1, 'immigrated to a new country': 1, 'to a new country will': 1, 'a new country will face': 1, 'new country will face social': 1, 'country will face social troubles': 1, 'will face social troubles in': 1, 'face social troubles in school': 1, 'social troubles in school with': 1, 'troubles in school with new': 1, 'in school with new friends': 1, 'school with new friends in': 1, 'with new friends in this': 1, 'new friends in this new': 1, 'friends in this new environment': 1, 'in this new environment parent': 1, 'this new environment parent should': 1, 'new environment parent should find': 1, 'environment parent should find friends': 1, 'parent should find friends coming': 1, 'should find friends coming from': 1, 'find friends coming from their': 1, 'friends coming from their same': 1, 'coming from their same country': 1, 'from their same country so': 1, 'their same country so that': 1, 'same country so that they': 1, 'country so that they can': 1, 'so that they can socialize': 1, 'that they can socialize in': 1, 'they can socialize in a': 1, 'can socialize in a very': 1, 'socialize in a very familiar': 1, 'in a very familiar manner': 1, 'a very familiar manner as': 1, 'very familiar manner as feeling': 1, 'familiar manner as feeling being': 1, 'manner as feeling being home': 1, 'as feeling being home fail': 1, 'feeling being home fail to': 1, 'being home fail to create': 1, 'home fail to create this': 1, 'fail to create this familiarity': 1, 'to create this familiarity makes': 1, 'create this familiarity makes them': 1, 'this familiarity makes them felt': 1, 'familiarity makes them felt isolated': 1, 'makes them felt isolated in': 1, 'them felt isolated in the': 1, 'felt isolated in the extreme': 1, 'isolated in the extreme can': 1, 'in the extreme can lead': 1, 'the extreme can lead to': 1, 'extreme can lead to social': 1, 'can lead to social disorder': 1, 'lead to social disorder like': 1, 'to social disorder like autism': 1, 'social disorder like autism hence': 1, 'disorder like autism hence it': 1, 'like autism hence it is': 1, 'autism hence it is clear': 1, 'hence it is clear that': 1, 'it is clear that keeping': 1, 'is clear that keeping the': 1, 'clear that keeping the cultural': 1, 'that keeping the cultural traditions': 1, 'keeping the cultural traditions in': 1, 'the cultural traditions in the': 1, 'cultural traditions in the destination': 1, 'traditions in the destination countries': 1, 'in the destination countries is': 1, 'the destination countries is tremendous': 1, 'destination countries is tremendous important': 1, 'countries is tremendous important \\n\\nto': 1, 'is tremendous important \\n\\nto conclude': 1, 'tremendous important \\n\\nto conclude although': 1, 'important \\n\\nto conclude although there': 1, '\\n\\nto conclude although there are': 1, 'conclude although there are opposing': 1, 'although there are opposing ideas': 1, 'there are opposing ideas of': 1, 'are opposing ideas of neglecting': 1, 'opposing ideas of neglecting one': 1, 'ideas of neglecting one s': 1, 'of neglecting one s cultural': 1, 'neglecting one s cultural values': 1, 'one s cultural values to': 1, 's cultural values to adapt': 1, 'cultural values to adapt in': 1, 'values to adapt in the': 1, 'to adapt in the new': 1, 'adapt in the new cultures': 1, 'in the new cultures as': 1, 'the new cultures as far': 1, 'new cultures as far as': 1, 'cultures as far as i': 1, 'as far as i am': 1, 'far as i am concerned': 1, 'as i am concerned sustaining': 1, 'i am concerned sustaining the': 1, 'am concerned sustaining the traditions': 1, 'concerned sustaining the traditions will': 1, 'sustaining the traditions will make': 1, 'the traditions will make the': 1, 'traditions will make the immigrated': 1, 'will make the immigrated people': 1, 'make the immigrated people keep': 1, 'the immigrated people keep their': 1, 'immigrated people keep their cultural': 1, 'people keep their cultural identity': 1, 'keep their cultural identity and': 1, 'their cultural identity and give': 1, 'cultural identity and give them': 1, 'identity and give them confident': 1, 'and give them confident among': 1, 'give them confident among the': 1, 'them confident among the many': 1, 'confident among the many culture': 1, 'among the many culture society': 1})\n"
     ]
    }
   ],
   "source": [
    "c2 = collections.Counter(list2)\n",
    "print(c2)"
   ]
  }
 ],
 "metadata": {
  "kernelspec": {
   "display_name": "es_env",
   "language": "python",
   "name": "python3"
  },
  "language_info": {
   "codemirror_mode": {
    "name": "ipython",
    "version": 3
   },
   "file_extension": ".py",
   "mimetype": "text/x-python",
   "name": "python",
   "nbconvert_exporter": "python",
   "pygments_lexer": "ipython3",
   "version": "3.9.12"
  },
  "orig_nbformat": 4,
  "vscode": {
   "interpreter": {
    "hash": "571e03498c9ff717ba98cc5850bdde0f83cd435f0d15600fd8a50ccbb08bc562"
   }
  }
 },
 "nbformat": 4,
 "nbformat_minor": 2
}
