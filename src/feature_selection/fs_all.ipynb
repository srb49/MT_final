{
 "cells": [
  {
   "cell_type": "code",
   "execution_count": 2,
   "metadata": {},
   "outputs": [],
   "source": [
    "import pandas as pd\n",
    "import numpy as np\n",
    "from sklearn.feature_selection import SelectKBest\n",
    "from sklearn.feature_selection import chi2\n",
    "from sklearn.preprocessing import StandardScaler\n",
    "import scipy.stats as stats"
   ]
  },
  {
   "cell_type": "code",
   "execution_count": 3,
   "metadata": {},
   "outputs": [],
   "source": [
    "df=pd.read_csv('../../csv/combined_3.csv')"
   ]
  },
  {
   "cell_type": "code",
   "execution_count": 7,
   "metadata": {},
   "outputs": [
    {
     "name": "stdout",
     "output_type": "stream",
     "text": [
      "The number of columns in the CSV file is: 37\n"
     ]
    }
   ],
   "source": [
    "print(f\"The number of columns in the CSV file is: {df.shape[1]}\")"
   ]
  },
  {
   "cell_type": "code",
   "execution_count": 7,
   "metadata": {},
   "outputs": [
    {
     "name": "stdout",
     "output_type": "stream",
     "text": [
      "Columns of the DataFrame:\n",
      "Index(['essay', 'topic', 'para_count', 'word_count', 'sentence_count',\n",
      "       'sentence_len(mean)', 'sentence_len(max)', 'sentence_len(min)',\n",
      "       'avg_stop_word', 'unique_words', 'noun', 'verb', 'adj', 'pron',\n",
      "       'modal verb', 'occurrance_of_most_freq_word', 'rate_of_occurrance',\n",
      "       'avg sentence complexity', 'lexical diversity', 'word_sim_p_count',\n",
      "       'word_sim_p_score', 'word_sim_n_count', 'word_sim_n_score',\n",
      "       'word_sim_score', 'flesch grade', 'Automated Readability',\n",
      "       'coleman_liau', 'positive_sentiment', 'negative_sentiment',\n",
      "       'neutral_sentiment', 'discourse_marker', 'grammar', 'sw_rate',\n",
      "       'sum_repeated_ngrams', 'count_repeated_ngrams', 'max_occurrence_ngrams',\n",
      "       'label'],\n",
      "      dtype='object')\n"
     ]
    }
   ],
   "source": [
    "columns_list = df.columns\n",
    "print(\"Columns of the DataFrame:\")\n",
    "print(columns_list)"
   ]
  },
  {
   "cell_type": "markdown",
   "metadata": {},
   "source": [
    "Split features and targets"
   ]
  },
  {
   "cell_type": "code",
   "execution_count": 5,
   "metadata": {},
   "outputs": [],
   "source": [
    "X = df.iloc[:,2:36]  #independent columns\n",
    "x = X.drop(columns=['word_sim_n_score'])\n",
    "y = df.iloc[:,-1]   "
   ]
  },
  {
   "cell_type": "markdown",
   "metadata": {},
   "source": [
    "# Information Gain"
   ]
  },
  {
   "cell_type": "code",
   "execution_count": 6,
   "metadata": {},
   "outputs": [
    {
     "data": {
      "text/plain": [
       "array([0.32336219, 0.26857238, 0.27727292, 0.08613382, 0.1303849 ,\n",
       "       0.04739233, 0.18368021, 0.09137363, 0.18256583, 0.04049477,\n",
       "       0.02322626, 0.21799095, 0.00419879, 0.17749116, 0.        ,\n",
       "       0.09826652, 0.28048213, 0.29481579, 0.20859401, 0.01683277,\n",
       "       0.        , 0.20981876, 0.10633491, 0.2104771 , 0.31534954,\n",
       "       0.05951109, 0.00883636, 0.04414126, 0.20798496, 0.27342711,\n",
       "       0.27823962, 0.24898913, 0.21145121, 0.16941967])"
      ]
     },
     "execution_count": 6,
     "metadata": {},
     "output_type": "execute_result"
    }
   ],
   "source": [
    "from sklearn.feature_selection import mutual_info_classif\n",
    "# determine the mutual information\n",
    "mutual_info = mutual_info_classif(X, y)\n",
    "mutual_info"
   ]
  },
  {
   "cell_type": "code",
   "execution_count": 7,
   "metadata": {},
   "outputs": [
    {
     "data": {
      "text/plain": [
       "para_count                      0.323362\n",
       "coleman_liau                    0.315350\n",
       "word_sim_p_count                0.294816\n",
       "lexical diversity               0.280482\n",
       "sw_rate                         0.278240\n",
       "sentence_count                  0.277273\n",
       "grammar                         0.273427\n",
       "word_count                      0.268572\n",
       "sum_repeated_ngrams             0.248989\n",
       "pron                            0.217991\n",
       "count_repeated_ngrams           0.211451\n",
       "Automated Readability           0.210477\n",
       "word_sim_score                  0.209819\n",
       "word_sim_p_score                0.208594\n",
       "discourse_marker                0.207985\n",
       "avg_stop_word                   0.183680\n",
       "noun                            0.182566\n",
       "occurrance_of_most_freq_word    0.177491\n",
       "max_occurrence_ngrams           0.169420\n",
       "sentence_len(max)               0.130385\n",
       "flesch grade                    0.106335\n",
       "avg sentence complexity         0.098267\n",
       "unique_words                    0.091374\n",
       "sentence_len(mean)              0.086134\n",
       "positive_sentiment              0.059511\n",
       "sentence_len(min)               0.047392\n",
       "neutral_sentiment               0.044141\n",
       "verb                            0.040495\n",
       "adj                             0.023226\n",
       "word_sim_n_count                0.016833\n",
       "negative_sentiment              0.008836\n",
       "modal verb                      0.004199\n",
       "word_sim_n_score                0.000000\n",
       "rate_of_occurrance              0.000000\n",
       "dtype: float64"
      ]
     },
     "execution_count": 7,
     "metadata": {},
     "output_type": "execute_result"
    }
   ],
   "source": [
    "mutual_info = pd.Series(mutual_info)\n",
    "mutual_info.index = X.columns\n",
    "mutual_info.sort_values(ascending=False)"
   ]
  },
  {
   "cell_type": "markdown",
   "metadata": {},
   "source": [
    "# Wrapper method"
   ]
  },
  {
   "cell_type": "code",
   "execution_count": 27,
   "metadata": {},
   "outputs": [],
   "source": [
    "from sklearn.model_selection import train_test_split\n",
    "from sklearn.ensemble import RandomForestRegressor, RandomForestClassifier\n",
    "from sklearn.metrics import roc_auc_score\n",
    "from mlxtend.feature_selection import SequentialFeatureSelector as SFS"
   ]
  },
  {
   "cell_type": "markdown",
   "metadata": {},
   "source": [
    "forward"
   ]
  },
  {
   "cell_type": "code",
   "execution_count": null,
   "metadata": {},
   "outputs": [],
   "source": [
    "sfs = SFS(RandomForestClassifier(n_estimators=100, random_state=0, n_jobs = -1),\n",
    "         k_features = 15,\n",
    "          forward= True,\n",
    "          floating = False,\n",
    "          verbose= 2,\n",
    "          scoring= 'accuracy',\n",
    "          cv = 4,\n",
    "          n_jobs= -1\n",
    "         ).fit(X, y)"
   ]
  },
  {
   "cell_type": "code",
   "execution_count": 29,
   "metadata": {},
   "outputs": [
    {
     "data": {
      "text/plain": [
       "('para_count',\n",
       " 'sentence_count',\n",
       " 'sentence_len(max)',\n",
       " 'sentence_len(min)',\n",
       " 'noun',\n",
       " 'verb',\n",
       " 'pron',\n",
       " 'modal verb',\n",
       " 'avg sentence complexity',\n",
       " 'lexical diversity',\n",
       " 'Automated Readability',\n",
       " 'negative_sentiment',\n",
       " 'grammar',\n",
       " 'sw_rate',\n",
       " 'count_repeated_ngrams')"
      ]
     },
     "execution_count": 29,
     "metadata": {},
     "output_type": "execute_result"
    }
   ],
   "source": [
    "sfs.k_feature_names_"
   ]
  },
  {
   "cell_type": "code",
   "execution_count": 30,
   "metadata": {},
   "outputs": [
    {
     "data": {
      "text/plain": [
       "0.9833333333333334"
      ]
     },
     "execution_count": 30,
     "metadata": {},
     "output_type": "execute_result"
    }
   ],
   "source": [
    "sfs.k_score_"
   ]
  },
  {
   "cell_type": "code",
   "execution_count": null,
   "metadata": {},
   "outputs": [],
   "source": [
    "pd.DataFrame.from_dict(sfs.get_metric_dict()).T"
   ]
  },
  {
   "cell_type": "markdown",
   "metadata": {},
   "source": [
    "backward"
   ]
  },
  {
   "cell_type": "code",
   "execution_count": null,
   "metadata": {},
   "outputs": [],
   "source": [
    "sfs1 = SFS(RandomForestClassifier(n_estimators=100, random_state=0, n_jobs = -1),\n",
    "         k_features = 15,\n",
    "          forward= False,\n",
    "          floating = False,\n",
    "          verbose= 2,\n",
    "          scoring= 'accuracy',\n",
    "          cv = 4,\n",
    "          n_jobs= -1\n",
    "         ).fit(X, y)"
   ]
  },
  {
   "cell_type": "code",
   "execution_count": 33,
   "metadata": {},
   "outputs": [
    {
     "data": {
      "text/plain": [
       "('para_count',\n",
       " 'sentence_len(mean)',\n",
       " 'sentence_len(max)',\n",
       " 'sentence_len(min)',\n",
       " 'avg_stop_word',\n",
       " 'verb',\n",
       " 'pron',\n",
       " 'modal verb',\n",
       " 'occurrance_of_most_freq_word',\n",
       " 'lexical diversity',\n",
       " 'word_sim_n_count',\n",
       " 'flesch grade',\n",
       " 'grammar',\n",
       " 'sw_rate',\n",
       " 'sum_repeated_ngrams')"
      ]
     },
     "execution_count": 33,
     "metadata": {},
     "output_type": "execute_result"
    }
   ],
   "source": [
    "sfs1.k_feature_names_"
   ]
  },
  {
   "cell_type": "code",
   "execution_count": null,
   "metadata": {},
   "outputs": [],
   "source": [
    "sfs1.k_score_"
   ]
  },
  {
   "cell_type": "markdown",
   "metadata": {},
   "source": [
    "# chi-square"
   ]
  },
  {
   "cell_type": "code",
   "execution_count": 8,
   "metadata": {},
   "outputs": [],
   "source": [
    "#apply SelectKBest class to extract top 10 best features\n",
    "bestfeatures = SelectKBest(score_func=chi2, k=10)\n",
    "fit = bestfeatures.fit(x,y)"
   ]
  },
  {
   "cell_type": "code",
   "execution_count": 9,
   "metadata": {},
   "outputs": [],
   "source": [
    "dfscores = pd.DataFrame(fit.scores_)\n",
    "dfcolumns = pd.DataFrame(x.columns)"
   ]
  },
  {
   "cell_type": "code",
   "execution_count": 10,
   "metadata": {},
   "outputs": [],
   "source": [
    "#concat two dataframes for better visualization \n",
    "featureScores = pd.concat([dfcolumns,dfscores],axis=1)\n",
    "featureScores.columns = ['features','Score']  #naming the dataframe columns"
   ]
  },
  {
   "cell_type": "code",
   "execution_count": 13,
   "metadata": {},
   "outputs": [
    {
     "name": "stdout",
     "output_type": "stream",
     "text": [
      "                        features        Score\n",
      "17              word_sim_p_count  1397.485748\n",
      "1                     word_count  1324.487872\n",
      "30           sum_repeated_ngrams  1089.031149\n",
      "31         count_repeated_ngrams   477.000000\n",
      "28                       grammar   325.716141\n",
      "20                word_sim_score   313.725139\n",
      "18              word_sim_p_score   312.001158\n",
      "27              discourse_marker   297.474466\n",
      "7                   unique_words   218.667883\n",
      "13  occurrance_of_most_freq_word   150.968049\n",
      "4              sentence_len(max)    80.929551\n",
      "2                 sentence_count    78.741866\n",
      "23                  coleman_liau    57.216683\n",
      "32         max_occurrence_ngrams    40.438980\n",
      "0                     para_count    29.803353\n",
      "6                  avg_stop_word    29.766527\n",
      "22         Automated Readability    26.683763\n",
      "19              word_sim_n_count    26.504225\n",
      "21                  flesch grade    24.052903\n",
      "3             sentence_len(mean)     4.371057\n",
      "24            positive_sentiment     0.792955\n",
      "29                       sw_rate     0.767830\n",
      "16             lexical diversity     0.728811\n",
      "11                          pron     0.703620\n",
      "15       avg sentence complexity     0.602198\n",
      "5              sentence_len(min)     0.536553\n",
      "8                           noun     0.483841\n",
      "10                           adj     0.176172\n",
      "9                           verb     0.104416\n",
      "26             neutral_sentiment     0.098843\n"
     ]
    }
   ],
   "source": [
    "print(featureScores.nlargest(30,'Score')) "
   ]
  },
  {
   "cell_type": "markdown",
   "metadata": {},
   "source": [
    "# Wilcoxon rank-sum statistic"
   ]
  },
  {
   "cell_type": "code",
   "execution_count": null,
   "metadata": {},
   "outputs": [],
   "source": [
    "import pandas as pd\n",
    "from scipy.stats import ranksums"
   ]
  },
  {
   "cell_type": "code",
   "execution_count": null,
   "metadata": {},
   "outputs": [],
   "source": [
    "df=pd.read_csv('../csv/combined_3.csv')"
   ]
  },
  {
   "cell_type": "code",
   "execution_count": null,
   "metadata": {},
   "outputs": [],
   "source": [
    "df = df.drop(columns=['essay', 'topic'])"
   ]
  },
  {
   "cell_type": "code",
   "execution_count": null,
   "metadata": {},
   "outputs": [],
   "source": [
    "\n",
    "group_0 = df[df['label'] == 0]\n",
    "group_1 = df[df['label'] == 1]\n",
    "\n",
    "\n",
    "p_values = {}\n",
    "\n",
    "\n",
    "for column in df.columns[:-1]:  \n",
    "    _, p_value = ranksums(group_0[column], group_1[column])\n",
    "    p_values[column] = p_value\n",
    "\n",
    "# Sort the dictionary based on p-values\n",
    "sorted_p_values = sorted(p_values.items(), key=lambda x: x[1])\n",
    "\n",
    "# Print or manipulate the sorted list of features and p-values\n",
    "for feature, p_value in sorted_p_values:\n",
    "    print(f\"Feature: {feature}, p-value: {p_value}\")\n"
   ]
  },
  {
   "cell_type": "code",
   "execution_count": null,
   "metadata": {},
   "outputs": [],
   "source": [
    "sorted_p_values = sorted(p_values.items(), key=lambda x: x[1])\n",
    "\n",
    "# Print the features with their rank\n",
    "rank = 1\n",
    "for feature, _ in sorted_p_values:\n",
    "    print(f\"Rank: {rank}, Feature: {feature}\")\n",
    "    rank += 1"
   ]
  }
 ],
 "metadata": {
  "kernelspec": {
   "display_name": "myenv1",
   "language": "python",
   "name": "python3"
  },
  "language_info": {
   "codemirror_mode": {
    "name": "ipython",
    "version": 3
   },
   "file_extension": ".py",
   "mimetype": "text/x-python",
   "name": "python",
   "nbconvert_exporter": "python",
   "pygments_lexer": "ipython3",
   "version": "3.9.16"
  }
 },
 "nbformat": 4,
 "nbformat_minor": 2
}
