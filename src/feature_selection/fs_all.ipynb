{
 "cells": [
  {
   "cell_type": "code",
   "execution_count": 1,
   "metadata": {},
   "outputs": [],
   "source": [
    "import pandas as pd\n",
    "import numpy as np\n",
    "from sklearn.feature_selection import SelectKBest\n",
    "from sklearn.feature_selection import chi2\n",
    "from sklearn.preprocessing import StandardScaler\n",
    "import scipy.stats as stats"
   ]
  },
  {
   "cell_type": "code",
   "execution_count": 2,
   "metadata": {},
   "outputs": [],
   "source": [
    "df=pd.read_csv('../../csv/combined_3.csv')"
   ]
  },
  {
   "cell_type": "code",
   "execution_count": 7,
   "metadata": {},
   "outputs": [
    {
     "name": "stdout",
     "output_type": "stream",
     "text": [
      "The number of columns in the CSV file is: 37\n"
     ]
    }
   ],
   "source": [
    "print(f\"The number of columns in the CSV file is: {df.shape[1]}\")"
   ]
  },
  {
   "cell_type": "code",
   "execution_count": 7,
   "metadata": {},
   "outputs": [
    {
     "name": "stdout",
     "output_type": "stream",
     "text": [
      "Columns of the DataFrame:\n",
      "Index(['essay', 'topic', 'para_count', 'word_count', 'sentence_count',\n",
      "       'sentence_len(mean)', 'sentence_len(max)', 'sentence_len(min)',\n",
      "       'avg_stop_word', 'unique_words', 'noun', 'verb', 'adj', 'pron',\n",
      "       'modal verb', 'occurrance_of_most_freq_word', 'rate_of_occurrance',\n",
      "       'avg sentence complexity', 'lexical diversity', 'word_sim_p_count',\n",
      "       'word_sim_p_score', 'word_sim_n_count', 'word_sim_n_score',\n",
      "       'word_sim_score', 'flesch grade', 'Automated Readability',\n",
      "       'coleman_liau', 'positive_sentiment', 'negative_sentiment',\n",
      "       'neutral_sentiment', 'discourse_marker', 'grammar', 'sw_rate',\n",
      "       'sum_repeated_ngrams', 'count_repeated_ngrams', 'max_occurrence_ngrams',\n",
      "       'label'],\n",
      "      dtype='object')\n"
     ]
    }
   ],
   "source": [
    "columns_list = df.columns\n",
    "print(\"Columns of the DataFrame:\")\n",
    "print(columns_list)"
   ]
  },
  {
   "cell_type": "markdown",
   "metadata": {},
   "source": [
    "Split features and targets"
   ]
  },
  {
   "cell_type": "code",
   "execution_count": 24,
   "metadata": {},
   "outputs": [],
   "source": [
    "X = df.iloc[:,2:36]  #independent columns\n",
    "x = X.drop(columns=['word_sim_n_score'])\n",
    "y = df.iloc[:,-1]   "
   ]
  },
  {
   "cell_type": "markdown",
   "metadata": {},
   "source": [
    "# Information Gain"
   ]
  },
  {
   "cell_type": "code",
   "execution_count": null,
   "metadata": {},
   "outputs": [],
   "source": [
    "from sklearn.feature_selection import mutual_info_classif\n",
    "# determine the mutual information\n",
    "mutual_info = mutual_info_classif(X, y)\n",
    "mutual_info"
   ]
  },
  {
   "cell_type": "code",
   "execution_count": null,
   "metadata": {},
   "outputs": [],
   "source": [
    "mutual_info = pd.Series(mutual_info)\n",
    "mutual_info.index = X.columns\n",
    "mutual_info.sort_values(ascending=False)"
   ]
  },
  {
   "cell_type": "markdown",
   "metadata": {},
   "source": [
    "# Wrapper method"
   ]
  },
  {
   "cell_type": "code",
   "execution_count": 27,
   "metadata": {},
   "outputs": [],
   "source": [
    "from sklearn.model_selection import train_test_split\n",
    "from sklearn.ensemble import RandomForestRegressor, RandomForestClassifier\n",
    "from sklearn.metrics import roc_auc_score\n",
    "from mlxtend.feature_selection import SequentialFeatureSelector as SFS"
   ]
  },
  {
   "cell_type": "markdown",
   "metadata": {},
   "source": [
    "forward"
   ]
  },
  {
   "cell_type": "code",
   "execution_count": null,
   "metadata": {},
   "outputs": [],
   "source": [
    "sfs = SFS(RandomForestClassifier(n_estimators=100, random_state=0, n_jobs = -1),\n",
    "         k_features = 15,\n",
    "          forward= True,\n",
    "          floating = False,\n",
    "          verbose= 2,\n",
    "          scoring= 'accuracy',\n",
    "          cv = 4,\n",
    "          n_jobs= -1\n",
    "         ).fit(X, y)"
   ]
  },
  {
   "cell_type": "code",
   "execution_count": 29,
   "metadata": {},
   "outputs": [
    {
     "data": {
      "text/plain": [
       "('para_count',\n",
       " 'sentence_count',\n",
       " 'sentence_len(max)',\n",
       " 'sentence_len(min)',\n",
       " 'noun',\n",
       " 'verb',\n",
       " 'pron',\n",
       " 'modal verb',\n",
       " 'avg sentence complexity',\n",
       " 'lexical diversity',\n",
       " 'Automated Readability',\n",
       " 'negative_sentiment',\n",
       " 'grammar',\n",
       " 'sw_rate',\n",
       " 'count_repeated_ngrams')"
      ]
     },
     "execution_count": 29,
     "metadata": {},
     "output_type": "execute_result"
    }
   ],
   "source": [
    "sfs.k_feature_names_"
   ]
  },
  {
   "cell_type": "code",
   "execution_count": 30,
   "metadata": {},
   "outputs": [
    {
     "data": {
      "text/plain": [
       "0.9833333333333334"
      ]
     },
     "execution_count": 30,
     "metadata": {},
     "output_type": "execute_result"
    }
   ],
   "source": [
    "sfs.k_score_"
   ]
  },
  {
   "cell_type": "code",
   "execution_count": null,
   "metadata": {},
   "outputs": [],
   "source": [
    "pd.DataFrame.from_dict(sfs.get_metric_dict()).T"
   ]
  },
  {
   "cell_type": "markdown",
   "metadata": {},
   "source": [
    "backward"
   ]
  },
  {
   "cell_type": "code",
   "execution_count": null,
   "metadata": {},
   "outputs": [],
   "source": [
    "sfs1 = SFS(RandomForestClassifier(n_estimators=100, random_state=0, n_jobs = -1),\n",
    "         k_features = 15,\n",
    "          forward= False,\n",
    "          floating = False,\n",
    "          verbose= 2,\n",
    "          scoring= 'accuracy',\n",
    "          cv = 4,\n",
    "          n_jobs= -1\n",
    "         ).fit(X, y)"
   ]
  },
  {
   "cell_type": "code",
   "execution_count": 33,
   "metadata": {},
   "outputs": [
    {
     "data": {
      "text/plain": [
       "('para_count',\n",
       " 'sentence_len(mean)',\n",
       " 'sentence_len(max)',\n",
       " 'sentence_len(min)',\n",
       " 'avg_stop_word',\n",
       " 'verb',\n",
       " 'pron',\n",
       " 'modal verb',\n",
       " 'occurrance_of_most_freq_word',\n",
       " 'lexical diversity',\n",
       " 'word_sim_n_count',\n",
       " 'flesch grade',\n",
       " 'grammar',\n",
       " 'sw_rate',\n",
       " 'sum_repeated_ngrams')"
      ]
     },
     "execution_count": 33,
     "metadata": {},
     "output_type": "execute_result"
    }
   ],
   "source": [
    "sfs1.k_feature_names_"
   ]
  },
  {
   "cell_type": "code",
   "execution_count": null,
   "metadata": {},
   "outputs": [],
   "source": [
    "sfs1.k_score_"
   ]
  },
  {
   "cell_type": "markdown",
   "metadata": {},
   "source": [
    "# chi-square"
   ]
  },
  {
   "cell_type": "code",
   "execution_count": 35,
   "metadata": {},
   "outputs": [],
   "source": [
    "#apply SelectKBest class to extract top 10 best features\n",
    "bestfeatures = SelectKBest(score_func=chi2, k=10)\n",
    "fit = bestfeatures.fit(x,y)"
   ]
  },
  {
   "cell_type": "code",
   "execution_count": 36,
   "metadata": {},
   "outputs": [],
   "source": [
    "dfscores = pd.DataFrame(fit.scores_)\n",
    "dfcolumns = pd.DataFrame(x.columns)"
   ]
  },
  {
   "cell_type": "code",
   "execution_count": 38,
   "metadata": {},
   "outputs": [],
   "source": [
    "#concat two dataframes for better visualization \n",
    "featureScores = pd.concat([dfcolumns,dfscores],axis=1)\n",
    "featureScores.columns = ['features','Score']  #naming the dataframe columns"
   ]
  },
  {
   "cell_type": "code",
   "execution_count": 39,
   "metadata": {},
   "outputs": [
    {
     "name": "stdout",
     "output_type": "stream",
     "text": [
      "                        features        Score\n",
      "17              word_sim_p_count  1397.485748\n",
      "1                     word_count  1324.487872\n",
      "30           sum_repeated_ngrams  1089.031149\n",
      "31         count_repeated_ngrams   477.000000\n",
      "28                       grammar   325.716141\n",
      "20                word_sim_score   313.725139\n",
      "18              word_sim_p_score   312.001158\n",
      "27              discourse_marker   297.474466\n",
      "7                   unique_words   218.667883\n",
      "13  occurrance_of_most_freq_word   150.968049\n"
     ]
    }
   ],
   "source": [
    "print(featureScores.nlargest(10,'Score')) "
   ]
  },
  {
   "cell_type": "markdown",
   "metadata": {},
   "source": [
    "# Wilcoxon rank-sum statistic"
   ]
  },
  {
   "cell_type": "code",
   "execution_count": null,
   "metadata": {},
   "outputs": [],
   "source": [
    "# Split the DataFrame based on the 'label' column\n",
    "df1 = df[df['label'] == 1]\n",
    "df2 = df[df['label'] == 0]\n",
    "\n",
    "# Display the resulting DataFrames\n",
    "print(\"DataFrame 1 (label=1):\")\n",
    "print(df1)\n",
    "\n",
    "print(\"\\nDataFrame 2 (label=0):\")\n",
    "print(df2)"
   ]
  },
  {
   "cell_type": "code",
   "execution_count": 4,
   "metadata": {},
   "outputs": [
    {
     "name": "stdout",
     "output_type": "stream",
     "text": [
      "Feature: essay\n",
      "Wilcoxon rank-sum statistic: -1.0302842880902894\n",
      "P-value: 0.3028765724597571\n",
      "Feature: topic\n",
      "Wilcoxon rank-sum statistic: 0.06123136595885441\n",
      "P-value: 0.9511749501677654\n",
      "Feature: para_count\n",
      "Wilcoxon rank-sum statistic: 12.332795774104046\n",
      "P-value: 6.031701026206971e-35\n",
      "Feature: word_count\n",
      "Wilcoxon rank-sum statistic: 11.143443046185862\n",
      "P-value: 7.708060460101128e-29\n",
      "Feature: sentence_count\n",
      "Wilcoxon rank-sum statistic: 9.836952052955088\n",
      "P-value: 7.803927086263536e-23\n",
      "Feature: sentence_len(mean)\n",
      "Wilcoxon rank-sum statistic: -2.698839010469072\n",
      "P-value: 0.006958182757862988\n",
      "Feature: sentence_len(max)\n",
      "Wilcoxon rank-sum statistic: -5.859575498932111\n",
      "P-value: 4.640518741546976e-09\n",
      "Feature: sentence_len(min)\n",
      "Wilcoxon rank-sum statistic: 1.6399357143762745\n",
      "P-value: 0.10101853406053538\n",
      "Feature: avg_stop_word\n",
      "Wilcoxon rank-sum statistic: -7.956749783022874\n",
      "P-value: 1.7661737798124844e-15\n",
      "Feature: unique_words\n",
      "Wilcoxon rank-sum statistic: 7.337780540177933\n",
      "P-value: 2.1716486733373905e-13\n",
      "Feature: noun\n",
      "Wilcoxon rank-sum statistic: 10.300846205925975\n",
      "P-value: 6.984417533400684e-25\n",
      "Feature: verb\n",
      "Wilcoxon rank-sum statistic: 5.223301739620537\n",
      "P-value: 1.757606343119309e-07\n",
      "Feature: adj\n",
      "Wilcoxon rank-sum statistic: 5.163401490312962\n",
      "P-value: 2.4250222773201676e-07\n",
      "Feature: pron\n",
      "Wilcoxon rank-sum statistic: -8.978381812879848\n",
      "P-value: 2.747780823720486e-19\n",
      "Feature: modal verb\n",
      "Wilcoxon rank-sum statistic: 0.40133167036075224\n",
      "P-value: 0.6881759493897115\n",
      "Feature: occurrance_of_most_freq_word\n",
      "Wilcoxon rank-sum statistic: 9.775720686996234\n",
      "P-value: 1.4313497112904603e-22\n",
      "Feature: rate_of_occurrance\n",
      "Wilcoxon rank-sum statistic: 2.0945120507882047\n",
      "P-value: 0.0362143907080528\n",
      "Feature: avg sentence complexity\n",
      "Wilcoxon rank-sum statistic: 3.208656687909099\n",
      "P-value: 0.0013335662330901375\n",
      "Feature: lexical diversity\n",
      "Wilcoxon rank-sum statistic: -11.482212233936481\n",
      "P-value: 1.6207958660092478e-30\n",
      "Feature: word_sim_p_count\n",
      "Wilcoxon rank-sum statistic: 11.273226919685609\n",
      "P-value: 1.7792706381106544e-29\n",
      "Feature: word_sim_p_score\n",
      "Wilcoxon rank-sum statistic: 9.915487935380575\n",
      "P-value: 3.565101924884163e-23\n",
      "Feature: word_sim_n_count\n",
      "Wilcoxon rank-sum statistic: -3.3723840360164705\n",
      "P-value: 0.0007452046037129403\n",
      "Feature: word_sim_n_score\n",
      "Wilcoxon rank-sum statistic: 3.6266273164108442\n",
      "P-value: 0.0002871472687982526\n",
      "Feature: word_sim_score\n",
      "Wilcoxon rank-sum statistic: 9.92746798524209\n",
      "P-value: 3.161822903750262e-23\n",
      "Feature: flesch grade\n",
      "Wilcoxon rank-sum statistic: 8.65957937489842\n",
      "P-value: 4.735082312358414e-18\n",
      "Feature: Automated Readability\n",
      "Wilcoxon rank-sum statistic: 8.750760865511062\n",
      "P-value: 2.1191901738210093e-18\n",
      "Feature: coleman_liau\n",
      "Wilcoxon rank-sum statistic: 12.087204751942988\n",
      "P-value: 1.234145305496365e-33\n",
      "Feature: positive_sentiment\n",
      "Wilcoxon rank-sum statistic: 6.1118221043495655\n",
      "P-value: 9.849995079917472e-10\n",
      "Feature: negative_sentiment\n",
      "Wilcoxon rank-sum statistic: -1.6299523394916786\n",
      "P-value: 0.10311157040376501\n",
      "Feature: neutral_sentiment\n",
      "Wilcoxon rank-sum statistic: -4.420638398899032\n",
      "P-value: 9.840973286544152e-06\n",
      "Feature: discourse_marker\n",
      "Wilcoxon rank-sum statistic: 10.326137422300285\n",
      "P-value: 5.367878047346168e-25\n",
      "Feature: grammar\n",
      "Wilcoxon rank-sum statistic: -10.194356873823619\n",
      "P-value: 2.1013066659912164e-24\n",
      "Feature: sw_rate\n",
      "Wilcoxon rank-sum statistic: -12.01133110282006\n",
      "P-value: 3.098176360906213e-33\n",
      "Feature: sum_repeated_ngrams\n",
      "Wilcoxon rank-sum statistic: 10.354756430302793\n",
      "P-value: 3.981987919163347e-25\n",
      "Feature: count_repeated_ngrams\n",
      "Wilcoxon rank-sum statistic: 10.304173997554173\n",
      "P-value: 6.746877493632493e-25\n",
      "Feature: max_occurrence_ngrams\n",
      "Wilcoxon rank-sum statistic: 9.345770008632973\n",
      "P-value: 9.122325356112142e-21\n",
      "Significant features: ['para_count', 'word_count', 'sentence_count', 'sentence_len(mean)', 'sentence_len(max)', 'avg_stop_word', 'unique_words', 'noun', 'verb', 'adj', 'pron', 'occurrance_of_most_freq_word', 'rate_of_occurrance', 'avg sentence complexity', 'lexical diversity', 'word_sim_p_count', 'word_sim_p_score', 'word_sim_n_count', 'word_sim_n_score', 'word_sim_score', 'flesch grade', 'Automated Readability', 'coleman_liau', 'positive_sentiment', 'neutral_sentiment', 'discourse_marker', 'grammar', 'sw_rate', 'sum_repeated_ngrams', 'count_repeated_ngrams', 'max_occurrence_ngrams']\n",
      "number of significant features  31\n"
     ]
    }
   ],
   "source": [
    "# Drop the target column 'Class' from both DataFrames\n",
    "data1 = df1.drop(columns=['label'])\n",
    "data2 = df2.drop(columns=['label'])\n",
    "\n",
    "# Perform the Wilcoxon rank-sum test for each feature\n",
    "results = {}\n",
    "for feature in data1.columns:\n",
    "    statistic, p_value = stats.ranksums(data1[feature], data2[feature])\n",
    "    results[feature] = {'Wilcoxon rank-sum statistic': statistic, 'P-value': p_value}\n",
    "\n",
    "sorted_results = sorted(results.items(), key=lambda x: x[1]['Wilcoxon rank-sum statistic'], reverse=True)\n",
    "\n",
    "# Display the results for each feature\n",
    "for feature, result in results.items():\n",
    "    print(f\"Feature: {feature}\")\n",
    "    print(f\"Wilcoxon rank-sum statistic: {result['Wilcoxon rank-sum statistic']}\")\n",
    "    print(f\"P-value: {result['P-value']}\")\n",
    "\n",
    "# Set your significance level (alpha) and make a decision\n",
    "alpha = 0.05\n",
    "\n",
    "significant_features = [feature for feature, result in results.items() if result['P-value'] < alpha]\n",
    "print(\"Significant features:\", significant_features)\n",
    "print(\"number of significant features \",len(significant_features))"
   ]
  }
 ],
 "metadata": {
  "kernelspec": {
   "display_name": "myenv1",
   "language": "python",
   "name": "python3"
  },
  "language_info": {
   "codemirror_mode": {
    "name": "ipython",
    "version": 3
   },
   "file_extension": ".py",
   "mimetype": "text/x-python",
   "name": "python",
   "nbconvert_exporter": "python",
   "pygments_lexer": "ipython3",
   "version": "3.9.16"
  }
 },
 "nbformat": 4,
 "nbformat_minor": 2
}
