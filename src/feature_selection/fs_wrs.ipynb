{
 "cells": [
  {
   "cell_type": "code",
   "execution_count": 2,
   "metadata": {},
   "outputs": [],
   "source": [
    "import pandas as pd\n",
    "import numpy as np\n",
    "from sklearn.feature_selection import SelectKBest\n",
    "from sklearn.feature_selection import chi2\n",
    "from sklearn.preprocessing import StandardScaler\n",
    "import scipy.stats as stats"
   ]
  },
  {
   "cell_type": "code",
   "execution_count": 3,
   "metadata": {},
   "outputs": [],
   "source": [
    "df=pd.read_csv('../csv/combined_3.csv')"
   ]
  },
  {
   "cell_type": "code",
   "execution_count": 1,
   "metadata": {},
   "outputs": [],
   "source": [
    "import pandas as pd\n",
    "from scipy.stats import ranksums"
   ]
  },
  {
   "cell_type": "code",
   "execution_count": 6,
   "metadata": {},
   "outputs": [],
   "source": [
    "df = df.drop(columns=['essay', 'topic'])"
   ]
  },
  {
   "cell_type": "code",
   "execution_count": 7,
   "metadata": {},
   "outputs": [
    {
     "name": "stdout",
     "output_type": "stream",
     "text": [
      "Feature: para_count, p-value: 6.031701026206971e-35\n",
      "Feature: coleman_liau, p-value: 1.234145305496365e-33\n",
      "Feature: sw_rate, p-value: 3.098176360906213e-33\n",
      "Feature: lexical diversity, p-value: 1.6207958660092478e-30\n",
      "Feature: word_sim_p_count, p-value: 1.7792706381106547e-29\n",
      "Feature: word_count, p-value: 7.708060460101128e-29\n",
      "Feature: sum_repeated_ngrams, p-value: 3.981987919163347e-25\n",
      "Feature: discourse_marker, p-value: 5.367878047346168e-25\n",
      "Feature: count_repeated_ngrams, p-value: 6.746877493632493e-25\n",
      "Feature: noun, p-value: 6.984417533400684e-25\n",
      "Feature: grammar, p-value: 2.1013066659912164e-24\n",
      "Feature: word_sim_score, p-value: 3.161822903750262e-23\n",
      "Feature: word_sim_p_score, p-value: 3.565101924884163e-23\n",
      "Feature: sentence_count, p-value: 7.803927086263534e-23\n",
      "Feature: occurrance_of_most_freq_word, p-value: 1.4313497112904603e-22\n",
      "Feature: max_occurrence_ngrams, p-value: 9.122325356112142e-21\n",
      "Feature: pron, p-value: 2.747780823720486e-19\n",
      "Feature: Automated Readability, p-value: 2.1191901738210093e-18\n",
      "Feature: flesch grade, p-value: 4.735082312358414e-18\n",
      "Feature: avg_stop_word, p-value: 1.7661737798124848e-15\n",
      "Feature: unique_words, p-value: 2.1716486733373905e-13\n",
      "Feature: positive_sentiment, p-value: 9.849995079917472e-10\n",
      "Feature: sentence_len(max), p-value: 4.640518741546976e-09\n",
      "Feature: verb, p-value: 1.757606343119309e-07\n",
      "Feature: adj, p-value: 2.4250222773201676e-07\n",
      "Feature: neutral_sentiment, p-value: 9.840973286544154e-06\n",
      "Feature: word_sim_n_score, p-value: 0.0002871472687982526\n",
      "Feature: word_sim_n_count, p-value: 0.0007452046037129403\n",
      "Feature: avg sentence complexity, p-value: 0.0013335662330901375\n",
      "Feature: sentence_len(mean), p-value: 0.006958182757862988\n",
      "Feature: rate_of_occurrance, p-value: 0.0362143907080528\n",
      "Feature: sentence_len(min), p-value: 0.10101853406053538\n",
      "Feature: negative_sentiment, p-value: 0.10311157040376501\n",
      "Feature: modal verb, p-value: 0.6881759493897115\n"
     ]
    }
   ],
   "source": [
    "\n",
    "\n",
    "# Assuming your DataFrame is named 'df' with features and labels\n",
    "# Split the DataFrame into two groups based on the class labels\n",
    "group_0 = df[df['label'] == 0]\n",
    "group_1 = df[df['label'] == 1]\n",
    "\n",
    "# Initialize an empty dictionary to store p-values for each feature\n",
    "p_values = {}\n",
    "\n",
    "# Iterate over each feature and compute the Wilcoxon rank-sum test\n",
    "for column in df.columns[:-1]:  # Exclude the last column assuming it's the label\n",
    "    _, p_value = ranksums(group_0[column], group_1[column])\n",
    "    p_values[column] = p_value\n",
    "\n",
    "# Sort the dictionary based on p-values\n",
    "sorted_p_values = sorted(p_values.items(), key=lambda x: x[1])\n",
    "\n",
    "# Print or manipulate the sorted list of features and p-values\n",
    "for feature, p_value in sorted_p_values:\n",
    "    print(f\"Feature: {feature}, p-value: {p_value}\")\n"
   ]
  },
  {
   "cell_type": "code",
   "execution_count": 8,
   "metadata": {},
   "outputs": [
    {
     "name": "stdout",
     "output_type": "stream",
     "text": [
      "Rank: 1, Feature: para_count\n",
      "Rank: 2, Feature: coleman_liau\n",
      "Rank: 3, Feature: sw_rate\n",
      "Rank: 4, Feature: lexical diversity\n",
      "Rank: 5, Feature: word_sim_p_count\n",
      "Rank: 6, Feature: word_count\n",
      "Rank: 7, Feature: sum_repeated_ngrams\n",
      "Rank: 8, Feature: discourse_marker\n",
      "Rank: 9, Feature: count_repeated_ngrams\n",
      "Rank: 10, Feature: noun\n",
      "Rank: 11, Feature: grammar\n",
      "Rank: 12, Feature: word_sim_score\n",
      "Rank: 13, Feature: word_sim_p_score\n",
      "Rank: 14, Feature: sentence_count\n",
      "Rank: 15, Feature: occurrance_of_most_freq_word\n",
      "Rank: 16, Feature: max_occurrence_ngrams\n",
      "Rank: 17, Feature: pron\n",
      "Rank: 18, Feature: Automated Readability\n",
      "Rank: 19, Feature: flesch grade\n",
      "Rank: 20, Feature: avg_stop_word\n",
      "Rank: 21, Feature: unique_words\n",
      "Rank: 22, Feature: positive_sentiment\n",
      "Rank: 23, Feature: sentence_len(max)\n",
      "Rank: 24, Feature: verb\n",
      "Rank: 25, Feature: adj\n",
      "Rank: 26, Feature: neutral_sentiment\n",
      "Rank: 27, Feature: word_sim_n_score\n",
      "Rank: 28, Feature: word_sim_n_count\n",
      "Rank: 29, Feature: avg sentence complexity\n",
      "Rank: 30, Feature: sentence_len(mean)\n",
      "Rank: 31, Feature: rate_of_occurrance\n",
      "Rank: 32, Feature: sentence_len(min)\n",
      "Rank: 33, Feature: negative_sentiment\n",
      "Rank: 34, Feature: modal verb\n"
     ]
    }
   ],
   "source": [
    "sorted_p_values = sorted(p_values.items(), key=lambda x: x[1])\n",
    "\n",
    "# Print the features with their rank\n",
    "rank = 1\n",
    "for feature, _ in sorted_p_values:\n",
    "    print(f\"Rank: {rank}, Feature: {feature}\")\n",
    "    rank += 1"
   ]
  },
  {
   "cell_type": "code",
   "execution_count": null,
   "metadata": {},
   "outputs": [],
   "source": [
    "alpha = 0.05\n",
    "\n",
    "significant_features = [feature for feature, result in results.items() if result['P-value'] < alpha]\n",
    "print(\"Significant features:\", significant_features)\n",
    "print(\"number of significant features \",len(significant_features))"
   ]
  },
  {
   "cell_type": "code",
   "execution_count": 9,
   "metadata": {},
   "outputs": [
    {
     "name": "stdout",
     "output_type": "stream",
     "text": [
      "Features arranged from best to worst:\n",
      "1. para_count\n",
      "2. coleman_liau\n",
      "3. sw_rate\n",
      "4. lexical diversity\n",
      "5. word_sim_p_count\n",
      "6. word_count\n",
      "7. sum_repeated_ngrams\n",
      "8. discourse_marker\n",
      "9. count_repeated_ngrams\n",
      "10. noun\n",
      "11. grammar\n",
      "12. word_sim_score\n",
      "13. word_sim_p_score\n",
      "14. sentence_count\n",
      "15. occurrance_of_most_freq_word\n",
      "16. max_occurrence_ngrams\n",
      "17. pron\n",
      "18. Automated Readability\n",
      "19. flesch grade\n",
      "20. avg_stop_word\n",
      "21. unique_words\n",
      "22. positive_sentiment\n",
      "23. sentence_len(max)\n",
      "24. verb\n",
      "25. adj\n",
      "26. neutral_sentiment\n",
      "27. word_sim_n_score\n",
      "28. word_sim_n_count\n",
      "29. avg sentence complexity\n",
      "30. sentence_len(mean)\n",
      "31. rate_of_occurrance\n",
      "32. sentence_len(min)\n",
      "33. negative_sentiment\n",
      "34. modal verb\n"
     ]
    }
   ],
   "source": [
    "features_in_order = [feature for feature, _ in sorted_p_values]\n",
    "\n",
    "# Print the features in a list format\n",
    "print(\"Features arranged from best to worst:\")\n",
    "for rank, feature in enumerate(features_in_order, start=1):\n",
    "    print(f\"{rank}. {feature}\")"
   ]
  },
  {
   "cell_type": "code",
   "execution_count": 10,
   "metadata": {},
   "outputs": [
    {
     "name": "stdout",
     "output_type": "stream",
     "text": [
      "Features arranged from best to worst:\n",
      "['para_count', 'coleman_liau', 'sw_rate', 'lexical diversity', 'word_sim_p_count', 'word_count', 'sum_repeated_ngrams', 'discourse_marker', 'count_repeated_ngrams', 'noun', 'grammar', 'word_sim_score', 'word_sim_p_score', 'sentence_count', 'occurrance_of_most_freq_word', 'max_occurrence_ngrams', 'pron', 'Automated Readability', 'flesch grade', 'avg_stop_word', 'unique_words', 'positive_sentiment', 'sentence_len(max)', 'verb', 'adj', 'neutral_sentiment', 'word_sim_n_score', 'word_sim_n_count', 'avg sentence complexity', 'sentence_len(mean)', 'rate_of_occurrance', 'sentence_len(min)', 'negative_sentiment', 'modal verb']\n"
     ]
    }
   ],
   "source": [
    "sorted_p_values = sorted(p_values.items(), key=lambda x: x[1])\n",
    "\n",
    "# Store the features in a list arranged by rank of significance\n",
    "features_in_order = [feature for feature, _ in sorted_p_values]\n",
    "\n",
    "# Print the features in a list format\n",
    "print(\"Features arranged from best to worst:\")\n",
    "print(features_in_order)"
   ]
  },
  {
   "cell_type": "code",
   "execution_count": 11,
   "metadata": {},
   "outputs": [
    {
     "name": "stdout",
     "output_type": "stream",
     "text": [
      "Features arranged from best to worst based on p-values:\n",
      "['para_count', 'coleman_liau', 'sw_rate', 'lexical diversity', 'word_sim_p_count', 'word_count', 'sum_repeated_ngrams', 'discourse_marker', 'count_repeated_ngrams', 'noun', 'grammar', 'word_sim_score', 'word_sim_p_score', 'sentence_count', 'occurrance_of_most_freq_word', 'max_occurrence_ngrams', 'pron', 'Automated Readability', 'flesch grade', 'avg_stop_word', 'unique_words', 'positive_sentiment', 'sentence_len(max)', 'verb', 'adj', 'neutral_sentiment', 'word_sim_n_score', 'word_sim_n_count', 'avg sentence complexity', 'sentence_len(mean)', 'rate_of_occurrance', 'sentence_len(min)', 'negative_sentiment', 'modal verb']\n"
     ]
    }
   ],
   "source": [
    "for column in df.columns[:-1]:  # Exclude the last column assuming it's the label\n",
    "    _, p_value = ranksums(group_0[column], group_1[column])\n",
    "    p_values[column] = p_value\n",
    "\n",
    "# Sort the dictionary based on p-values\n",
    "sorted_p_values = sorted(p_values.items(), key=lambda x: x[1])\n",
    "\n",
    "# Store the features in a list arranged by rank of significance\n",
    "features_in_order = [feature for feature, _ in sorted_p_values]\n",
    "\n",
    "# Print the features in a list format\n",
    "print(\"Features arranged from best to worst based on p-values:\")\n",
    "print(features_in_order)"
   ]
  },
  {
   "cell_type": "code",
   "execution_count": 12,
   "metadata": {},
   "outputs": [
    {
     "data": {
      "text/plain": [
       "[('para_count', 6.031701026206971e-35),\n",
       " ('coleman_liau', 1.234145305496365e-33),\n",
       " ('sw_rate', 3.098176360906213e-33),\n",
       " ('lexical diversity', 1.6207958660092478e-30),\n",
       " ('word_sim_p_count', 1.7792706381106547e-29),\n",
       " ('word_count', 7.708060460101128e-29),\n",
       " ('sum_repeated_ngrams', 3.981987919163347e-25),\n",
       " ('discourse_marker', 5.367878047346168e-25),\n",
       " ('count_repeated_ngrams', 6.746877493632493e-25),\n",
       " ('noun', 6.984417533400684e-25),\n",
       " ('grammar', 2.1013066659912164e-24),\n",
       " ('word_sim_score', 3.161822903750262e-23),\n",
       " ('word_sim_p_score', 3.565101924884163e-23),\n",
       " ('sentence_count', 7.803927086263534e-23),\n",
       " ('occurrance_of_most_freq_word', 1.4313497112904603e-22),\n",
       " ('max_occurrence_ngrams', 9.122325356112142e-21),\n",
       " ('pron', 2.747780823720486e-19),\n",
       " ('Automated Readability', 2.1191901738210093e-18),\n",
       " ('flesch grade', 4.735082312358414e-18),\n",
       " ('avg_stop_word', 1.7661737798124848e-15),\n",
       " ('unique_words', 2.1716486733373905e-13),\n",
       " ('positive_sentiment', 9.849995079917472e-10),\n",
       " ('sentence_len(max)', 4.640518741546976e-09),\n",
       " ('verb', 1.757606343119309e-07),\n",
       " ('adj', 2.4250222773201676e-07),\n",
       " ('neutral_sentiment', 9.840973286544154e-06),\n",
       " ('word_sim_n_score', 0.0002871472687982526),\n",
       " ('word_sim_n_count', 0.0007452046037129403),\n",
       " ('avg sentence complexity', 0.0013335662330901375),\n",
       " ('sentence_len(mean)', 0.006958182757862988),\n",
       " ('rate_of_occurrance', 0.0362143907080528),\n",
       " ('sentence_len(min)', 0.10101853406053538),\n",
       " ('negative_sentiment', 0.10311157040376501),\n",
       " ('modal verb', 0.6881759493897115)]"
      ]
     },
     "execution_count": 12,
     "metadata": {},
     "output_type": "execute_result"
    }
   ],
   "source": [
    "sorted_p_values"
   ]
  }
 ],
 "metadata": {
  "kernelspec": {
   "display_name": "es_env",
   "language": "python",
   "name": "python3"
  },
  "language_info": {
   "codemirror_mode": {
    "name": "ipython",
    "version": 3
   },
   "file_extension": ".py",
   "mimetype": "text/x-python",
   "name": "python",
   "nbconvert_exporter": "python",
   "pygments_lexer": "ipython3",
   "version": "3.9.12"
  }
 },
 "nbformat": 4,
 "nbformat_minor": 2
}
