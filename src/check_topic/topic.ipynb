{
 "cells": [
  {
   "cell_type": "code",
   "execution_count": 1,
   "metadata": {},
   "outputs": [],
   "source": [
    "import pandas as pd\n",
    "import matplotlib.pyplot as plt"
   ]
  },
  {
   "cell_type": "code",
   "execution_count": 6,
   "metadata": {},
   "outputs": [],
   "source": [
    "data = pd.read_csv('../../csv/gpt/csv_gpt3-1.csv')\n",
    "topic=data.loc[:,'topic'].to_list()"
   ]
  },
  {
   "cell_type": "code",
   "execution_count": 4,
   "metadata": {},
   "outputs": [],
   "source": [
    "data = pd.read_csv('../../csv/human/csv_human-1.csv')\n",
    "topic=data.loc[:,'topic'].to_list()"
   ]
  },
  {
   "cell_type": "code",
   "execution_count": 7,
   "metadata": {},
   "outputs": [],
   "source": [
    "str1=\"It is important for people to take risks, both in their professional lives and their personal lives?\"\n",
    "topic.append(str1)"
   ]
  },
  {
   "cell_type": "code",
   "execution_count": 8,
   "metadata": {},
   "outputs": [
    {
     "name": "stdout",
     "output_type": "stream",
     "text": [
      "111\n",
      "111\n"
     ]
    }
   ],
   "source": [
    "unique_topics = list(set(topic))\n",
    "print(len(topic))\n",
    "print(len(unique_topics))"
   ]
  },
  {
   "cell_type": "code",
   "execution_count": 9,
   "metadata": {},
   "outputs": [
    {
     "name": "stdout",
     "output_type": "stream",
     "text": [
      "Similar topics: Do you agree or disagree that following news is a waste of time? and \n",
      "  STUDIES SUGGEST THAT MANY TEENAGERS THESE DAYS PREFER SOCIALISING ONLINE TO MEETING ONE ANOTHER IN PERSON. Why do you think this is the case?\n",
      "Similar topics: In recent years, more and more people are choosing to read e-books rather than paper books.DO THE ADVANTAGES OUTWEIGH THE DISADVANTAGES OF THIS TREND? and \n",
      "  many adults are working from home, and more children are beginning to study from home because technology has become cheaper and more accessible. Do you think this is a positive or negative development?\n",
      "Similar topics: It is important to ensure that children with a wide range of abilities and from a variety of social backgrounds mix with each other at school. TO WHAT EXTENT DO YOU AGREE OR DISAGREE? and \n",
      "  many adults are working from home, and more children are beginning to study from home because technology has become cheaper and more accessible. Do you think this is a positive or negative development?\n",
      "Similar topics: It is important to ensure that children with a wide range of abilities and from a variety of social backgrounds mix with each other at school. TO WHAT EXTENT DO YOU AGREE OR DISAGREE? and \n",
      "  STUDIES SUGGEST THAT MANY TEENAGERS THESE DAYS PREFER SOCIALISING ONLINE TO MEETING ONE ANOTHER IN PERSON. Why do you think this is the case?\n",
      "Similar topics: many adults are working from home, and more children are beginning to study from home because technology has become cheaper and more accessible. Do you think this is a positive or negative development? and \n",
      "  STUDIES SUGGEST THAT MANY TEENAGERS THESE DAYS PREFER SOCIALISING ONLINE TO MEETING ONE ANOTHER IN PERSON. Why do you think this is the case?\n",
      "Similar topics: many adults are working from home, and more children are beginning to study from home because technology has become cheaper and more accessible. Do you think this is a positive or negative development? and \n",
      "  Many people no longer read newspapers or watch TV news programmes. Instead, they get news about the world from the Internet. IS THIS A NEGATIVE OR POSITIVE DEVELOPMENT?\n",
      "Similar topics: many adults are working from home, and more children are beginning to study from home because technology has become cheaper and more accessible. Do you think this is a positive or negative development? and \n",
      "  It is important for people to take risks, both in their professional lives and their personal lives?\n",
      "Similar topics: STUDIES SUGGEST THAT MANY TEENAGERS THESE DAYS PREFER SOCIALISING ONLINE TO MEETING ONE ANOTHER IN PERSON. Why do you think this is the case? and \n",
      "  In the future, the main reason for going to the shopping mall will be for entertainment, not to shop. DO YOU AGREE OR DISAGREE?\n"
     ]
    }
   ],
   "source": [
    "import spacy\n",
    "from sklearn.metrics.pairwise import cosine_similarity\n",
    "\n",
    "# Load the spaCy model\n",
    "nlp = spacy.load(\"en_core_web_lg\")\n",
    "\n",
    "\n",
    "# Calculate the similarity between topics\n",
    "similar_topics = []\n",
    "for i in range(len(topic)):\n",
    "    for j in range(i + 1, len(topic)):\n",
    "        topic1 = nlp(topic[i])\n",
    "        topic2 = nlp(topic[j])\n",
    "        similarity_score = cosine_similarity(topic1.vector.reshape(1, -1), topic2.vector.reshape(1, -1))[0][0]\n",
    "        if similarity_score >= 0.94:  # Set a threshold for similarity\n",
    "            similar_topics.append((topic[i], topic[j]))\n",
    "\n",
    "# Print similar topics\n",
    "for topic_pair in similar_topics:\n",
    "    print(f\"Similar topics: {topic_pair[0]} and\",\"\\n\",f\" {topic_pair[1]}\")"
   ]
  },
  {
   "cell_type": "code",
   "execution_count": 9,
   "metadata": {},
   "outputs": [],
   "source": [
    "data = pd.read_csv('../../csv/gpt/csv_gpt3-1.csv')\n",
    "list_g=data.loc[:,'topic'].to_list()\n",
    "data = pd.read_csv('../../csv/human/csv_human-1.csv')\n",
    "list_h=data.loc[:,'topic'].to_list()\n",
    "uncommon_elements = list(set(list_h) ^ set(list_g))\n",
    "print(uncommon_elements)"
   ]
  },
  {
   "cell_type": "code",
   "execution_count": 18,
   "metadata": {},
   "outputs": [
    {
     "name": "stdout",
     "output_type": "stream",
     "text": [
      "Empty DataFrame\n",
      "Columns: [essay, topic, para_count, word_count, sentence_count, sentence_len(mean), sentence_len(mode), sentence_len(max), sentence_len(min), stop_words, sw_rates, unique_words, noun, verb, adj, pron, modal verb, most_freq, number_of_repeatation, max_occurance_of_most_frequent_phrase, avg sentence complexity, lexical diversity, sentence similarity mean, sentence similarity median, sentence similarity mode, word_sim_p_count, word_sim_p_score, word_sim_n_count, word_sim_n_score, word_sim_score, flesch grade, Automated Readability, coleman_liau, cohesion score, uniqueness of words, positive_sentiment, negative_sentiment, neutral_sentiment, discourse_marker, label]\n",
      "Index: []\n",
      "\n",
      "[0 rows x 40 columns]\n"
     ]
    }
   ],
   "source": [
    "# Fetching records for a particular value in 'Column2'\n",
    "filtered_df = data[data['topic'] == 'Nowadays, an increasing number of people are deciding to live on their own']\n",
    "\n",
    "# Printing the filtered DataFrame\n",
    "print(filtered_df)"
   ]
  },
  {
   "cell_type": "code",
   "execution_count": 24,
   "metadata": {},
   "outputs": [
    {
     "name": "stdout",
     "output_type": "stream",
     "text": [
      "                                                essay  \\\n",
      "2   Globalization refers to the process of integra...   \n",
      "59  Globalization refers to the interconnectedness...   \n",
      "\n",
      "                                                topic  para_count  word_count  \\\n",
      "2   effects of globalization (decrease in global t...         6.0       457.0   \n",
      "59  effects of globalization (decrease in global t...         5.0       364.0   \n",
      "\n",
      "    sentence_count  sentence_len(mean)  sentence_len(mode)  sentence_len(max)  \\\n",
      "2             24.0           19.041667                16.0               31.0   \n",
      "59            19.0           19.157895                21.0               32.0   \n",
      "\n",
      "    sentence_len(min)  stop_words  ...  flesch grade  Automated Readability  \\\n",
      "2                10.0       216.0  ...          13.1                   16.0   \n",
      "59               11.0       156.0  ...          14.3                   17.3   \n",
      "\n",
      "    coleman_liau  cohesion score  uniqueness of words  positive_sentiment  \\\n",
      "2          16.48        3.903269             0.373047               0.182   \n",
      "59         17.87        4.217081             0.445255               0.178   \n",
      "\n",
      "    negative_sentiment  neutral_sentiment  discourse_marker  label  \n",
      "2                0.088              0.730              52.0    1.0  \n",
      "59               0.048              0.774              48.0    1.0  \n",
      "\n",
      "[2 rows x 40 columns]\n"
     ]
    }
   ],
   "source": [
    "# Fetching records for a particular value in 'Column2'\n",
    "filtered_df = data[data['topic'] == 'effects of globalization (decrease in global tension)']\n",
    "\n",
    "# Printing the filtered DataFrame\n",
    "print(filtered_df)"
   ]
  },
  {
   "cell_type": "code",
   "execution_count": 25,
   "metadata": {},
   "outputs": [
    {
     "data": {
      "text/html": [
       "<div>\n",
       "<style scoped>\n",
       "    .dataframe tbody tr th:only-of-type {\n",
       "        vertical-align: middle;\n",
       "    }\n",
       "\n",
       "    .dataframe tbody tr th {\n",
       "        vertical-align: top;\n",
       "    }\n",
       "\n",
       "    .dataframe thead th {\n",
       "        text-align: right;\n",
       "    }\n",
       "</style>\n",
       "<table border=\"1\" class=\"dataframe\">\n",
       "  <thead>\n",
       "    <tr style=\"text-align: right;\">\n",
       "      <th></th>\n",
       "      <th>essay</th>\n",
       "      <th>topic</th>\n",
       "      <th>para_count</th>\n",
       "      <th>word_count</th>\n",
       "      <th>sentence_count</th>\n",
       "      <th>sentence_len(mean)</th>\n",
       "      <th>sentence_len(mode)</th>\n",
       "      <th>sentence_len(max)</th>\n",
       "      <th>sentence_len(min)</th>\n",
       "      <th>stop_words</th>\n",
       "      <th>...</th>\n",
       "      <th>flesch grade</th>\n",
       "      <th>Automated Readability</th>\n",
       "      <th>coleman_liau</th>\n",
       "      <th>cohesion score</th>\n",
       "      <th>uniqueness of words</th>\n",
       "      <th>positive_sentiment</th>\n",
       "      <th>negative_sentiment</th>\n",
       "      <th>neutral_sentiment</th>\n",
       "      <th>discourse_marker</th>\n",
       "      <th>label</th>\n",
       "    </tr>\n",
       "  </thead>\n",
       "  <tbody>\n",
       "    <tr>\n",
       "      <th>2</th>\n",
       "      <td>Globalization refers to the process of integra...</td>\n",
       "      <td>effects of globalization (decrease in global t...</td>\n",
       "      <td>6.0</td>\n",
       "      <td>457.0</td>\n",
       "      <td>24.0</td>\n",
       "      <td>19.041667</td>\n",
       "      <td>16.0</td>\n",
       "      <td>31.0</td>\n",
       "      <td>10.0</td>\n",
       "      <td>216.0</td>\n",
       "      <td>...</td>\n",
       "      <td>13.1</td>\n",
       "      <td>16.0</td>\n",
       "      <td>16.48</td>\n",
       "      <td>3.903269</td>\n",
       "      <td>0.373047</td>\n",
       "      <td>0.182</td>\n",
       "      <td>0.088</td>\n",
       "      <td>0.730</td>\n",
       "      <td>52.0</td>\n",
       "      <td>1.0</td>\n",
       "    </tr>\n",
       "    <tr>\n",
       "      <th>59</th>\n",
       "      <td>Globalization refers to the interconnectedness...</td>\n",
       "      <td>effects of globalization (decrease in global t...</td>\n",
       "      <td>5.0</td>\n",
       "      <td>364.0</td>\n",
       "      <td>19.0</td>\n",
       "      <td>19.157895</td>\n",
       "      <td>21.0</td>\n",
       "      <td>32.0</td>\n",
       "      <td>11.0</td>\n",
       "      <td>156.0</td>\n",
       "      <td>...</td>\n",
       "      <td>14.3</td>\n",
       "      <td>17.3</td>\n",
       "      <td>17.87</td>\n",
       "      <td>4.217081</td>\n",
       "      <td>0.445255</td>\n",
       "      <td>0.178</td>\n",
       "      <td>0.048</td>\n",
       "      <td>0.774</td>\n",
       "      <td>48.0</td>\n",
       "      <td>1.0</td>\n",
       "    </tr>\n",
       "  </tbody>\n",
       "</table>\n",
       "<p>2 rows × 40 columns</p>\n",
       "</div>"
      ],
      "text/plain": [
       "                                                essay  \\\n",
       "2   Globalization refers to the process of integra...   \n",
       "59  Globalization refers to the interconnectedness...   \n",
       "\n",
       "                                                topic  para_count  word_count  \\\n",
       "2   effects of globalization (decrease in global t...         6.0       457.0   \n",
       "59  effects of globalization (decrease in global t...         5.0       364.0   \n",
       "\n",
       "    sentence_count  sentence_len(mean)  sentence_len(mode)  sentence_len(max)  \\\n",
       "2             24.0           19.041667                16.0               31.0   \n",
       "59            19.0           19.157895                21.0               32.0   \n",
       "\n",
       "    sentence_len(min)  stop_words  ...  flesch grade  Automated Readability  \\\n",
       "2                10.0       216.0  ...          13.1                   16.0   \n",
       "59               11.0       156.0  ...          14.3                   17.3   \n",
       "\n",
       "    coleman_liau  cohesion score  uniqueness of words  positive_sentiment  \\\n",
       "2          16.48        3.903269             0.373047               0.182   \n",
       "59         17.87        4.217081             0.445255               0.178   \n",
       "\n",
       "    negative_sentiment  neutral_sentiment  discourse_marker  label  \n",
       "2                0.088              0.730              52.0    1.0  \n",
       "59               0.048              0.774              48.0    1.0  \n",
       "\n",
       "[2 rows x 40 columns]"
      ]
     },
     "execution_count": 25,
     "metadata": {},
     "output_type": "execute_result"
    }
   ],
   "source": [
    "filtered_df"
   ]
  },
  {
   "cell_type": "code",
   "execution_count": 26,
   "metadata": {},
   "outputs": [],
   "source": [
    "row1 = data.iloc[2]\n",
    "row2 = data.iloc[59]"
   ]
  },
  {
   "cell_type": "code",
   "execution_count": null,
   "metadata": {},
   "outputs": [],
   "source": [
    "row1"
   ]
  },
  {
   "cell_type": "code",
   "execution_count": null,
   "metadata": {},
   "outputs": [],
   "source": [
    "row2"
   ]
  },
  {
   "cell_type": "code",
   "execution_count": 3,
   "metadata": {},
   "outputs": [
    {
     "name": "stdout",
     "output_type": "stream",
     "text": [
      "Empty DataFrame\n",
      "Columns: [essay, topic, para_count, word_count, sentence_count, sentence_len(mean), sentence_len(mode), sentence_len(max), sentence_len(min), stop_words, sw_rates, unique_words, noun, verb, adj, pron, modal verb, most_freq, number_of_repeatation, max_occurance_of_most_frequent_phrase, avg sentence complexity, lexical diversity, sentence similarity mean, sentence similarity median, sentence similarity mode, word_sim_p_count, word_sim_p_score, word_sim_n_count, word_sim_n_score, word_sim_score, flesch grade, Automated Readability, coleman_liau, cohesion score, uniqueness of words, positive_sentiment, negative_sentiment, neutral_sentiment, discourse_marker, label]\n",
      "Index: []\n",
      "\n",
      "[0 rows x 40 columns]\n"
     ]
    }
   ],
   "source": [
    "# Fetching records for a particular value in 'Column2'\n",
    "filtered_df = data[data['topic'] == 'International tourism is now more common than ever before (for)']\n",
    "\n",
    "# Printing the filtered DataFrame\n",
    "print(filtered_df)"
   ]
  }
 ],
 "metadata": {
  "kernelspec": {
   "display_name": "es_env",
   "language": "python",
   "name": "python3"
  },
  "language_info": {
   "codemirror_mode": {
    "name": "ipython",
    "version": 3
   },
   "file_extension": ".py",
   "mimetype": "text/x-python",
   "name": "python",
   "nbconvert_exporter": "python",
   "pygments_lexer": "ipython3",
   "version": "3.9.12"
  },
  "orig_nbformat": 4
 },
 "nbformat": 4,
 "nbformat_minor": 2
}
