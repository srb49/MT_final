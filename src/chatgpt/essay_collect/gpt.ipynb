{
 "cells": [
  {
   "cell_type": "code",
   "execution_count": 1,
   "metadata": {},
   "outputs": [
    {
     "name": "stderr",
     "output_type": "stream",
     "text": [
      "[nltk_data] Downloading package punkt to /root/nltk_data...\n",
      "[nltk_data]   Package punkt is already up-to-date!\n",
      "[nltk_data] Downloading package stopwords to /root/nltk_data...\n",
      "[nltk_data]   Package stopwords is already up-to-date!\n",
      "[nltk_data] Downloading package wordnet to /root/nltk_data...\n",
      "[nltk_data]   Package wordnet is already up-to-date!\n"
     ]
    },
    {
     "data": {
      "text/plain": [
       "True"
      ]
     },
     "execution_count": 1,
     "metadata": {},
     "output_type": "execute_result"
    }
   ],
   "source": [
    "import openai\n",
    "import pandas as pd\n",
    "import spacy\n",
    "nlp = spacy.load(\"en_core_web_lg\")\n",
    "import nltk\n",
    "nltk.download(\"punkt\")\n",
    "nltk.download(\"stopwords\")\n",
    "nltk.download(\"wordnet\")"
   ]
  },
  {
   "cell_type": "code",
   "execution_count": 10,
   "metadata": {},
   "outputs": [
    {
     "name": "stdout",
     "output_type": "stream",
     "text": [
      "write an ielts essay on Some people think that people who chose a job early and keep doing are more likely to get satisfying career life than those who frequently change jobs. TO WHAT EXTENT DO YOU AGREE OR DISAGREE? don't add titles, and heading of each paragraphs in the essay\n"
     ]
    }
   ],
   "source": [
    "str1=\"write an ielts essay on \"\n",
    "str2=\"Some people think that people who chose a job early and keep doing are more likely to get satisfying career life than those who frequently change jobs. TO WHAT EXTENT DO YOU AGREE OR DISAGREE?\"\n",
    "str3=\" don't add titles, and heading of each paragraphs in the essay\"\n",
    "str4=str1+str2+str3\n",
    "print(str4)\n",
    "essay_list=[str4]"
   ]
  },
  {
   "cell_type": "code",
   "execution_count": 11,
   "metadata": {},
   "outputs": [
    {
     "name": "stderr",
     "output_type": "stream",
     "text": [
      "/tmp/ipykernel_3127446/2088402255.py:38: FutureWarning: The frame.append method is deprecated and will be removed from pandas in a future version. Use pandas.concat instead.\n",
      "  df=df.append({'essay':reply,'topic':modified_string},ignore_index=True)\n"
     ]
    }
   ],
   "source": [
    "df = pd.DataFrame()\n",
    "with open('../other/key1.h', 'r') as file:\n",
    " data = file.read()\n",
    "openai.api_key=data\n",
    "messages = [\n",
    "    {\"role\": \"system\", \"content\": \"You are a helpful assistant.\"},\n",
    "]\n",
    "for i in range(len(essay_list)):\n",
    "    message = essay_list[i]\n",
    "\n",
    "    messages.append(\n",
    "        {\"role\": \"user\", \"content\": message},\n",
    "            )\n",
    "    chat_completion = openai.ChatCompletion.create(\n",
    "            model=\"gpt-3.5-turbo\", messages=messages\n",
    "        )\n",
    "    reply = chat_completion.choices[0].message.content\n",
    "    #print(reply)\n",
    "    messages.append({\"role\": \"assistant\", \"content\": reply})\n",
    "    #substring = \"essay on \"\n",
    "    #modified_string = message.replace(substring, \"\")\n",
    "\n",
    "    excluded_beginning = \"write an ielts essay on \"\n",
    "    excluded_end = \" don't add titles, and heading of each paragraphs in the essay\"\n",
    "\n",
    "# Copy the string excluding the specified parts\n",
    "    modified_string = message[len(excluded_beginning):-len(excluded_end)]\n",
    "\n",
    "    lines = reply.splitlines()\n",
    "    if lines[0].startswith('As a helpful assistant, I will provide you with an essay on the topic'):\n",
    "        print(lines[1:])\n",
    "        print(lines[2:])\n",
    "        str1=\"\\n\".join(lines[2:])\n",
    "    elif lines[0].startswith(modified_string):\n",
    "        str1=\"\\n\".join(lines[2:])\n",
    "    else:\n",
    "       str1=reply\n",
    "    df=df.append({'essay':reply,'topic':modified_string},ignore_index=True)\n",
    "#print(\"message without essay\", message, modified_string)\n",
    "#print(\"the actual essay\", reply)"
   ]
  },
  {
   "cell_type": "code",
   "execution_count": 10,
   "metadata": {},
   "outputs": [
    {
     "data": {
      "text/html": [
       "<div>\n",
       "<style scoped>\n",
       "    .dataframe tbody tr th:only-of-type {\n",
       "        vertical-align: middle;\n",
       "    }\n",
       "\n",
       "    .dataframe tbody tr th {\n",
       "        vertical-align: top;\n",
       "    }\n",
       "\n",
       "    .dataframe thead th {\n",
       "        text-align: right;\n",
       "    }\n",
       "</style>\n",
       "<table border=\"1\" class=\"dataframe\">\n",
       "  <thead>\n",
       "    <tr style=\"text-align: right;\">\n",
       "      <th></th>\n",
       "      <th>essay</th>\n",
       "      <th>topic</th>\n",
       "    </tr>\n",
       "  </thead>\n",
       "  <tbody>\n",
       "    <tr>\n",
       "      <th>0</th>\n",
       "      <td>The global trend of young population outpacing...</td>\n",
       "      <td>Young population outnumbers the old in various...</td>\n",
       "    </tr>\n",
       "  </tbody>\n",
       "</table>\n",
       "</div>"
      ],
      "text/plain": [
       "                                               essay  \\\n",
       "0  The global trend of young population outpacing...   \n",
       "\n",
       "                                               topic  \n",
       "0  Young population outnumbers the old in various...  "
      ]
     },
     "execution_count": 10,
     "metadata": {},
     "output_type": "execute_result"
    }
   ],
   "source": [
    "df"
   ]
  },
  {
   "cell_type": "code",
   "execution_count": 12,
   "metadata": {},
   "outputs": [
    {
     "name": "stdout",
     "output_type": "stream",
     "text": [
      "Nowadays, there is a significant debate regarding job stability and its impact on having a fulfilling career. While some individuals argue that those who choose a job early and stick with it are more likely to have a satisfying career, others believe that frequently changing jobs leads to greater fulfillment in professional life. In my opinion, neither approach guarantees career satisfaction, as personal fulfillment depends on various factors such as individual growth, job market conditions, and personal preferences.\n",
      "\n",
      "On one hand, those who advocate for choosing a job early and remaining in the same position argue that this approach allows individuals to develop deep expertise in their field. By focusing on a specific profession and staying in the same job, employees can build a strong skill set, acquire specialized knowledge, and become experts in their respective domains. This can lead to increased recognition, financial stability, and personal satisfaction, as individuals feel accomplished in their chosen field.\n",
      "\n",
      "Furthermore, individuals who stick with a single job can often enjoy the benefits of job security. In an ever-changing job market, having a stable and predictable income can provide peace of mind and reduce stress levels. It allows individuals to focus on their work and professional growth without worrying about constantly searching for new employment opportunities, adapting to new workplace cultures, or experiencing long periods of unemployment.\n",
      "\n",
      "On the other hand, those who argue in favor of frequently changing jobs assert that a diverse professional experience can lead to greater career satisfaction. By exploring different industries, job roles, and work environments, individuals can gain a broader insight into their interests and strengths. Job-hopping allows them to identify which career path aligns best with their skills and ambitions. Moreover, changing jobs frequently can foster personal and professional growth, as it exposes individuals to new challenges, expands their networks, and enhances their adaptability.\n",
      "\n",
      "In addition, the current job market and industry demands often necessitate flexibility and diversity. Rapid technological advancements, economic fluctuations, and changing societal needs may render certain skills obsolete or create new opportunities. In such a fast-paced environment, individuals who frequently change jobs might be more equipped to navigate these shifts and remain relevant in the professional sphere.\n",
      "\n",
      "Nevertheless, career satisfaction is subjective and depends on individual preferences. Some individuals thrive on stability and the comfort of a familiar work routine. Others may find satisfaction in constantly exploring new opportunities and pursuing diverse experiences. Therefore, it is essential to recognize that neither approach is universally superior or guarantees a fulfilling career.\n",
      "\n",
      "In conclusion, the belief that people who choose a job early and remain in the same position are more likely to have a satisfying career is not necessarily true. Neither sticking with a single job nor frequently changing jobs is a guarantee of career fulfillment. Personal growth, market conditions, and individual preferences are crucial factors that influence job satisfaction. Ultimately, individuals should focus on finding a career path that aligns with their passions, values, and ambitions, regardless of the chosen approach.\n",
      "Some people think that people who chose a job early and keep doing are more likely to get satisfying career life than those who frequently change jobs. TO WHAT EXTENT DO YOU AGREE OR DISAGREE?\n"
     ]
    }
   ],
   "source": [
    "ess=df.loc[:,'essay']\n",
    "print(ess[0])\n",
    "\n",
    "t=df.loc[:,'topic']\n",
    "print(t[0])"
   ]
  },
  {
   "cell_type": "markdown",
   "metadata": {},
   "source": [
    "data.to_csv('../csv/gpt/csv_gpt3-2.csv',index=False)"
   ]
  },
  {
   "cell_type": "code",
   "execution_count": 9,
   "metadata": {},
   "outputs": [],
   "source": [
    "data=df\n",
    "data.to_csv('csv_gpt3.csv',mode='a',header=None,index=False)"
   ]
  },
  {
   "cell_type": "code",
   "execution_count": 8,
   "metadata": {},
   "outputs": [
    {
     "data": {
      "text/html": [
       "<div>\n",
       "<style scoped>\n",
       "    .dataframe tbody tr th:only-of-type {\n",
       "        vertical-align: middle;\n",
       "    }\n",
       "\n",
       "    .dataframe tbody tr th {\n",
       "        vertical-align: top;\n",
       "    }\n",
       "\n",
       "    .dataframe thead th {\n",
       "        text-align: right;\n",
       "    }\n",
       "</style>\n",
       "<table border=\"1\" class=\"dataframe\">\n",
       "  <thead>\n",
       "    <tr style=\"text-align: right;\">\n",
       "      <th></th>\n",
       "      <th>essay</th>\n",
       "      <th>topic</th>\n",
       "    </tr>\n",
       "  </thead>\n",
       "  <tbody>\n",
       "    <tr>\n",
       "      <th>0</th>\n",
       "      <td>In recent years, there has been an ongoing deb...</td>\n",
       "      <td>UNPAID COMMUNITY SERVICE SHOULD BE A COMPULSOR...</td>\n",
       "    </tr>\n",
       "  </tbody>\n",
       "</table>\n",
       "</div>"
      ],
      "text/plain": [
       "                                               essay  \\\n",
       "0  In recent years, there has been an ongoing deb...   \n",
       "\n",
       "                                               topic  \n",
       "0  UNPAID COMMUNITY SERVICE SHOULD BE A COMPULSOR...  "
      ]
     },
     "execution_count": 8,
     "metadata": {},
     "output_type": "execute_result"
    }
   ],
   "source": [
    "data"
   ]
  }
 ],
 "metadata": {
  "kernelspec": {
   "display_name": "es_env",
   "language": "python",
   "name": "python3"
  },
  "language_info": {
   "codemirror_mode": {
    "name": "ipython",
    "version": 3
   },
   "file_extension": ".py",
   "mimetype": "text/x-python",
   "name": "python",
   "nbconvert_exporter": "python",
   "pygments_lexer": "ipython3",
   "version": "3.9.12"
  },
  "orig_nbformat": 4
 },
 "nbformat": 4,
 "nbformat_minor": 2
}
