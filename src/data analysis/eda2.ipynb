{
 "cells": [
  {
   "cell_type": "code",
   "execution_count": 1,
   "metadata": {},
   "outputs": [],
   "source": [
    "import numpy as np\n",
    "import pandas as pd\n",
    "import seaborn as sns\n",
    "import matplotlib.pyplot as plt\n",
    "%matplotlib inline\n",
    "import warnings\n",
    "warnings.filterwarnings('ignore')\n",
    "from sklearn.preprocessing import normalize"
   ]
  },
  {
   "cell_type": "code",
   "execution_count": 2,
   "metadata": {},
   "outputs": [],
   "source": [
    "df1 = pd.read_csv('../../csv/gpt/csv_gpt3-2.csv')\n",
    "df2 = pd.read_csv('../../csv/human/csv_human-2.csv')"
   ]
  },
  {
   "cell_type": "code",
   "execution_count": null,
   "metadata": {},
   "outputs": [],
   "source": [
    "df1.describe().T"
   ]
  },
  {
   "cell_type": "code",
   "execution_count": null,
   "metadata": {},
   "outputs": [],
   "source": [
    "df2.describe().T"
   ]
  },
  {
   "cell_type": "code",
   "execution_count": 4,
   "metadata": {},
   "outputs": [],
   "source": [
    "mean_values = df1.describe().loc['mean']\n",
    "mean_gpt1 = mean_values.tolist()\n",
    "#mean_gpt=normalized_values = normalize([mean_gpt1], norm='max')[0].tolist()\n",
    "mean_values1 = df2.describe().loc['mean']\n",
    "mean_human1 = mean_values1.tolist()\n",
    "#mean_human=normalized_values = normalize([mean_human1], norm='max')[0].tolist()"
   ]
  },
  {
   "cell_type": "code",
   "execution_count": 7,
   "metadata": {},
   "outputs": [
    {
     "name": "stdout",
     "output_type": "stream",
     "text": [
      "Original Data: [4.453333333333333, 326.81333333333333, 16.24, 20.9809720315479, 38.086666666666666, 9.806666666666667, 11.058091962329005, 192.43333333333334, 0.5185843700371836, 0.26448699406155424, 0.14453495181475123, 0.10190696670762002, 0.03913858861935144, 0.02557804871392434, 8.513333333333334, 0.054973955813610094, 0.7533333333333333, 1.3333333333333333, 5.8954933333333335, 0.5185843700371836, 322.74666666666667, 134.63659900961997, 1.5066666666666666, -0.10723351548608787, 134.5293654941339, 11.424666666666667, 13.397333333333336, 12.129133333333332, 4.237261895761158, 0.13057999999999997, 0.0715, 0.7978999999999999, 44.9, 3.1933333333333334, 0.0]\n",
      "Normalized Data (Z-scores): [-0.402789374388028, 3.495526349413448, -0.2602526204549302, -0.20291980677864838, 0.003940220404097714, -0.3380512446322149, -0.32291769547213484, 1.8704622379714502, -0.4503724918741582, -0.4534453042458621, -0.4548958903371663, -0.4554113927091018, -0.4561704538682375, -0.45633444216063285, -0.3536915898036068, -0.45597895597480925, -0.44753366083195856, -0.4405196916056126, -0.3853492608372228, -0.4503724918741582, 3.446347944493092, 1.1715234174028057, -0.4384235628713024, -0.45794053909891175, 1.1702266370965089, -0.318484689100788, -0.29462913169761845, -0.3099655382025355, -0.40540233717048235, -0.4550646482726556, -0.4557791056897117, -0.446994713886233, 0.08633420372967797, -0.4180266178797448, -0.45664375879261465]\n"
     ]
    }
   ],
   "source": [
    "import numpy as np\n",
    "\n",
    "def normalize_to_z_score(data):\n",
    "    # Calculate mean and standard deviation\n",
    "    mean_value = np.mean(data)\n",
    "    std_dev = np.std(data)\n",
    "\n",
    "    # Normalize each value to z-score\n",
    "    normalized_data = [(x - mean_value) / std_dev for x in data]\n",
    "\n",
    "    return normalized_data\n",
    "\n",
    "# Example usage\n",
    "normalized_data2 = normalize_to_z_score(mean_human1)\n",
    "\n",
    "print(\"Original Data:\", mean_human1)\n",
    "print(\"Normalized Data (Z-scores):\", normalized_data2)"
   ]
  },
  {
   "cell_type": "code",
   "execution_count": 6,
   "metadata": {},
   "outputs": [
    {
     "data": {
      "text/plain": [
       "[-0.38738238952335463,\n",
       " 3.5573071865531793,\n",
       " -0.2424109860449208,\n",
       " -0.2497841941415003,\n",
       " -0.1313732414014751,\n",
       " -0.3462427413604733,\n",
       " -0.3561999524206599,\n",
       " 1.6857152311176378,\n",
       " -0.44080513198497806,\n",
       " -0.4422058360400889,\n",
       " -0.4436637285533741,\n",
       " -0.44406754698402595,\n",
       " -0.4450088927257411,\n",
       " -0.444973613161405,\n",
       " -0.315650041213872,\n",
       " -0.4446505856731153,\n",
       " -0.3862032276333357,\n",
       " -0.42236419226058175,\n",
       " -0.3851379203746976,\n",
       " -0.44080513198497806,\n",
       " 3.53536167360005,\n",
       " 1.120755881956913,\n",
       " -0.4367761709163682,\n",
       " -0.44567340248084186,\n",
       " 1.1203093106042412,\n",
       " -0.3133506755283351,\n",
       " -0.291234839191092,\n",
       " -0.29421811877283977,\n",
       " -0.4039295046757605,\n",
       " -0.44355170064541066,\n",
       " -0.44460056514658247,\n",
       " -0.4377018130000331,\n",
       " 0.13721363354727253,\n",
       " -0.44129629149477395,\n",
       " -0.4354004820446795]"
      ]
     },
     "execution_count": 6,
     "metadata": {},
     "output_type": "execute_result"
    }
   ],
   "source": [
    "normalized_data"
   ]
  },
  {
   "cell_type": "code",
   "execution_count": 9,
   "metadata": {},
   "outputs": [
    {
     "data": {
      "text/plain": [
       "[-0.402789374388028,\n",
       " 3.495526349413448,\n",
       " -0.2602526204549302,\n",
       " -0.20291980677864838,\n",
       " 0.003940220404097714,\n",
       " -0.3380512446322149,\n",
       " -0.32291769547213484,\n",
       " 1.8704622379714502,\n",
       " -0.4503724918741582,\n",
       " -0.4534453042458621,\n",
       " -0.4548958903371663,\n",
       " -0.4554113927091018,\n",
       " -0.4561704538682375,\n",
       " -0.45633444216063285,\n",
       " -0.3536915898036068,\n",
       " -0.45597895597480925,\n",
       " -0.44753366083195856,\n",
       " -0.4405196916056126,\n",
       " -0.3853492608372228,\n",
       " -0.4503724918741582,\n",
       " 3.446347944493092,\n",
       " 1.1715234174028057,\n",
       " -0.4384235628713024,\n",
       " -0.45794053909891175,\n",
       " 1.1702266370965089,\n",
       " -0.318484689100788,\n",
       " -0.29462913169761845,\n",
       " -0.3099655382025355,\n",
       " -0.40540233717048235,\n",
       " -0.4550646482726556,\n",
       " -0.4557791056897117,\n",
       " -0.446994713886233,\n",
       " 0.08633420372967797,\n",
       " -0.4180266178797448,\n",
       " -0.45664375879261465]"
      ]
     },
     "execution_count": 9,
     "metadata": {},
     "output_type": "execute_result"
    }
   ],
   "source": [
    "normalized_data2"
   ]
  },
  {
   "cell_type": "code",
   "execution_count": null,
   "metadata": {},
   "outputs": [],
   "source": [
    "mean_values = df1.describe().loc['mean']\n",
    "mean_gpt1 = mean_values.tolist()\n",
    "mean_gpt=normalized_values = normalize([mean_gpt1], norm='max')[0].tolist()\n",
    "mean_values1 = df2.describe().loc['mean']\n",
    "mean_human1 = mean_values1.tolist()\n",
    "mean_human=normalized_values = normalize([mean_human1], norm='max')[0].tolist()\n",
    "# Generate index values for the bar chart\n",
    "\n",
    "indices = np.arange(len(mean_gpt))\n",
    "\n",
    "# Plotting for each pair of indices on the same diagram\n",
    "fig1, ax = plt.subplots(figsize=(20, 15))\n",
    "\n",
    "width = 0.45  # Width of the bars\n",
    "color1 = 'lightblue'\n",
    "color2 = 'lightcoral'\n",
    "for i, column in enumerate(df1.columns[1:35]):\n",
    "    bar1 = ax.bar(i - width/2, mean_gpt[i], width, color=color1, alpha=0.7, edgecolor='black')\n",
    "    bar2 = ax.bar(i + width/2, mean_human[i], width, color=color2, alpha=0.7, edgecolor='black')\n",
    "\n",
    "    #annotation_height = max(df1[column]) + 0.05\n",
    "    #ax.annotate(column, (34, annotation_height), ha='center', va='center', color='black')\n",
    "\n",
    "# Add labels and legend\n",
    "ax.set_xlabel('Index')\n",
    "ax.set_ylabel('Values')\n",
    "ax.set_title('Bar Chart for Each Pair of Indices')\n",
    "ax.set_xticks(indices)\n",
    "ax.set_xticklabels(indices)\n",
    "ax.legend()\n",
    "# Show the plot\n",
    "plt.show()"
   ]
  }
 ],
 "metadata": {
  "kernelspec": {
   "display_name": "es_env",
   "language": "python",
   "name": "python3"
  },
  "language_info": {
   "codemirror_mode": {
    "name": "ipython",
    "version": 3
   },
   "file_extension": ".py",
   "mimetype": "text/x-python",
   "name": "python",
   "nbconvert_exporter": "python",
   "pygments_lexer": "ipython3",
   "version": "3.9.12"
  }
 },
 "nbformat": 4,
 "nbformat_minor": 2
}
